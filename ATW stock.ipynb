{
 "cells": [
  {
   "cell_type": "code",
   "execution_count": 1,
   "id": "6e24109c",
   "metadata": {},
   "outputs": [],
   "source": [
    "import pandas as pd"
   ]
  },
  {
   "cell_type": "code",
   "execution_count": 2,
   "id": "542102f9",
   "metadata": {},
   "outputs": [],
   "source": [
    "atw = pd.read_csv('ATW2025-08-14.csv')"
   ]
  },
  {
   "cell_type": "code",
   "execution_count": 3,
   "id": "ac349cd2",
   "metadata": {},
   "outputs": [
    {
     "data": {
      "application/vnd.microsoft.datawrangler.viewer.v0+json": {
       "columns": [
        {
         "name": "index",
         "rawType": "int64",
         "type": "integer"
        },
        {
         "name": "Séance",
         "rawType": "object",
         "type": "string"
        },
        {
         "name": "Instrument",
         "rawType": "object",
         "type": "string"
        },
        {
         "name": "Ticker",
         "rawType": "object",
         "type": "string"
        },
        {
         "name": "Ouverture",
         "rawType": "object",
         "type": "string"
        },
        {
         "name": "Dernier_Cours",
         "rawType": "object",
         "type": "string"
        },
        {
         "name": "+haut_du_jour",
         "rawType": "object",
         "type": "string"
        },
        {
         "name": "+bas du jour",
         "rawType": "object",
         "type": "string"
        },
        {
         "name": "Nombre_de_titres_échangés",
         "rawType": "object",
         "type": "string"
        },
        {
         "name": "Volume_des_échanges",
         "rawType": "object",
         "type": "string"
        },
        {
         "name": "Nombre_de_transactions",
         "rawType": "int64",
         "type": "integer"
        },
        {
         "name": "Capitalisation",
         "rawType": "object",
         "type": "string"
        }
       ],
       "ref": "c40daad1-4092-4aa2-b1a6-1ad2126c4e9e",
       "rows": [
        [
         "0",
         "13/08/2025",
         "ATTIJARIWAFA BANK",
         "ATW",
         "760,00",
         "765,00",
         "769,00",
         "754,00",
         "45 577",
         "34 678 063,20",
         "108",
         "164 582 741 835,00"
        ],
        [
         "1",
         "12/08/2025",
         "ATTIJARIWAFA BANK",
         "ATW",
         "770,00",
         "768,00",
         "770,00",
         "767,00",
         "14 157",
         "10 873 921,30",
         "77",
         "165 228 164 352,00"
        ],
        [
         "2",
         "11/08/2025",
         "ATTIJARIWAFA BANK",
         "ATW",
         "777,90",
         "768,90",
         "777,90",
         "768,90",
         "14 504",
         "11 201 735,10",
         "83",
         "165 421 791 107,10"
        ],
        [
         "3",
         "08/08/2025",
         "ATTIJARIWAFA BANK",
         "ATW",
         "779,90",
         "767,90",
         "790,00",
         "767,90",
         "81 756",
         "63 422 721,90",
         "175",
         "165 206 650 268,10"
        ],
        [
         "4",
         "07/08/2025",
         "ATTIJARIWAFA BANK",
         "ATW",
         "767,00",
         "769,70",
         "775,00",
         "760,00",
         "35 695",
         "27 475 109,30",
         "101",
         "165 593 903 778,30"
        ],
        [
         "5",
         "06/08/2025",
         "ATTIJARIWAFA BANK",
         "ATW",
         "752,00",
         "767,90",
         "767,90",
         "750,00",
         "133 561",
         "100 837 270,10",
         "137",
         "165 206 650 268,10"
        ],
        [
         "6",
         "05/08/2025",
         "ATTIJARIWAFA BANK",
         "ATW",
         "747,50",
         "753,00",
         "754,00",
         "747,50",
         "49 944",
         "37 464 712,00",
         "71",
         "162 001 051 767,00"
        ],
        [
         "7",
         "04/08/2025",
         "ATTIJARIWAFA BANK",
         "ATW",
         "750,00",
         "750,00",
         "750,00",
         "743,00",
         "28 909",
         "21 641 684,20",
         "131",
         "161 355 629 250,00"
        ],
        [
         "8",
         "01/08/2025",
         "ATTIJARIWAFA BANK",
         "ATW",
         "765,00",
         "750,00",
         "765,00",
         "750,00",
         "23 320",
         "17 644 908,10",
         "78",
         "161 355 629 250,00"
        ],
        [
         "9",
         "31/07/2025",
         "ATTIJARIWAFA BANK",
         "ATW",
         "736,00",
         "750,00",
         "755,00",
         "736,00",
         "78 619",
         "58 760 074,80",
         "204",
         "161 355 629 250,00"
        ],
        [
         "10",
         "29/07/2025",
         "ATTIJARIWAFA BANK",
         "ATW",
         "725,10",
         "740,00",
         "740,00",
         "725,10",
         "100 075",
         "73 211 589,70",
         "110",
         "159 204 220 860,00"
        ],
        [
         "11",
         "28/07/2025",
         "ATTIJARIWAFA BANK",
         "ATW",
         "730,00",
         "726,00",
         "733,90",
         "722,00",
         "33 349",
         "24 212 316,10",
         "98",
         "156 192 249 114,00"
        ],
        [
         "12",
         "25/07/2025",
         "ATTIJARIWAFA BANK",
         "ATW",
         "733,50",
         "735,00",
         "740,00",
         "721,00",
         "83 606",
         "61 357 357,30",
         "139",
         "158 128 516 665,00"
        ],
        [
         "13",
         "24/07/2025",
         "ATTIJARIWAFA BANK",
         "ATW",
         "710,00",
         "730,00",
         "730,00",
         "707,00",
         "61 264",
         "43 943 028,60",
         "109",
         "157 052 812 470,00"
        ],
        [
         "14",
         "23/07/2025",
         "ATTIJARIWAFA BANK",
         "ATW",
         "707,00",
         "710,00",
         "710,00",
         "707,00",
         "26 508",
         "18 775 892,10",
         "75",
         "152 749 995 690,00"
        ],
        [
         "15",
         "22/07/2025",
         "ATTIJARIWAFA BANK",
         "ATW",
         "710,50",
         "710,90",
         "717,00",
         "710,00",
         "63 456",
         "45 069 818,50",
         "75",
         "152 943 622 445,10"
        ],
        [
         "16",
         "21/07/2025",
         "ATTIJARIWAFA BANK",
         "ATW",
         "724,90",
         "718,00",
         "724,90",
         "705,00",
         "5 101",
         "3 665 980,90",
         "55",
         "154 471 122 402,00"
        ],
        [
         "17",
         "18/07/2025",
         "ATTIJARIWAFA BANK",
         "ATW",
         "691,20",
         "725,00",
         "725,00",
         "690,20",
         "87 773",
         "62 320 850,60",
         "129",
         "155 977 108 275,00"
        ],
        [
         "18",
         "17/07/2025",
         "ATTIJARIWAFA BANK",
         "ATW",
         "700,00",
         "700,00",
         "700,00",
         "688,00",
         "34 766",
         "24 318 794,00",
         "89",
         "150 598 587 300,00"
        ],
        [
         "19",
         "16/07/2025",
         "ATTIJARIWAFA BANK",
         "ATW",
         "699,90",
         "700,00",
         "700,00",
         "695,00",
         "5 629",
         "3 928 013,10",
         "56",
         "150 598 587 300,00"
        ],
        [
         "20",
         "15/07/2025",
         "ATTIJARIWAFA BANK",
         "ATW",
         "695,30",
         "699,80",
         "700,00",
         "695,10",
         "26 403",
         "18 451 455,90",
         "83",
         "150 555 559 132,20"
        ],
        [
         "21",
         "14/07/2025",
         "ATTIJARIWAFA BANK",
         "ATW",
         "697,80",
         "700,00",
         "700,00",
         "696,60",
         "23 549",
         "16 475 756,10",
         "83",
         "150 598 587 300,00"
        ],
        [
         "22",
         "11/07/2025",
         "ATTIJARIWAFA BANK",
         "ATW",
         "696,90",
         "700,90",
         "700,90",
         "696,30",
         "59 900",
         "41 941 792,50",
         "123",
         "150 792 214 055,10"
        ],
        [
         "23",
         "10/07/2025",
         "ATTIJARIWAFA BANK",
         "ATW",
         "697,50",
         "700,00",
         "700,00",
         "697,00",
         "66 429",
         "46 475 505,10",
         "92",
         "150 598 587 300,00"
        ],
        [
         "24",
         "09/07/2025",
         "ATTIJARIWAFA BANK",
         "ATW",
         "700,00",
         "699,80",
         "701,00",
         "695,30",
         "29 339",
         "20 524 086,90",
         "85",
         "150 555 559 132,20"
        ],
        [
         "25",
         "08/07/2025",
         "ATTIJARIWAFA BANK",
         "ATW",
         "700,00",
         "700,00",
         "700,50",
         "695,10",
         "54 772",
         "38 329 405,90",
         "163",
         "150 598 587 300,00"
        ],
        [
         "26",
         "07/07/2025",
         "ATTIJARIWAFA BANK",
         "ATW",
         "683,10",
         "700,00",
         "700,00",
         "683,10",
         "110 002",
         "76 672 286,80",
         "168",
         "150 598 587 300,00"
        ],
        [
         "27",
         "04/07/2025",
         "ATTIJARIWAFA BANK",
         "ATW",
         "680,00",
         "693,00",
         "693,00",
         "680,00",
         "29 849",
         "20 617 155,10",
         "93",
         "149 092 601 427,00"
        ],
        [
         "28",
         "03/07/2025",
         "ATTIJARIWAFA BANK",
         "ATW",
         "682,00",
         "690,00",
         "690,00",
         "682,00",
         "27 530",
         "18 872 911,20",
         "67",
         "148 447 178 910,00"
        ],
        [
         "29",
         "02/07/2025",
         "ATTIJARIWAFA BANK",
         "ATW",
         "678,00",
         "682,00",
         "684,00",
         "675,00",
         "4 181",
         "2 842 730,70",
         "44",
         "146 726 052 198,00"
        ],
        [
         "30",
         "01/07/2025",
         "ATTIJARIWAFA BANK",
         "ATW",
         "685,00",
         "682,00",
         "685,00",
         "678,00",
         "5 880",
         "4 003 029,00",
         "42",
         "146 726 052 198,00"
        ],
        [
         "31",
         "30/06/2025",
         "ATTIJARIWAFA BANK",
         "ATW",
         "680,00",
         "680,00",
         "690,00",
         "680,00",
         "78 071",
         "53 097 220,60",
         "82",
         "146 295 770 520,00"
        ],
        [
         "32",
         "26/06/2025",
         "ATTIJARIWAFA BANK",
         "ATW",
         "685,00",
         "693,00",
         "693,00",
         "681,10",
         "350 287",
         "240 259 876,70",
         "133",
         "149 092 601 427,00"
        ],
        [
         "33",
         "25/06/2025",
         "ATTIJARIWAFA BANK",
         "ATW",
         "675,00",
         "685,20",
         "686,00",
         "675,00",
         "28 591",
         "19 522 006,60",
         "90",
         "147 414 502 882,80"
        ],
        [
         "34",
         "24/06/2025",
         "ATTIJARIWAFA BANK",
         "ATW",
         "670,00",
         "680,00",
         "681,00",
         "670,00",
         "57 446",
         "39 006 767,20",
         "112",
         "146 295 770 520,00"
        ],
        [
         "35",
         "23/06/2025",
         "ATTIJARIWAFA BANK",
         "ATW",
         "660,00",
         "660,00",
         "670,00",
         "659,90",
         "44 785",
         "29 605 278,10",
         "78",
         "141 992 953 740,00"
        ],
        [
         "36",
         "20/06/2025",
         "ATTIJARIWAFA BANK",
         "ATW",
         "661,00",
         "665,00",
         "680,00",
         "661,00",
         "83 724",
         "55 886 923,60",
         "114",
         "143 068 657 935,00"
        ],
        [
         "37",
         "19/06/2025",
         "ATTIJARIWAFA BANK",
         "ATW",
         "663,00",
         "658,00",
         "665,00",
         "656,10",
         "106 595",
         "70 196 118,60",
         "144",
         "141 562 672 062,00"
        ],
        [
         "38",
         "18/06/2025",
         "ATTIJARIWAFA BANK",
         "ATW",
         "670,00",
         "663,00",
         "670,60",
         "663,00",
         "38 578",
         "25 719 917,60",
         "152",
         "142 638 376 257,00"
        ],
        [
         "39",
         "17/06/2025",
         "ATTIJARIWAFA BANK",
         "ATW",
         "675,30",
         "671,50",
         "676,00",
         "671,10",
         "58 647",
         "39 557 358,70",
         "105",
         "144 467 073 388,50"
        ],
        [
         "40",
         "16/06/2025",
         "ATTIJARIWAFA BANK",
         "ATW",
         "677,00",
         "676,10",
         "680,00",
         "671,00",
         "12 399",
         "8 368 031,20",
         "66",
         "145 456 721 247,90"
        ],
        [
         "41",
         "13/06/2025",
         "ATTIJARIWAFA BANK",
         "ATW",
         "671,00",
         "686,00",
         "686,00",
         "671,00",
         "52 986",
         "35 774 975,70",
         "148",
         "147 586 615 554,00"
        ],
        [
         "42",
         "12/06/2025",
         "ATTIJARIWAFA BANK",
         "ATW",
         "680,00",
         "684,20",
         "685,00",
         "680,00",
         "67 176",
         "45 927 080,00",
         "88",
         "147 199 362 043,80"
        ],
        [
         "43",
         "11/06/2025",
         "ATTIJARIWAFA BANK",
         "ATW",
         "687,00",
         "682,50",
         "689,00",
         "680,00",
         "43 827",
         "29 890 888,30",
         "57",
         "146 833 622 617,50"
        ],
        [
         "44",
         "10/06/2025",
         "ATTIJARIWAFA BANK",
         "ATW",
         "673,00",
         "680,00",
         "693,00",
         "672,20",
         "28 057",
         "19 055 106,90",
         "73",
         "146 295 770 520,00"
        ],
        [
         "45",
         "06/06/2025",
         "ATTIJARIWAFA BANK",
         "ATW",
         "685,00",
         "671,60",
         "689,00",
         "671,60",
         "45 267",
         "30 687 602,70",
         "92",
         "144 488 587 472,40"
        ],
        [
         "46",
         "05/06/2025",
         "ATTIJARIWAFA BANK",
         "ATW",
         "683,00",
         "683,50",
         "695,00",
         "683,00",
         "9 616",
         "6 579 391,20",
         "76",
         "147 048 763 456,50"
        ],
        [
         "47",
         "04/06/2025",
         "ATTIJARIWAFA BANK",
         "ATW",
         "675,00",
         "682,00",
         "690,00",
         "675,00",
         "80 130",
         "54 666 148,40",
         "103",
         "146 726 052 198,00"
        ],
        [
         "48",
         "03/06/2025",
         "ATTIJARIWAFA BANK",
         "ATW",
         "672,00",
         "675,00",
         "676,00",
         "670,00",
         "87 260",
         "58 873 332,30",
         "88",
         "145 220 066 325,00"
        ],
        [
         "49",
         "02/06/2025",
         "ATTIJARIWAFA BANK",
         "ATW",
         "670,00",
         "670,00",
         "672,00",
         "662,10",
         "2 609",
         "1 740 446,60",
         "49",
         "144 144 362 130,00"
        ]
       ],
       "shape": {
        "columns": 11,
        "rows": 746
       }
      },
      "text/html": [
       "<div>\n",
       "<style scoped>\n",
       "    .dataframe tbody tr th:only-of-type {\n",
       "        vertical-align: middle;\n",
       "    }\n",
       "\n",
       "    .dataframe tbody tr th {\n",
       "        vertical-align: top;\n",
       "    }\n",
       "\n",
       "    .dataframe thead th {\n",
       "        text-align: right;\n",
       "    }\n",
       "</style>\n",
       "<table border=\"1\" class=\"dataframe\">\n",
       "  <thead>\n",
       "    <tr style=\"text-align: right;\">\n",
       "      <th></th>\n",
       "      <th>Séance</th>\n",
       "      <th>Instrument</th>\n",
       "      <th>Ticker</th>\n",
       "      <th>Ouverture</th>\n",
       "      <th>Dernier_Cours</th>\n",
       "      <th>+haut_du_jour</th>\n",
       "      <th>+bas du jour</th>\n",
       "      <th>Nombre_de_titres_échangés</th>\n",
       "      <th>Volume_des_échanges</th>\n",
       "      <th>Nombre_de_transactions</th>\n",
       "      <th>Capitalisation</th>\n",
       "    </tr>\n",
       "  </thead>\n",
       "  <tbody>\n",
       "    <tr>\n",
       "      <th>0</th>\n",
       "      <td>13/08/2025</td>\n",
       "      <td>ATTIJARIWAFA BANK</td>\n",
       "      <td>ATW</td>\n",
       "      <td>760,00</td>\n",
       "      <td>765,00</td>\n",
       "      <td>769,00</td>\n",
       "      <td>754,00</td>\n",
       "      <td>45 577</td>\n",
       "      <td>34 678 063,20</td>\n",
       "      <td>108</td>\n",
       "      <td>164 582 741 835,00</td>\n",
       "    </tr>\n",
       "    <tr>\n",
       "      <th>1</th>\n",
       "      <td>12/08/2025</td>\n",
       "      <td>ATTIJARIWAFA BANK</td>\n",
       "      <td>ATW</td>\n",
       "      <td>770,00</td>\n",
       "      <td>768,00</td>\n",
       "      <td>770,00</td>\n",
       "      <td>767,00</td>\n",
       "      <td>14 157</td>\n",
       "      <td>10 873 921,30</td>\n",
       "      <td>77</td>\n",
       "      <td>165 228 164 352,00</td>\n",
       "    </tr>\n",
       "    <tr>\n",
       "      <th>2</th>\n",
       "      <td>11/08/2025</td>\n",
       "      <td>ATTIJARIWAFA BANK</td>\n",
       "      <td>ATW</td>\n",
       "      <td>777,90</td>\n",
       "      <td>768,90</td>\n",
       "      <td>777,90</td>\n",
       "      <td>768,90</td>\n",
       "      <td>14 504</td>\n",
       "      <td>11 201 735,10</td>\n",
       "      <td>83</td>\n",
       "      <td>165 421 791 107,10</td>\n",
       "    </tr>\n",
       "    <tr>\n",
       "      <th>3</th>\n",
       "      <td>08/08/2025</td>\n",
       "      <td>ATTIJARIWAFA BANK</td>\n",
       "      <td>ATW</td>\n",
       "      <td>779,90</td>\n",
       "      <td>767,90</td>\n",
       "      <td>790,00</td>\n",
       "      <td>767,90</td>\n",
       "      <td>81 756</td>\n",
       "      <td>63 422 721,90</td>\n",
       "      <td>175</td>\n",
       "      <td>165 206 650 268,10</td>\n",
       "    </tr>\n",
       "    <tr>\n",
       "      <th>4</th>\n",
       "      <td>07/08/2025</td>\n",
       "      <td>ATTIJARIWAFA BANK</td>\n",
       "      <td>ATW</td>\n",
       "      <td>767,00</td>\n",
       "      <td>769,70</td>\n",
       "      <td>775,00</td>\n",
       "      <td>760,00</td>\n",
       "      <td>35 695</td>\n",
       "      <td>27 475 109,30</td>\n",
       "      <td>101</td>\n",
       "      <td>165 593 903 778,30</td>\n",
       "    </tr>\n",
       "    <tr>\n",
       "      <th>...</th>\n",
       "      <td>...</td>\n",
       "      <td>...</td>\n",
       "      <td>...</td>\n",
       "      <td>...</td>\n",
       "      <td>...</td>\n",
       "      <td>...</td>\n",
       "      <td>...</td>\n",
       "      <td>...</td>\n",
       "      <td>...</td>\n",
       "      <td>...</td>\n",
       "      <td>...</td>\n",
       "    </tr>\n",
       "    <tr>\n",
       "      <th>741</th>\n",
       "      <td>19/08/2022</td>\n",
       "      <td>ATTIJARIWAFA BANK</td>\n",
       "      <td>ATW</td>\n",
       "      <td>443,50</td>\n",
       "      <td>445,00</td>\n",
       "      <td>445,00</td>\n",
       "      <td>440,10</td>\n",
       "      <td>11 034</td>\n",
       "      <td>4 889 606,00</td>\n",
       "      <td>41</td>\n",
       "      <td>95 737 673 355,00</td>\n",
       "    </tr>\n",
       "    <tr>\n",
       "      <th>742</th>\n",
       "      <td>18/08/2022</td>\n",
       "      <td>ATTIJARIWAFA BANK</td>\n",
       "      <td>ATW</td>\n",
       "      <td>449,95</td>\n",
       "      <td>443,50</td>\n",
       "      <td>449,95</td>\n",
       "      <td>442,60</td>\n",
       "      <td>14 888</td>\n",
       "      <td>6 638 237,05</td>\n",
       "      <td>33</td>\n",
       "      <td>95 414 962 096,50</td>\n",
       "    </tr>\n",
       "    <tr>\n",
       "      <th>743</th>\n",
       "      <td>17/08/2022</td>\n",
       "      <td>ATTIJARIWAFA BANK</td>\n",
       "      <td>ATW</td>\n",
       "      <td>450,20</td>\n",
       "      <td>448,00</td>\n",
       "      <td>450,20</td>\n",
       "      <td>443,30</td>\n",
       "      <td>19 085</td>\n",
       "      <td>8 588 389,70</td>\n",
       "      <td>18</td>\n",
       "      <td>96 383 095 872,00</td>\n",
       "    </tr>\n",
       "    <tr>\n",
       "      <th>744</th>\n",
       "      <td>16/08/2022</td>\n",
       "      <td>ATTIJARIWAFA BANK</td>\n",
       "      <td>ATW</td>\n",
       "      <td>448,00</td>\n",
       "      <td>450,10</td>\n",
       "      <td>450,10</td>\n",
       "      <td>445,00</td>\n",
       "      <td>14 134</td>\n",
       "      <td>6 360 339,70</td>\n",
       "      <td>30</td>\n",
       "      <td>96 834 891 633,90</td>\n",
       "    </tr>\n",
       "    <tr>\n",
       "      <th>745</th>\n",
       "      <td>15/08/2022</td>\n",
       "      <td>ATTIJARIWAFA BANK</td>\n",
       "      <td>ATW</td>\n",
       "      <td>446,00</td>\n",
       "      <td>448,00</td>\n",
       "      <td>449,00</td>\n",
       "      <td>442,00</td>\n",
       "      <td>11 135</td>\n",
       "      <td>4 983 215,15</td>\n",
       "      <td>25</td>\n",
       "      <td>96 383 095 872,00</td>\n",
       "    </tr>\n",
       "  </tbody>\n",
       "</table>\n",
       "<p>746 rows × 11 columns</p>\n",
       "</div>"
      ],
      "text/plain": [
       "         Séance         Instrument Ticker Ouverture Dernier_Cours  \\\n",
       "0    13/08/2025  ATTIJARIWAFA BANK    ATW    760,00        765,00   \n",
       "1    12/08/2025  ATTIJARIWAFA BANK    ATW    770,00        768,00   \n",
       "2    11/08/2025  ATTIJARIWAFA BANK    ATW    777,90        768,90   \n",
       "3    08/08/2025  ATTIJARIWAFA BANK    ATW    779,90        767,90   \n",
       "4    07/08/2025  ATTIJARIWAFA BANK    ATW    767,00        769,70   \n",
       "..          ...                ...    ...       ...           ...   \n",
       "741  19/08/2022  ATTIJARIWAFA BANK    ATW    443,50        445,00   \n",
       "742  18/08/2022  ATTIJARIWAFA BANK    ATW    449,95        443,50   \n",
       "743  17/08/2022  ATTIJARIWAFA BANK    ATW    450,20        448,00   \n",
       "744  16/08/2022  ATTIJARIWAFA BANK    ATW    448,00        450,10   \n",
       "745  15/08/2022  ATTIJARIWAFA BANK    ATW    446,00        448,00   \n",
       "\n",
       "    +haut_du_jour +bas du jour Nombre_de_titres_échangés Volume_des_échanges  \\\n",
       "0          769,00       754,00                    45 577       34 678 063,20   \n",
       "1          770,00       767,00                    14 157       10 873 921,30   \n",
       "2          777,90       768,90                    14 504       11 201 735,10   \n",
       "3          790,00       767,90                    81 756       63 422 721,90   \n",
       "4          775,00       760,00                    35 695       27 475 109,30   \n",
       "..            ...          ...                       ...                 ...   \n",
       "741        445,00       440,10                    11 034        4 889 606,00   \n",
       "742        449,95       442,60                    14 888        6 638 237,05   \n",
       "743        450,20       443,30                    19 085        8 588 389,70   \n",
       "744        450,10       445,00                    14 134        6 360 339,70   \n",
       "745        449,00       442,00                    11 135        4 983 215,15   \n",
       "\n",
       "     Nombre_de_transactions      Capitalisation  \n",
       "0                       108  164 582 741 835,00  \n",
       "1                        77  165 228 164 352,00  \n",
       "2                        83  165 421 791 107,10  \n",
       "3                       175  165 206 650 268,10  \n",
       "4                       101  165 593 903 778,30  \n",
       "..                      ...                 ...  \n",
       "741                      41   95 737 673 355,00  \n",
       "742                      33   95 414 962 096,50  \n",
       "743                      18   96 383 095 872,00  \n",
       "744                      30   96 834 891 633,90  \n",
       "745                      25   96 383 095 872,00  \n",
       "\n",
       "[746 rows x 11 columns]"
      ]
     },
     "execution_count": 3,
     "metadata": {},
     "output_type": "execute_result"
    }
   ],
   "source": [
    "atw"
   ]
  },
  {
   "cell_type": "code",
   "execution_count": 4,
   "id": "1ef5781a",
   "metadata": {},
   "outputs": [],
   "source": [
    "df = atw[['Séance','Ouverture','Dernier_Cours','Ticker']]"
   ]
  },
  {
   "cell_type": "code",
   "execution_count": 5,
   "id": "cd76b94a",
   "metadata": {},
   "outputs": [
    {
     "data": {
      "application/vnd.microsoft.datawrangler.viewer.v0+json": {
       "columns": [
        {
         "name": "index",
         "rawType": "int64",
         "type": "integer"
        },
        {
         "name": "Séance",
         "rawType": "object",
         "type": "string"
        },
        {
         "name": "Ouverture",
         "rawType": "object",
         "type": "string"
        },
        {
         "name": "Dernier_Cours",
         "rawType": "object",
         "type": "string"
        },
        {
         "name": "Ticker",
         "rawType": "object",
         "type": "string"
        }
       ],
       "ref": "6f71dcc4-37c1-4bdd-afca-38037bce3034",
       "rows": [
        [
         "0",
         "13/08/2025",
         "760,00",
         "765,00",
         "ATW"
        ],
        [
         "1",
         "12/08/2025",
         "770,00",
         "768,00",
         "ATW"
        ],
        [
         "2",
         "11/08/2025",
         "777,90",
         "768,90",
         "ATW"
        ],
        [
         "3",
         "08/08/2025",
         "779,90",
         "767,90",
         "ATW"
        ],
        [
         "4",
         "07/08/2025",
         "767,00",
         "769,70",
         "ATW"
        ],
        [
         "5",
         "06/08/2025",
         "752,00",
         "767,90",
         "ATW"
        ],
        [
         "6",
         "05/08/2025",
         "747,50",
         "753,00",
         "ATW"
        ],
        [
         "7",
         "04/08/2025",
         "750,00",
         "750,00",
         "ATW"
        ],
        [
         "8",
         "01/08/2025",
         "765,00",
         "750,00",
         "ATW"
        ],
        [
         "9",
         "31/07/2025",
         "736,00",
         "750,00",
         "ATW"
        ],
        [
         "10",
         "29/07/2025",
         "725,10",
         "740,00",
         "ATW"
        ],
        [
         "11",
         "28/07/2025",
         "730,00",
         "726,00",
         "ATW"
        ],
        [
         "12",
         "25/07/2025",
         "733,50",
         "735,00",
         "ATW"
        ],
        [
         "13",
         "24/07/2025",
         "710,00",
         "730,00",
         "ATW"
        ],
        [
         "14",
         "23/07/2025",
         "707,00",
         "710,00",
         "ATW"
        ],
        [
         "15",
         "22/07/2025",
         "710,50",
         "710,90",
         "ATW"
        ],
        [
         "16",
         "21/07/2025",
         "724,90",
         "718,00",
         "ATW"
        ],
        [
         "17",
         "18/07/2025",
         "691,20",
         "725,00",
         "ATW"
        ],
        [
         "18",
         "17/07/2025",
         "700,00",
         "700,00",
         "ATW"
        ],
        [
         "19",
         "16/07/2025",
         "699,90",
         "700,00",
         "ATW"
        ],
        [
         "20",
         "15/07/2025",
         "695,30",
         "699,80",
         "ATW"
        ],
        [
         "21",
         "14/07/2025",
         "697,80",
         "700,00",
         "ATW"
        ],
        [
         "22",
         "11/07/2025",
         "696,90",
         "700,90",
         "ATW"
        ],
        [
         "23",
         "10/07/2025",
         "697,50",
         "700,00",
         "ATW"
        ],
        [
         "24",
         "09/07/2025",
         "700,00",
         "699,80",
         "ATW"
        ],
        [
         "25",
         "08/07/2025",
         "700,00",
         "700,00",
         "ATW"
        ],
        [
         "26",
         "07/07/2025",
         "683,10",
         "700,00",
         "ATW"
        ],
        [
         "27",
         "04/07/2025",
         "680,00",
         "693,00",
         "ATW"
        ],
        [
         "28",
         "03/07/2025",
         "682,00",
         "690,00",
         "ATW"
        ],
        [
         "29",
         "02/07/2025",
         "678,00",
         "682,00",
         "ATW"
        ],
        [
         "30",
         "01/07/2025",
         "685,00",
         "682,00",
         "ATW"
        ],
        [
         "31",
         "30/06/2025",
         "680,00",
         "680,00",
         "ATW"
        ],
        [
         "32",
         "26/06/2025",
         "685,00",
         "693,00",
         "ATW"
        ],
        [
         "33",
         "25/06/2025",
         "675,00",
         "685,20",
         "ATW"
        ],
        [
         "34",
         "24/06/2025",
         "670,00",
         "680,00",
         "ATW"
        ],
        [
         "35",
         "23/06/2025",
         "660,00",
         "660,00",
         "ATW"
        ],
        [
         "36",
         "20/06/2025",
         "661,00",
         "665,00",
         "ATW"
        ],
        [
         "37",
         "19/06/2025",
         "663,00",
         "658,00",
         "ATW"
        ],
        [
         "38",
         "18/06/2025",
         "670,00",
         "663,00",
         "ATW"
        ],
        [
         "39",
         "17/06/2025",
         "675,30",
         "671,50",
         "ATW"
        ],
        [
         "40",
         "16/06/2025",
         "677,00",
         "676,10",
         "ATW"
        ],
        [
         "41",
         "13/06/2025",
         "671,00",
         "686,00",
         "ATW"
        ],
        [
         "42",
         "12/06/2025",
         "680,00",
         "684,20",
         "ATW"
        ],
        [
         "43",
         "11/06/2025",
         "687,00",
         "682,50",
         "ATW"
        ],
        [
         "44",
         "10/06/2025",
         "673,00",
         "680,00",
         "ATW"
        ],
        [
         "45",
         "06/06/2025",
         "685,00",
         "671,60",
         "ATW"
        ],
        [
         "46",
         "05/06/2025",
         "683,00",
         "683,50",
         "ATW"
        ],
        [
         "47",
         "04/06/2025",
         "675,00",
         "682,00",
         "ATW"
        ],
        [
         "48",
         "03/06/2025",
         "672,00",
         "675,00",
         "ATW"
        ],
        [
         "49",
         "02/06/2025",
         "670,00",
         "670,00",
         "ATW"
        ]
       ],
       "shape": {
        "columns": 4,
        "rows": 746
       }
      },
      "text/html": [
       "<div>\n",
       "<style scoped>\n",
       "    .dataframe tbody tr th:only-of-type {\n",
       "        vertical-align: middle;\n",
       "    }\n",
       "\n",
       "    .dataframe tbody tr th {\n",
       "        vertical-align: top;\n",
       "    }\n",
       "\n",
       "    .dataframe thead th {\n",
       "        text-align: right;\n",
       "    }\n",
       "</style>\n",
       "<table border=\"1\" class=\"dataframe\">\n",
       "  <thead>\n",
       "    <tr style=\"text-align: right;\">\n",
       "      <th></th>\n",
       "      <th>Séance</th>\n",
       "      <th>Ouverture</th>\n",
       "      <th>Dernier_Cours</th>\n",
       "      <th>Ticker</th>\n",
       "    </tr>\n",
       "  </thead>\n",
       "  <tbody>\n",
       "    <tr>\n",
       "      <th>0</th>\n",
       "      <td>13/08/2025</td>\n",
       "      <td>760,00</td>\n",
       "      <td>765,00</td>\n",
       "      <td>ATW</td>\n",
       "    </tr>\n",
       "    <tr>\n",
       "      <th>1</th>\n",
       "      <td>12/08/2025</td>\n",
       "      <td>770,00</td>\n",
       "      <td>768,00</td>\n",
       "      <td>ATW</td>\n",
       "    </tr>\n",
       "    <tr>\n",
       "      <th>2</th>\n",
       "      <td>11/08/2025</td>\n",
       "      <td>777,90</td>\n",
       "      <td>768,90</td>\n",
       "      <td>ATW</td>\n",
       "    </tr>\n",
       "    <tr>\n",
       "      <th>3</th>\n",
       "      <td>08/08/2025</td>\n",
       "      <td>779,90</td>\n",
       "      <td>767,90</td>\n",
       "      <td>ATW</td>\n",
       "    </tr>\n",
       "    <tr>\n",
       "      <th>4</th>\n",
       "      <td>07/08/2025</td>\n",
       "      <td>767,00</td>\n",
       "      <td>769,70</td>\n",
       "      <td>ATW</td>\n",
       "    </tr>\n",
       "    <tr>\n",
       "      <th>...</th>\n",
       "      <td>...</td>\n",
       "      <td>...</td>\n",
       "      <td>...</td>\n",
       "      <td>...</td>\n",
       "    </tr>\n",
       "    <tr>\n",
       "      <th>741</th>\n",
       "      <td>19/08/2022</td>\n",
       "      <td>443,50</td>\n",
       "      <td>445,00</td>\n",
       "      <td>ATW</td>\n",
       "    </tr>\n",
       "    <tr>\n",
       "      <th>742</th>\n",
       "      <td>18/08/2022</td>\n",
       "      <td>449,95</td>\n",
       "      <td>443,50</td>\n",
       "      <td>ATW</td>\n",
       "    </tr>\n",
       "    <tr>\n",
       "      <th>743</th>\n",
       "      <td>17/08/2022</td>\n",
       "      <td>450,20</td>\n",
       "      <td>448,00</td>\n",
       "      <td>ATW</td>\n",
       "    </tr>\n",
       "    <tr>\n",
       "      <th>744</th>\n",
       "      <td>16/08/2022</td>\n",
       "      <td>448,00</td>\n",
       "      <td>450,10</td>\n",
       "      <td>ATW</td>\n",
       "    </tr>\n",
       "    <tr>\n",
       "      <th>745</th>\n",
       "      <td>15/08/2022</td>\n",
       "      <td>446,00</td>\n",
       "      <td>448,00</td>\n",
       "      <td>ATW</td>\n",
       "    </tr>\n",
       "  </tbody>\n",
       "</table>\n",
       "<p>746 rows × 4 columns</p>\n",
       "</div>"
      ],
      "text/plain": [
       "         Séance Ouverture Dernier_Cours Ticker\n",
       "0    13/08/2025    760,00        765,00    ATW\n",
       "1    12/08/2025    770,00        768,00    ATW\n",
       "2    11/08/2025    777,90        768,90    ATW\n",
       "3    08/08/2025    779,90        767,90    ATW\n",
       "4    07/08/2025    767,00        769,70    ATW\n",
       "..          ...       ...           ...    ...\n",
       "741  19/08/2022    443,50        445,00    ATW\n",
       "742  18/08/2022    449,95        443,50    ATW\n",
       "743  17/08/2022    450,20        448,00    ATW\n",
       "744  16/08/2022    448,00        450,10    ATW\n",
       "745  15/08/2022    446,00        448,00    ATW\n",
       "\n",
       "[746 rows x 4 columns]"
      ]
     },
     "execution_count": 5,
     "metadata": {},
     "output_type": "execute_result"
    }
   ],
   "source": [
    "df"
   ]
  },
  {
   "cell_type": "code",
   "execution_count": 6,
   "id": "3ef1ebeb",
   "metadata": {},
   "outputs": [
    {
     "name": "stdout",
     "output_type": "stream",
     "text": [
      "<class 'pandas.core.frame.DataFrame'>\n",
      "RangeIndex: 746 entries, 0 to 745\n",
      "Data columns (total 4 columns):\n",
      " #   Column         Non-Null Count  Dtype \n",
      "---  ------         --------------  ----- \n",
      " 0   Séance         746 non-null    object\n",
      " 1   Ouverture      746 non-null    object\n",
      " 2   Dernier_Cours  746 non-null    object\n",
      " 3   Ticker         746 non-null    object\n",
      "dtypes: object(4)\n",
      "memory usage: 23.4+ KB\n"
     ]
    }
   ],
   "source": [
    "df.info()"
   ]
  },
  {
   "cell_type": "code",
   "execution_count": 7,
   "id": "b438b6a7",
   "metadata": {},
   "outputs": [
    {
     "name": "stderr",
     "output_type": "stream",
     "text": [
      "C:\\Users\\ULTRAPC\\AppData\\Local\\Temp\\ipykernel_12816\\2554762491.py:2: SettingWithCopyWarning: \n",
      "A value is trying to be set on a copy of a slice from a DataFrame.\n",
      "Try using .loc[row_indexer,col_indexer] = value instead\n",
      "\n",
      "See the caveats in the documentation: https://pandas.pydata.org/pandas-docs/stable/user_guide/indexing.html#returning-a-view-versus-a-copy\n",
      "  df[cols] = df[cols].replace(',', '.', regex=True).astype(float).astype(int)\n"
     ]
    }
   ],
   "source": [
    "cols = ['Ouverture', 'Dernier_Cours']\n",
    "df[cols] = df[cols].replace(',', '.', regex=True).astype(float).astype(int)"
   ]
  },
  {
   "cell_type": "code",
   "execution_count": 8,
   "id": "29f48180",
   "metadata": {},
   "outputs": [
    {
     "name": "stderr",
     "output_type": "stream",
     "text": [
      "C:\\Users\\ULTRAPC\\AppData\\Local\\Temp\\ipykernel_12816\\1284221077.py:1: UserWarning: Parsing dates in %d/%m/%Y format when dayfirst=False (the default) was specified. Pass `dayfirst=True` or specify a format to silence this warning.\n",
      "  df['Séance'] = pd.to_datetime(df['Séance'] )\n",
      "C:\\Users\\ULTRAPC\\AppData\\Local\\Temp\\ipykernel_12816\\1284221077.py:1: SettingWithCopyWarning: \n",
      "A value is trying to be set on a copy of a slice from a DataFrame.\n",
      "Try using .loc[row_indexer,col_indexer] = value instead\n",
      "\n",
      "See the caveats in the documentation: https://pandas.pydata.org/pandas-docs/stable/user_guide/indexing.html#returning-a-view-versus-a-copy\n",
      "  df['Séance'] = pd.to_datetime(df['Séance'] )\n"
     ]
    }
   ],
   "source": [
    "df['Séance'] = pd.to_datetime(df['Séance'] )"
   ]
  },
  {
   "cell_type": "code",
   "execution_count": 9,
   "id": "40a8fbdf",
   "metadata": {},
   "outputs": [
    {
     "data": {
      "application/vnd.microsoft.datawrangler.viewer.v0+json": {
       "columns": [
        {
         "name": "index",
         "rawType": "object",
         "type": "string"
        },
        {
         "name": "0",
         "rawType": "object",
         "type": "unknown"
        }
       ],
       "ref": "be4fdb75-aa1f-489a-b1c3-c18abfaeae1f",
       "rows": [
        [
         "Séance",
         "datetime64[ns]"
        ],
        [
         "Ouverture",
         "int64"
        ],
        [
         "Dernier_Cours",
         "int64"
        ],
        [
         "Ticker",
         "object"
        ]
       ],
       "shape": {
        "columns": 1,
        "rows": 4
       }
      },
      "text/plain": [
       "Séance           datetime64[ns]\n",
       "Ouverture                 int64\n",
       "Dernier_Cours             int64\n",
       "Ticker                   object\n",
       "dtype: object"
      ]
     },
     "execution_count": 9,
     "metadata": {},
     "output_type": "execute_result"
    }
   ],
   "source": [
    "df.dtypes"
   ]
  },
  {
   "cell_type": "code",
   "execution_count": 10,
   "id": "a2c2ebb0",
   "metadata": {},
   "outputs": [
    {
     "name": "stderr",
     "output_type": "stream",
     "text": [
      "C:\\Users\\ULTRAPC\\AppData\\Local\\Temp\\ipykernel_12816\\4266133661.py:1: SettingWithCopyWarning: \n",
      "A value is trying to be set on a copy of a slice from a DataFrame.\n",
      "Try using .loc[row_indexer,col_indexer] = value instead\n",
      "\n",
      "See the caveats in the documentation: https://pandas.pydata.org/pandas-docs/stable/user_guide/indexing.html#returning-a-view-versus-a-copy\n",
      "  df['mean_atw'] = (df['Ouverture'] + df['Dernier_Cours'])/2\n"
     ]
    }
   ],
   "source": [
    "df['mean_atw'] = (df['Ouverture'] + df['Dernier_Cours'])/2"
   ]
  },
  {
   "cell_type": "code",
   "execution_count": 11,
   "id": "c15d7b69",
   "metadata": {},
   "outputs": [
    {
     "data": {
      "application/vnd.microsoft.datawrangler.viewer.v0+json": {
       "columns": [
        {
         "name": "index",
         "rawType": "int64",
         "type": "integer"
        },
        {
         "name": "Séance",
         "rawType": "datetime64[ns]",
         "type": "datetime"
        },
        {
         "name": "Ouverture",
         "rawType": "int64",
         "type": "integer"
        },
        {
         "name": "Dernier_Cours",
         "rawType": "int64",
         "type": "integer"
        },
        {
         "name": "Ticker",
         "rawType": "object",
         "type": "string"
        },
        {
         "name": "mean_atw",
         "rawType": "float64",
         "type": "float"
        }
       ],
       "ref": "fdc5b778-c42f-41dc-b846-326d2e475714",
       "rows": [
        [
         "0",
         "2025-08-13 00:00:00",
         "760",
         "765",
         "ATW",
         "762.5"
        ],
        [
         "1",
         "2025-08-12 00:00:00",
         "770",
         "768",
         "ATW",
         "769.0"
        ],
        [
         "2",
         "2025-08-11 00:00:00",
         "777",
         "768",
         "ATW",
         "772.5"
        ],
        [
         "3",
         "2025-08-08 00:00:00",
         "779",
         "767",
         "ATW",
         "773.0"
        ],
        [
         "4",
         "2025-08-07 00:00:00",
         "767",
         "769",
         "ATW",
         "768.0"
        ],
        [
         "5",
         "2025-08-06 00:00:00",
         "752",
         "767",
         "ATW",
         "759.5"
        ],
        [
         "6",
         "2025-08-05 00:00:00",
         "747",
         "753",
         "ATW",
         "750.0"
        ],
        [
         "7",
         "2025-08-04 00:00:00",
         "750",
         "750",
         "ATW",
         "750.0"
        ],
        [
         "8",
         "2025-08-01 00:00:00",
         "765",
         "750",
         "ATW",
         "757.5"
        ],
        [
         "9",
         "2025-07-31 00:00:00",
         "736",
         "750",
         "ATW",
         "743.0"
        ],
        [
         "10",
         "2025-07-29 00:00:00",
         "725",
         "740",
         "ATW",
         "732.5"
        ],
        [
         "11",
         "2025-07-28 00:00:00",
         "730",
         "726",
         "ATW",
         "728.0"
        ],
        [
         "12",
         "2025-07-25 00:00:00",
         "733",
         "735",
         "ATW",
         "734.0"
        ],
        [
         "13",
         "2025-07-24 00:00:00",
         "710",
         "730",
         "ATW",
         "720.0"
        ],
        [
         "14",
         "2025-07-23 00:00:00",
         "707",
         "710",
         "ATW",
         "708.5"
        ],
        [
         "15",
         "2025-07-22 00:00:00",
         "710",
         "710",
         "ATW",
         "710.0"
        ],
        [
         "16",
         "2025-07-21 00:00:00",
         "724",
         "718",
         "ATW",
         "721.0"
        ],
        [
         "17",
         "2025-07-18 00:00:00",
         "691",
         "725",
         "ATW",
         "708.0"
        ],
        [
         "18",
         "2025-07-17 00:00:00",
         "700",
         "700",
         "ATW",
         "700.0"
        ],
        [
         "19",
         "2025-07-16 00:00:00",
         "699",
         "700",
         "ATW",
         "699.5"
        ],
        [
         "20",
         "2025-07-15 00:00:00",
         "695",
         "699",
         "ATW",
         "697.0"
        ],
        [
         "21",
         "2025-07-14 00:00:00",
         "697",
         "700",
         "ATW",
         "698.5"
        ],
        [
         "22",
         "2025-07-11 00:00:00",
         "696",
         "700",
         "ATW",
         "698.0"
        ],
        [
         "23",
         "2025-07-10 00:00:00",
         "697",
         "700",
         "ATW",
         "698.5"
        ],
        [
         "24",
         "2025-07-09 00:00:00",
         "700",
         "699",
         "ATW",
         "699.5"
        ],
        [
         "25",
         "2025-07-08 00:00:00",
         "700",
         "700",
         "ATW",
         "700.0"
        ],
        [
         "26",
         "2025-07-07 00:00:00",
         "683",
         "700",
         "ATW",
         "691.5"
        ],
        [
         "27",
         "2025-07-04 00:00:00",
         "680",
         "693",
         "ATW",
         "686.5"
        ],
        [
         "28",
         "2025-07-03 00:00:00",
         "682",
         "690",
         "ATW",
         "686.0"
        ],
        [
         "29",
         "2025-07-02 00:00:00",
         "678",
         "682",
         "ATW",
         "680.0"
        ],
        [
         "30",
         "2025-07-01 00:00:00",
         "685",
         "682",
         "ATW",
         "683.5"
        ],
        [
         "31",
         "2025-06-30 00:00:00",
         "680",
         "680",
         "ATW",
         "680.0"
        ],
        [
         "32",
         "2025-06-26 00:00:00",
         "685",
         "693",
         "ATW",
         "689.0"
        ],
        [
         "33",
         "2025-06-25 00:00:00",
         "675",
         "685",
         "ATW",
         "680.0"
        ],
        [
         "34",
         "2025-06-24 00:00:00",
         "670",
         "680",
         "ATW",
         "675.0"
        ],
        [
         "35",
         "2025-06-23 00:00:00",
         "660",
         "660",
         "ATW",
         "660.0"
        ],
        [
         "36",
         "2025-06-20 00:00:00",
         "661",
         "665",
         "ATW",
         "663.0"
        ],
        [
         "37",
         "2025-06-19 00:00:00",
         "663",
         "658",
         "ATW",
         "660.5"
        ],
        [
         "38",
         "2025-06-18 00:00:00",
         "670",
         "663",
         "ATW",
         "666.5"
        ],
        [
         "39",
         "2025-06-17 00:00:00",
         "675",
         "671",
         "ATW",
         "673.0"
        ],
        [
         "40",
         "2025-06-16 00:00:00",
         "677",
         "676",
         "ATW",
         "676.5"
        ],
        [
         "41",
         "2025-06-13 00:00:00",
         "671",
         "686",
         "ATW",
         "678.5"
        ],
        [
         "42",
         "2025-06-12 00:00:00",
         "680",
         "684",
         "ATW",
         "682.0"
        ],
        [
         "43",
         "2025-06-11 00:00:00",
         "687",
         "682",
         "ATW",
         "684.5"
        ],
        [
         "44",
         "2025-06-10 00:00:00",
         "673",
         "680",
         "ATW",
         "676.5"
        ],
        [
         "45",
         "2025-06-06 00:00:00",
         "685",
         "671",
         "ATW",
         "678.0"
        ],
        [
         "46",
         "2025-06-05 00:00:00",
         "683",
         "683",
         "ATW",
         "683.0"
        ],
        [
         "47",
         "2025-06-04 00:00:00",
         "675",
         "682",
         "ATW",
         "678.5"
        ],
        [
         "48",
         "2025-06-03 00:00:00",
         "672",
         "675",
         "ATW",
         "673.5"
        ],
        [
         "49",
         "2025-06-02 00:00:00",
         "670",
         "670",
         "ATW",
         "670.0"
        ]
       ],
       "shape": {
        "columns": 5,
        "rows": 746
       }
      },
      "text/html": [
       "<div>\n",
       "<style scoped>\n",
       "    .dataframe tbody tr th:only-of-type {\n",
       "        vertical-align: middle;\n",
       "    }\n",
       "\n",
       "    .dataframe tbody tr th {\n",
       "        vertical-align: top;\n",
       "    }\n",
       "\n",
       "    .dataframe thead th {\n",
       "        text-align: right;\n",
       "    }\n",
       "</style>\n",
       "<table border=\"1\" class=\"dataframe\">\n",
       "  <thead>\n",
       "    <tr style=\"text-align: right;\">\n",
       "      <th></th>\n",
       "      <th>Séance</th>\n",
       "      <th>Ouverture</th>\n",
       "      <th>Dernier_Cours</th>\n",
       "      <th>Ticker</th>\n",
       "      <th>mean_atw</th>\n",
       "    </tr>\n",
       "  </thead>\n",
       "  <tbody>\n",
       "    <tr>\n",
       "      <th>0</th>\n",
       "      <td>2025-08-13</td>\n",
       "      <td>760</td>\n",
       "      <td>765</td>\n",
       "      <td>ATW</td>\n",
       "      <td>762.5</td>\n",
       "    </tr>\n",
       "    <tr>\n",
       "      <th>1</th>\n",
       "      <td>2025-08-12</td>\n",
       "      <td>770</td>\n",
       "      <td>768</td>\n",
       "      <td>ATW</td>\n",
       "      <td>769.0</td>\n",
       "    </tr>\n",
       "    <tr>\n",
       "      <th>2</th>\n",
       "      <td>2025-08-11</td>\n",
       "      <td>777</td>\n",
       "      <td>768</td>\n",
       "      <td>ATW</td>\n",
       "      <td>772.5</td>\n",
       "    </tr>\n",
       "    <tr>\n",
       "      <th>3</th>\n",
       "      <td>2025-08-08</td>\n",
       "      <td>779</td>\n",
       "      <td>767</td>\n",
       "      <td>ATW</td>\n",
       "      <td>773.0</td>\n",
       "    </tr>\n",
       "    <tr>\n",
       "      <th>4</th>\n",
       "      <td>2025-08-07</td>\n",
       "      <td>767</td>\n",
       "      <td>769</td>\n",
       "      <td>ATW</td>\n",
       "      <td>768.0</td>\n",
       "    </tr>\n",
       "    <tr>\n",
       "      <th>...</th>\n",
       "      <td>...</td>\n",
       "      <td>...</td>\n",
       "      <td>...</td>\n",
       "      <td>...</td>\n",
       "      <td>...</td>\n",
       "    </tr>\n",
       "    <tr>\n",
       "      <th>741</th>\n",
       "      <td>2022-08-19</td>\n",
       "      <td>443</td>\n",
       "      <td>445</td>\n",
       "      <td>ATW</td>\n",
       "      <td>444.0</td>\n",
       "    </tr>\n",
       "    <tr>\n",
       "      <th>742</th>\n",
       "      <td>2022-08-18</td>\n",
       "      <td>449</td>\n",
       "      <td>443</td>\n",
       "      <td>ATW</td>\n",
       "      <td>446.0</td>\n",
       "    </tr>\n",
       "    <tr>\n",
       "      <th>743</th>\n",
       "      <td>2022-08-17</td>\n",
       "      <td>450</td>\n",
       "      <td>448</td>\n",
       "      <td>ATW</td>\n",
       "      <td>449.0</td>\n",
       "    </tr>\n",
       "    <tr>\n",
       "      <th>744</th>\n",
       "      <td>2022-08-16</td>\n",
       "      <td>448</td>\n",
       "      <td>450</td>\n",
       "      <td>ATW</td>\n",
       "      <td>449.0</td>\n",
       "    </tr>\n",
       "    <tr>\n",
       "      <th>745</th>\n",
       "      <td>2022-08-15</td>\n",
       "      <td>446</td>\n",
       "      <td>448</td>\n",
       "      <td>ATW</td>\n",
       "      <td>447.0</td>\n",
       "    </tr>\n",
       "  </tbody>\n",
       "</table>\n",
       "<p>746 rows × 5 columns</p>\n",
       "</div>"
      ],
      "text/plain": [
       "        Séance  Ouverture  Dernier_Cours Ticker  mean_atw\n",
       "0   2025-08-13        760            765    ATW     762.5\n",
       "1   2025-08-12        770            768    ATW     769.0\n",
       "2   2025-08-11        777            768    ATW     772.5\n",
       "3   2025-08-08        779            767    ATW     773.0\n",
       "4   2025-08-07        767            769    ATW     768.0\n",
       "..         ...        ...            ...    ...       ...\n",
       "741 2022-08-19        443            445    ATW     444.0\n",
       "742 2022-08-18        449            443    ATW     446.0\n",
       "743 2022-08-17        450            448    ATW     449.0\n",
       "744 2022-08-16        448            450    ATW     449.0\n",
       "745 2022-08-15        446            448    ATW     447.0\n",
       "\n",
       "[746 rows x 5 columns]"
      ]
     },
     "execution_count": 11,
     "metadata": {},
     "output_type": "execute_result"
    }
   ],
   "source": [
    "df"
   ]
  },
  {
   "cell_type": "code",
   "execution_count": 12,
   "id": "99c8d651",
   "metadata": {},
   "outputs": [
    {
     "name": "stderr",
     "output_type": "stream",
     "text": [
      "C:\\Users\\ULTRAPC\\AppData\\Local\\Temp\\ipykernel_12816\\835068607.py:1: SettingWithCopyWarning: \n",
      "A value is trying to be set on a copy of a slice from a DataFrame.\n",
      "Try using .loc[row_indexer,col_indexer] = value instead\n",
      "\n",
      "See the caveats in the documentation: https://pandas.pydata.org/pandas-docs/stable/user_guide/indexing.html#returning-a-view-versus-a-copy\n",
      "  df['month_day'] = df['Séance'].dt.strftime('%m-%d')\n",
      "C:\\Users\\ULTRAPC\\AppData\\Local\\Temp\\ipykernel_12816\\835068607.py:2: SettingWithCopyWarning: \n",
      "A value is trying to be set on a copy of a slice from a DataFrame.\n",
      "Try using .loc[row_indexer,col_indexer] = value instead\n",
      "\n",
      "See the caveats in the documentation: https://pandas.pydata.org/pandas-docs/stable/user_guide/indexing.html#returning-a-view-versus-a-copy\n",
      "  df['years'] = df['Séance'].dt.year\n"
     ]
    }
   ],
   "source": [
    "df['month_day'] = df['Séance'].dt.strftime('%m-%d')\n",
    "df['years'] = df['Séance'].dt.year"
   ]
  },
  {
   "cell_type": "code",
   "execution_count": 13,
   "id": "5a5a5255",
   "metadata": {},
   "outputs": [
    {
     "data": {
      "application/vnd.microsoft.datawrangler.viewer.v0+json": {
       "columns": [
        {
         "name": "index",
         "rawType": "int64",
         "type": "integer"
        },
        {
         "name": "Séance",
         "rawType": "datetime64[ns]",
         "type": "datetime"
        },
        {
         "name": "Ouverture",
         "rawType": "int64",
         "type": "integer"
        },
        {
         "name": "Dernier_Cours",
         "rawType": "int64",
         "type": "integer"
        },
        {
         "name": "Ticker",
         "rawType": "object",
         "type": "string"
        },
        {
         "name": "mean_atw",
         "rawType": "float64",
         "type": "float"
        },
        {
         "name": "month_day",
         "rawType": "object",
         "type": "string"
        },
        {
         "name": "years",
         "rawType": "int32",
         "type": "integer"
        }
       ],
       "ref": "89cf9e90-7207-4073-8dcb-2504725fdb88",
       "rows": [
        [
         "0",
         "2025-08-13 00:00:00",
         "760",
         "765",
         "ATW",
         "762.5",
         "08-13",
         "2025"
        ],
        [
         "1",
         "2025-08-12 00:00:00",
         "770",
         "768",
         "ATW",
         "769.0",
         "08-12",
         "2025"
        ],
        [
         "2",
         "2025-08-11 00:00:00",
         "777",
         "768",
         "ATW",
         "772.5",
         "08-11",
         "2025"
        ],
        [
         "3",
         "2025-08-08 00:00:00",
         "779",
         "767",
         "ATW",
         "773.0",
         "08-08",
         "2025"
        ],
        [
         "4",
         "2025-08-07 00:00:00",
         "767",
         "769",
         "ATW",
         "768.0",
         "08-07",
         "2025"
        ],
        [
         "5",
         "2025-08-06 00:00:00",
         "752",
         "767",
         "ATW",
         "759.5",
         "08-06",
         "2025"
        ],
        [
         "6",
         "2025-08-05 00:00:00",
         "747",
         "753",
         "ATW",
         "750.0",
         "08-05",
         "2025"
        ],
        [
         "7",
         "2025-08-04 00:00:00",
         "750",
         "750",
         "ATW",
         "750.0",
         "08-04",
         "2025"
        ],
        [
         "8",
         "2025-08-01 00:00:00",
         "765",
         "750",
         "ATW",
         "757.5",
         "08-01",
         "2025"
        ],
        [
         "9",
         "2025-07-31 00:00:00",
         "736",
         "750",
         "ATW",
         "743.0",
         "07-31",
         "2025"
        ],
        [
         "10",
         "2025-07-29 00:00:00",
         "725",
         "740",
         "ATW",
         "732.5",
         "07-29",
         "2025"
        ],
        [
         "11",
         "2025-07-28 00:00:00",
         "730",
         "726",
         "ATW",
         "728.0",
         "07-28",
         "2025"
        ],
        [
         "12",
         "2025-07-25 00:00:00",
         "733",
         "735",
         "ATW",
         "734.0",
         "07-25",
         "2025"
        ],
        [
         "13",
         "2025-07-24 00:00:00",
         "710",
         "730",
         "ATW",
         "720.0",
         "07-24",
         "2025"
        ],
        [
         "14",
         "2025-07-23 00:00:00",
         "707",
         "710",
         "ATW",
         "708.5",
         "07-23",
         "2025"
        ],
        [
         "15",
         "2025-07-22 00:00:00",
         "710",
         "710",
         "ATW",
         "710.0",
         "07-22",
         "2025"
        ],
        [
         "16",
         "2025-07-21 00:00:00",
         "724",
         "718",
         "ATW",
         "721.0",
         "07-21",
         "2025"
        ],
        [
         "17",
         "2025-07-18 00:00:00",
         "691",
         "725",
         "ATW",
         "708.0",
         "07-18",
         "2025"
        ],
        [
         "18",
         "2025-07-17 00:00:00",
         "700",
         "700",
         "ATW",
         "700.0",
         "07-17",
         "2025"
        ],
        [
         "19",
         "2025-07-16 00:00:00",
         "699",
         "700",
         "ATW",
         "699.5",
         "07-16",
         "2025"
        ],
        [
         "20",
         "2025-07-15 00:00:00",
         "695",
         "699",
         "ATW",
         "697.0",
         "07-15",
         "2025"
        ],
        [
         "21",
         "2025-07-14 00:00:00",
         "697",
         "700",
         "ATW",
         "698.5",
         "07-14",
         "2025"
        ],
        [
         "22",
         "2025-07-11 00:00:00",
         "696",
         "700",
         "ATW",
         "698.0",
         "07-11",
         "2025"
        ],
        [
         "23",
         "2025-07-10 00:00:00",
         "697",
         "700",
         "ATW",
         "698.5",
         "07-10",
         "2025"
        ],
        [
         "24",
         "2025-07-09 00:00:00",
         "700",
         "699",
         "ATW",
         "699.5",
         "07-09",
         "2025"
        ],
        [
         "25",
         "2025-07-08 00:00:00",
         "700",
         "700",
         "ATW",
         "700.0",
         "07-08",
         "2025"
        ],
        [
         "26",
         "2025-07-07 00:00:00",
         "683",
         "700",
         "ATW",
         "691.5",
         "07-07",
         "2025"
        ],
        [
         "27",
         "2025-07-04 00:00:00",
         "680",
         "693",
         "ATW",
         "686.5",
         "07-04",
         "2025"
        ],
        [
         "28",
         "2025-07-03 00:00:00",
         "682",
         "690",
         "ATW",
         "686.0",
         "07-03",
         "2025"
        ],
        [
         "29",
         "2025-07-02 00:00:00",
         "678",
         "682",
         "ATW",
         "680.0",
         "07-02",
         "2025"
        ],
        [
         "30",
         "2025-07-01 00:00:00",
         "685",
         "682",
         "ATW",
         "683.5",
         "07-01",
         "2025"
        ],
        [
         "31",
         "2025-06-30 00:00:00",
         "680",
         "680",
         "ATW",
         "680.0",
         "06-30",
         "2025"
        ],
        [
         "32",
         "2025-06-26 00:00:00",
         "685",
         "693",
         "ATW",
         "689.0",
         "06-26",
         "2025"
        ],
        [
         "33",
         "2025-06-25 00:00:00",
         "675",
         "685",
         "ATW",
         "680.0",
         "06-25",
         "2025"
        ],
        [
         "34",
         "2025-06-24 00:00:00",
         "670",
         "680",
         "ATW",
         "675.0",
         "06-24",
         "2025"
        ],
        [
         "35",
         "2025-06-23 00:00:00",
         "660",
         "660",
         "ATW",
         "660.0",
         "06-23",
         "2025"
        ],
        [
         "36",
         "2025-06-20 00:00:00",
         "661",
         "665",
         "ATW",
         "663.0",
         "06-20",
         "2025"
        ],
        [
         "37",
         "2025-06-19 00:00:00",
         "663",
         "658",
         "ATW",
         "660.5",
         "06-19",
         "2025"
        ],
        [
         "38",
         "2025-06-18 00:00:00",
         "670",
         "663",
         "ATW",
         "666.5",
         "06-18",
         "2025"
        ],
        [
         "39",
         "2025-06-17 00:00:00",
         "675",
         "671",
         "ATW",
         "673.0",
         "06-17",
         "2025"
        ],
        [
         "40",
         "2025-06-16 00:00:00",
         "677",
         "676",
         "ATW",
         "676.5",
         "06-16",
         "2025"
        ],
        [
         "41",
         "2025-06-13 00:00:00",
         "671",
         "686",
         "ATW",
         "678.5",
         "06-13",
         "2025"
        ],
        [
         "42",
         "2025-06-12 00:00:00",
         "680",
         "684",
         "ATW",
         "682.0",
         "06-12",
         "2025"
        ],
        [
         "43",
         "2025-06-11 00:00:00",
         "687",
         "682",
         "ATW",
         "684.5",
         "06-11",
         "2025"
        ],
        [
         "44",
         "2025-06-10 00:00:00",
         "673",
         "680",
         "ATW",
         "676.5",
         "06-10",
         "2025"
        ],
        [
         "45",
         "2025-06-06 00:00:00",
         "685",
         "671",
         "ATW",
         "678.0",
         "06-06",
         "2025"
        ],
        [
         "46",
         "2025-06-05 00:00:00",
         "683",
         "683",
         "ATW",
         "683.0",
         "06-05",
         "2025"
        ],
        [
         "47",
         "2025-06-04 00:00:00",
         "675",
         "682",
         "ATW",
         "678.5",
         "06-04",
         "2025"
        ],
        [
         "48",
         "2025-06-03 00:00:00",
         "672",
         "675",
         "ATW",
         "673.5",
         "06-03",
         "2025"
        ],
        [
         "49",
         "2025-06-02 00:00:00",
         "670",
         "670",
         "ATW",
         "670.0",
         "06-02",
         "2025"
        ]
       ],
       "shape": {
        "columns": 7,
        "rows": 746
       }
      },
      "text/html": [
       "<div>\n",
       "<style scoped>\n",
       "    .dataframe tbody tr th:only-of-type {\n",
       "        vertical-align: middle;\n",
       "    }\n",
       "\n",
       "    .dataframe tbody tr th {\n",
       "        vertical-align: top;\n",
       "    }\n",
       "\n",
       "    .dataframe thead th {\n",
       "        text-align: right;\n",
       "    }\n",
       "</style>\n",
       "<table border=\"1\" class=\"dataframe\">\n",
       "  <thead>\n",
       "    <tr style=\"text-align: right;\">\n",
       "      <th></th>\n",
       "      <th>Séance</th>\n",
       "      <th>Ouverture</th>\n",
       "      <th>Dernier_Cours</th>\n",
       "      <th>Ticker</th>\n",
       "      <th>mean_atw</th>\n",
       "      <th>month_day</th>\n",
       "      <th>years</th>\n",
       "    </tr>\n",
       "  </thead>\n",
       "  <tbody>\n",
       "    <tr>\n",
       "      <th>0</th>\n",
       "      <td>2025-08-13</td>\n",
       "      <td>760</td>\n",
       "      <td>765</td>\n",
       "      <td>ATW</td>\n",
       "      <td>762.5</td>\n",
       "      <td>08-13</td>\n",
       "      <td>2025</td>\n",
       "    </tr>\n",
       "    <tr>\n",
       "      <th>1</th>\n",
       "      <td>2025-08-12</td>\n",
       "      <td>770</td>\n",
       "      <td>768</td>\n",
       "      <td>ATW</td>\n",
       "      <td>769.0</td>\n",
       "      <td>08-12</td>\n",
       "      <td>2025</td>\n",
       "    </tr>\n",
       "    <tr>\n",
       "      <th>2</th>\n",
       "      <td>2025-08-11</td>\n",
       "      <td>777</td>\n",
       "      <td>768</td>\n",
       "      <td>ATW</td>\n",
       "      <td>772.5</td>\n",
       "      <td>08-11</td>\n",
       "      <td>2025</td>\n",
       "    </tr>\n",
       "    <tr>\n",
       "      <th>3</th>\n",
       "      <td>2025-08-08</td>\n",
       "      <td>779</td>\n",
       "      <td>767</td>\n",
       "      <td>ATW</td>\n",
       "      <td>773.0</td>\n",
       "      <td>08-08</td>\n",
       "      <td>2025</td>\n",
       "    </tr>\n",
       "    <tr>\n",
       "      <th>4</th>\n",
       "      <td>2025-08-07</td>\n",
       "      <td>767</td>\n",
       "      <td>769</td>\n",
       "      <td>ATW</td>\n",
       "      <td>768.0</td>\n",
       "      <td>08-07</td>\n",
       "      <td>2025</td>\n",
       "    </tr>\n",
       "    <tr>\n",
       "      <th>...</th>\n",
       "      <td>...</td>\n",
       "      <td>...</td>\n",
       "      <td>...</td>\n",
       "      <td>...</td>\n",
       "      <td>...</td>\n",
       "      <td>...</td>\n",
       "      <td>...</td>\n",
       "    </tr>\n",
       "    <tr>\n",
       "      <th>741</th>\n",
       "      <td>2022-08-19</td>\n",
       "      <td>443</td>\n",
       "      <td>445</td>\n",
       "      <td>ATW</td>\n",
       "      <td>444.0</td>\n",
       "      <td>08-19</td>\n",
       "      <td>2022</td>\n",
       "    </tr>\n",
       "    <tr>\n",
       "      <th>742</th>\n",
       "      <td>2022-08-18</td>\n",
       "      <td>449</td>\n",
       "      <td>443</td>\n",
       "      <td>ATW</td>\n",
       "      <td>446.0</td>\n",
       "      <td>08-18</td>\n",
       "      <td>2022</td>\n",
       "    </tr>\n",
       "    <tr>\n",
       "      <th>743</th>\n",
       "      <td>2022-08-17</td>\n",
       "      <td>450</td>\n",
       "      <td>448</td>\n",
       "      <td>ATW</td>\n",
       "      <td>449.0</td>\n",
       "      <td>08-17</td>\n",
       "      <td>2022</td>\n",
       "    </tr>\n",
       "    <tr>\n",
       "      <th>744</th>\n",
       "      <td>2022-08-16</td>\n",
       "      <td>448</td>\n",
       "      <td>450</td>\n",
       "      <td>ATW</td>\n",
       "      <td>449.0</td>\n",
       "      <td>08-16</td>\n",
       "      <td>2022</td>\n",
       "    </tr>\n",
       "    <tr>\n",
       "      <th>745</th>\n",
       "      <td>2022-08-15</td>\n",
       "      <td>446</td>\n",
       "      <td>448</td>\n",
       "      <td>ATW</td>\n",
       "      <td>447.0</td>\n",
       "      <td>08-15</td>\n",
       "      <td>2022</td>\n",
       "    </tr>\n",
       "  </tbody>\n",
       "</table>\n",
       "<p>746 rows × 7 columns</p>\n",
       "</div>"
      ],
      "text/plain": [
       "        Séance  Ouverture  Dernier_Cours Ticker  mean_atw month_day  years\n",
       "0   2025-08-13        760            765    ATW     762.5     08-13   2025\n",
       "1   2025-08-12        770            768    ATW     769.0     08-12   2025\n",
       "2   2025-08-11        777            768    ATW     772.5     08-11   2025\n",
       "3   2025-08-08        779            767    ATW     773.0     08-08   2025\n",
       "4   2025-08-07        767            769    ATW     768.0     08-07   2025\n",
       "..         ...        ...            ...    ...       ...       ...    ...\n",
       "741 2022-08-19        443            445    ATW     444.0     08-19   2022\n",
       "742 2022-08-18        449            443    ATW     446.0     08-18   2022\n",
       "743 2022-08-17        450            448    ATW     449.0     08-17   2022\n",
       "744 2022-08-16        448            450    ATW     449.0     08-16   2022\n",
       "745 2022-08-15        446            448    ATW     447.0     08-15   2022\n",
       "\n",
       "[746 rows x 7 columns]"
      ]
     },
     "execution_count": 13,
     "metadata": {},
     "output_type": "execute_result"
    }
   ],
   "source": [
    "df"
   ]
  },
  {
   "cell_type": "code",
   "execution_count": 14,
   "id": "41af7f80",
   "metadata": {},
   "outputs": [
    {
     "name": "stdout",
     "output_type": "stream",
     "text": [
      "<class 'pandas.core.frame.DataFrame'>\n",
      "RangeIndex: 746 entries, 0 to 745\n",
      "Data columns (total 7 columns):\n",
      " #   Column         Non-Null Count  Dtype         \n",
      "---  ------         --------------  -----         \n",
      " 0   Séance         746 non-null    datetime64[ns]\n",
      " 1   Ouverture      746 non-null    int64         \n",
      " 2   Dernier_Cours  746 non-null    int64         \n",
      " 3   Ticker         746 non-null    object        \n",
      " 4   mean_atw       746 non-null    float64       \n",
      " 5   month_day      746 non-null    object        \n",
      " 6   years          746 non-null    int32         \n",
      "dtypes: datetime64[ns](1), float64(1), int32(1), int64(2), object(2)\n",
      "memory usage: 38.0+ KB\n"
     ]
    }
   ],
   "source": [
    "df.info()"
   ]
  },
  {
   "cell_type": "code",
   "execution_count": 15,
   "id": "ad8fa1d5",
   "metadata": {},
   "outputs": [],
   "source": [
    "import seaborn as sns\n",
    "import matplotlib.pyplot as plt"
   ]
  },
  {
   "cell_type": "code",
   "execution_count": 16,
   "id": "e2d276bb",
   "metadata": {},
   "outputs": [
    {
     "data": {
      "text/plain": [
       "<Axes: xlabel='Séance', ylabel='mean_atw'>"
      ]
     },
     "execution_count": 16,
     "metadata": {},
     "output_type": "execute_result"
    },
    {
     "data": {
      "image/png": "[encoded data removed]",
      "text/plain": [
       "<Figure size 1800x600 with 1 Axes>"
      ]
     },
     "metadata": {},
     "output_type": "display_data"
    }
   ],
   "source": [
    "plt.figure(figsize=(18, 6)) \n",
    "sns.lineplot(df,y='mean_atw',x='Séance')"
   ]
  },
  {
   "cell_type": "code",
   "execution_count": 17,
   "id": "d5610ed1",
   "metadata": {},
   "outputs": [
    {
     "data": {
      "text/plain": [
       "<Axes: xlabel='Séance', ylabel='mean_atw'>"
      ]
     },
     "execution_count": 17,
     "metadata": {},
     "output_type": "execute_result"
    },
    {
     "data": {
      "image/png": "[encoded data removed]",
      "text/plain": [
       "<Figure size 1800x600 with 1 Axes>"
      ]
     },
     "metadata": {},
     "output_type": "display_data"
    }
   ],
   "source": [
    "plt.figure(figsize=(18, 6)) \n",
    "sns.lineplot(df,y='mean_atw',x='Séance',hue='years')"
   ]
  },
  {
   "cell_type": "markdown",
   "id": "e86bb82e",
   "metadata": {},
   "source": [
    "# Data modeling"
   ]
  },
  {
   "cell_type": "code",
   "execution_count": 18,
   "id": "1a0dc6c3",
   "metadata": {},
   "outputs": [
    {
     "name": "stderr",
     "output_type": "stream",
     "text": [
      "C:\\Users\\ULTRAPC\\AppData\\Local\\Temp\\ipykernel_12816\\3478770511.py:1: SettingWithCopyWarning: \n",
      "A value is trying to be set on a copy of a slice from a DataFrame.\n",
      "Try using .loc[row_indexer,col_indexer] = value instead\n",
      "\n",
      "See the caveats in the documentation: https://pandas.pydata.org/pandas-docs/stable/user_guide/indexing.html#returning-a-view-versus-a-copy\n",
      "  df['years_month'] = df['Séance'].dt.strftime('%Y-%m')\n"
     ]
    },
    {
     "data": {
      "application/vnd.microsoft.datawrangler.viewer.v0+json": {
       "columns": [
        {
         "name": "index",
         "rawType": "int64",
         "type": "integer"
        },
        {
         "name": "Séance",
         "rawType": "datetime64[ns]",
         "type": "datetime"
        },
        {
         "name": "Ouverture",
         "rawType": "int64",
         "type": "integer"
        },
        {
         "name": "Dernier_Cours",
         "rawType": "int64",
         "type": "integer"
        },
        {
         "name": "Ticker",
         "rawType": "object",
         "type": "string"
        },
        {
         "name": "mean_atw",
         "rawType": "float64",
         "type": "float"
        },
        {
         "name": "month_day",
         "rawType": "object",
         "type": "string"
        },
        {
         "name": "years",
         "rawType": "int32",
         "type": "integer"
        },
        {
         "name": "years_month",
         "rawType": "object",
         "type": "string"
        }
       ],
       "ref": "8611a726-e380-473d-b228-3a51648809cf",
       "rows": [
        [
         "0",
         "2025-08-13 00:00:00",
         "760",
         "765",
         "ATW",
         "762.5",
         "08-13",
         "2025",
         "2025-08"
        ],
        [
         "1",
         "2025-08-12 00:00:00",
         "770",
         "768",
         "ATW",
         "769.0",
         "08-12",
         "2025",
         "2025-08"
        ],
        [
         "2",
         "2025-08-11 00:00:00",
         "777",
         "768",
         "ATW",
         "772.5",
         "08-11",
         "2025",
         "2025-08"
        ],
        [
         "3",
         "2025-08-08 00:00:00",
         "779",
         "767",
         "ATW",
         "773.0",
         "08-08",
         "2025",
         "2025-08"
        ],
        [
         "4",
         "2025-08-07 00:00:00",
         "767",
         "769",
         "ATW",
         "768.0",
         "08-07",
         "2025",
         "2025-08"
        ],
        [
         "5",
         "2025-08-06 00:00:00",
         "752",
         "767",
         "ATW",
         "759.5",
         "08-06",
         "2025",
         "2025-08"
        ],
        [
         "6",
         "2025-08-05 00:00:00",
         "747",
         "753",
         "ATW",
         "750.0",
         "08-05",
         "2025",
         "2025-08"
        ],
        [
         "7",
         "2025-08-04 00:00:00",
         "750",
         "750",
         "ATW",
         "750.0",
         "08-04",
         "2025",
         "2025-08"
        ],
        [
         "8",
         "2025-08-01 00:00:00",
         "765",
         "750",
         "ATW",
         "757.5",
         "08-01",
         "2025",
         "2025-08"
        ],
        [
         "9",
         "2025-07-31 00:00:00",
         "736",
         "750",
         "ATW",
         "743.0",
         "07-31",
         "2025",
         "2025-07"
        ],
        [
         "10",
         "2025-07-29 00:00:00",
         "725",
         "740",
         "ATW",
         "732.5",
         "07-29",
         "2025",
         "2025-07"
        ],
        [
         "11",
         "2025-07-28 00:00:00",
         "730",
         "726",
         "ATW",
         "728.0",
         "07-28",
         "2025",
         "2025-07"
        ],
        [
         "12",
         "2025-07-25 00:00:00",
         "733",
         "735",
         "ATW",
         "734.0",
         "07-25",
         "2025",
         "2025-07"
        ],
        [
         "13",
         "2025-07-24 00:00:00",
         "710",
         "730",
         "ATW",
         "720.0",
         "07-24",
         "2025",
         "2025-07"
        ],
        [
         "14",
         "2025-07-23 00:00:00",
         "707",
         "710",
         "ATW",
         "708.5",
         "07-23",
         "2025",
         "2025-07"
        ],
        [
         "15",
         "2025-07-22 00:00:00",
         "710",
         "710",
         "ATW",
         "710.0",
         "07-22",
         "2025",
         "2025-07"
        ],
        [
         "16",
         "2025-07-21 00:00:00",
         "724",
         "718",
         "ATW",
         "721.0",
         "07-21",
         "2025",
         "2025-07"
        ],
        [
         "17",
         "2025-07-18 00:00:00",
         "691",
         "725",
         "ATW",
         "708.0",
         "07-18",
         "2025",
         "2025-07"
        ],
        [
         "18",
         "2025-07-17 00:00:00",
         "700",
         "700",
         "ATW",
         "700.0",
         "07-17",
         "2025",
         "2025-07"
        ],
        [
         "19",
         "2025-07-16 00:00:00",
         "699",
         "700",
         "ATW",
         "699.5",
         "07-16",
         "2025",
         "2025-07"
        ],
        [
         "20",
         "2025-07-15 00:00:00",
         "695",
         "699",
         "ATW",
         "697.0",
         "07-15",
         "2025",
         "2025-07"
        ],
        [
         "21",
         "2025-07-14 00:00:00",
         "697",
         "700",
         "ATW",
         "698.5",
         "07-14",
         "2025",
         "2025-07"
        ],
        [
         "22",
         "2025-07-11 00:00:00",
         "696",
         "700",
         "ATW",
         "698.0",
         "07-11",
         "2025",
         "2025-07"
        ],
        [
         "23",
         "2025-07-10 00:00:00",
         "697",
         "700",
         "ATW",
         "698.5",
         "07-10",
         "2025",
         "2025-07"
        ],
        [
         "24",
         "2025-07-09 00:00:00",
         "700",
         "699",
         "ATW",
         "699.5",
         "07-09",
         "2025",
         "2025-07"
        ],
        [
         "25",
         "2025-07-08 00:00:00",
         "700",
         "700",
         "ATW",
         "700.0",
         "07-08",
         "2025",
         "2025-07"
        ],
        [
         "26",
         "2025-07-07 00:00:00",
         "683",
         "700",
         "ATW",
         "691.5",
         "07-07",
         "2025",
         "2025-07"
        ],
        [
         "27",
         "2025-07-04 00:00:00",
         "680",
         "693",
         "ATW",
         "686.5",
         "07-04",
         "2025",
         "2025-07"
        ],
        [
         "28",
         "2025-07-03 00:00:00",
         "682",
         "690",
         "ATW",
         "686.0",
         "07-03",
         "2025",
         "2025-07"
        ],
        [
         "29",
         "2025-07-02 00:00:00",
         "678",
         "682",
         "ATW",
         "680.0",
         "07-02",
         "2025",
         "2025-07"
        ],
        [
         "30",
         "2025-07-01 00:00:00",
         "685",
         "682",
         "ATW",
         "683.5",
         "07-01",
         "2025",
         "2025-07"
        ],
        [
         "31",
         "2025-06-30 00:00:00",
         "680",
         "680",
         "ATW",
         "680.0",
         "06-30",
         "2025",
         "2025-06"
        ],
        [
         "32",
         "2025-06-26 00:00:00",
         "685",
         "693",
         "ATW",
         "689.0",
         "06-26",
         "2025",
         "2025-06"
        ],
        [
         "33",
         "2025-06-25 00:00:00",
         "675",
         "685",
         "ATW",
         "680.0",
         "06-25",
         "2025",
         "2025-06"
        ],
        [
         "34",
         "2025-06-24 00:00:00",
         "670",
         "680",
         "ATW",
         "675.0",
         "06-24",
         "2025",
         "2025-06"
        ],
        [
         "35",
         "2025-06-23 00:00:00",
         "660",
         "660",
         "ATW",
         "660.0",
         "06-23",
         "2025",
         "2025-06"
        ],
        [
         "36",
         "2025-06-20 00:00:00",
         "661",
         "665",
         "ATW",
         "663.0",
         "06-20",
         "2025",
         "2025-06"
        ],
        [
         "37",
         "2025-06-19 00:00:00",
         "663",
         "658",
         "ATW",
         "660.5",
         "06-19",
         "2025",
         "2025-06"
        ],
        [
         "38",
         "2025-06-18 00:00:00",
         "670",
         "663",
         "ATW",
         "666.5",
         "06-18",
         "2025",
         "2025-06"
        ],
        [
         "39",
         "2025-06-17 00:00:00",
         "675",
         "671",
         "ATW",
         "673.0",
         "06-17",
         "2025",
         "2025-06"
        ],
        [
         "40",
         "2025-06-16 00:00:00",
         "677",
         "676",
         "ATW",
         "676.5",
         "06-16",
         "2025",
         "2025-06"
        ],
        [
         "41",
         "2025-06-13 00:00:00",
         "671",
         "686",
         "ATW",
         "678.5",
         "06-13",
         "2025",
         "2025-06"
        ],
        [
         "42",
         "2025-06-12 00:00:00",
         "680",
         "684",
         "ATW",
         "682.0",
         "06-12",
         "2025",
         "2025-06"
        ],
        [
         "43",
         "2025-06-11 00:00:00",
         "687",
         "682",
         "ATW",
         "684.5",
         "06-11",
         "2025",
         "2025-06"
        ],
        [
         "44",
         "2025-06-10 00:00:00",
         "673",
         "680",
         "ATW",
         "676.5",
         "06-10",
         "2025",
         "2025-06"
        ],
        [
         "45",
         "2025-06-06 00:00:00",
         "685",
         "671",
         "ATW",
         "678.0",
         "06-06",
         "2025",
         "2025-06"
        ],
        [
         "46",
         "2025-06-05 00:00:00",
         "683",
         "683",
         "ATW",
         "683.0",
         "06-05",
         "2025",
         "2025-06"
        ],
        [
         "47",
         "2025-06-04 00:00:00",
         "675",
         "682",
         "ATW",
         "678.5",
         "06-04",
         "2025",
         "2025-06"
        ],
        [
         "48",
         "2025-06-03 00:00:00",
         "672",
         "675",
         "ATW",
         "673.5",
         "06-03",
         "2025",
         "2025-06"
        ],
        [
         "49",
         "2025-06-02 00:00:00",
         "670",
         "670",
         "ATW",
         "670.0",
         "06-02",
         "2025",
         "2025-06"
        ]
       ],
       "shape": {
        "columns": 8,
        "rows": 746
       }
      },
      "text/html": [
       "<div>\n",
       "<style scoped>\n",
       "    .dataframe tbody tr th:only-of-type {\n",
       "        vertical-align: middle;\n",
       "    }\n",
       "\n",
       "    .dataframe tbody tr th {\n",
       "        vertical-align: top;\n",
       "    }\n",
       "\n",
       "    .dataframe thead th {\n",
       "        text-align: right;\n",
       "    }\n",
       "</style>\n",
       "<table border=\"1\" class=\"dataframe\">\n",
       "  <thead>\n",
       "    <tr style=\"text-align: right;\">\n",
       "      <th></th>\n",
       "      <th>Séance</th>\n",
       "      <th>Ouverture</th>\n",
       "      <th>Dernier_Cours</th>\n",
       "      <th>Ticker</th>\n",
       "      <th>mean_atw</th>\n",
       "      <th>month_day</th>\n",
       "      <th>years</th>\n",
       "      <th>years_month</th>\n",
       "    </tr>\n",
       "  </thead>\n",
       "  <tbody>\n",
       "    <tr>\n",
       "      <th>0</th>\n",
       "      <td>2025-08-13</td>\n",
       "      <td>760</td>\n",
       "      <td>765</td>\n",
       "      <td>ATW</td>\n",
       "      <td>762.5</td>\n",
       "      <td>08-13</td>\n",
       "      <td>2025</td>\n",
       "      <td>2025-08</td>\n",
       "    </tr>\n",
       "    <tr>\n",
       "      <th>1</th>\n",
       "      <td>2025-08-12</td>\n",
       "      <td>770</td>\n",
       "      <td>768</td>\n",
       "      <td>ATW</td>\n",
       "      <td>769.0</td>\n",
       "      <td>08-12</td>\n",
       "      <td>2025</td>\n",
       "      <td>2025-08</td>\n",
       "    </tr>\n",
       "    <tr>\n",
       "      <th>2</th>\n",
       "      <td>2025-08-11</td>\n",
       "      <td>777</td>\n",
       "      <td>768</td>\n",
       "      <td>ATW</td>\n",
       "      <td>772.5</td>\n",
       "      <td>08-11</td>\n",
       "      <td>2025</td>\n",
       "      <td>2025-08</td>\n",
       "    </tr>\n",
       "    <tr>\n",
       "      <th>3</th>\n",
       "      <td>2025-08-08</td>\n",
       "      <td>779</td>\n",
       "      <td>767</td>\n",
       "      <td>ATW</td>\n",
       "      <td>773.0</td>\n",
       "      <td>08-08</td>\n",
       "      <td>2025</td>\n",
       "      <td>2025-08</td>\n",
       "    </tr>\n",
       "    <tr>\n",
       "      <th>4</th>\n",
       "      <td>2025-08-07</td>\n",
       "      <td>767</td>\n",
       "      <td>769</td>\n",
       "      <td>ATW</td>\n",
       "      <td>768.0</td>\n",
       "      <td>08-07</td>\n",
       "      <td>2025</td>\n",
       "      <td>2025-08</td>\n",
       "    </tr>\n",
       "    <tr>\n",
       "      <th>...</th>\n",
       "      <td>...</td>\n",
       "      <td>...</td>\n",
       "      <td>...</td>\n",
       "      <td>...</td>\n",
       "      <td>...</td>\n",
       "      <td>...</td>\n",
       "      <td>...</td>\n",
       "      <td>...</td>\n",
       "    </tr>\n",
       "    <tr>\n",
       "      <th>741</th>\n",
       "      <td>2022-08-19</td>\n",
       "      <td>443</td>\n",
       "      <td>445</td>\n",
       "      <td>ATW</td>\n",
       "      <td>444.0</td>\n",
       "      <td>08-19</td>\n",
       "      <td>2022</td>\n",
       "      <td>2022-08</td>\n",
       "    </tr>\n",
       "    <tr>\n",
       "      <th>742</th>\n",
       "      <td>2022-08-18</td>\n",
       "      <td>449</td>\n",
       "      <td>443</td>\n",
       "      <td>ATW</td>\n",
       "      <td>446.0</td>\n",
       "      <td>08-18</td>\n",
       "      <td>2022</td>\n",
       "      <td>2022-08</td>\n",
       "    </tr>\n",
       "    <tr>\n",
       "      <th>743</th>\n",
       "      <td>2022-08-17</td>\n",
       "      <td>450</td>\n",
       "      <td>448</td>\n",
       "      <td>ATW</td>\n",
       "      <td>449.0</td>\n",
       "      <td>08-17</td>\n",
       "      <td>2022</td>\n",
       "      <td>2022-08</td>\n",
       "    </tr>\n",
       "    <tr>\n",
       "      <th>744</th>\n",
       "      <td>2022-08-16</td>\n",
       "      <td>448</td>\n",
       "      <td>450</td>\n",
       "      <td>ATW</td>\n",
       "      <td>449.0</td>\n",
       "      <td>08-16</td>\n",
       "      <td>2022</td>\n",
       "      <td>2022-08</td>\n",
       "    </tr>\n",
       "    <tr>\n",
       "      <th>745</th>\n",
       "      <td>2022-08-15</td>\n",
       "      <td>446</td>\n",
       "      <td>448</td>\n",
       "      <td>ATW</td>\n",
       "      <td>447.0</td>\n",
       "      <td>08-15</td>\n",
       "      <td>2022</td>\n",
       "      <td>2022-08</td>\n",
       "    </tr>\n",
       "  </tbody>\n",
       "</table>\n",
       "<p>746 rows × 8 columns</p>\n",
       "</div>"
      ],
      "text/plain": [
       "        Séance  Ouverture  Dernier_Cours Ticker  mean_atw month_day  years  \\\n",
       "0   2025-08-13        760            765    ATW     762.5     08-13   2025   \n",
       "1   2025-08-12        770            768    ATW     769.0     08-12   2025   \n",
       "2   2025-08-11        777            768    ATW     772.5     08-11   2025   \n",
       "3   2025-08-08        779            767    ATW     773.0     08-08   2025   \n",
       "4   2025-08-07        767            769    ATW     768.0     08-07   2025   \n",
       "..         ...        ...            ...    ...       ...       ...    ...   \n",
       "741 2022-08-19        443            445    ATW     444.0     08-19   2022   \n",
       "742 2022-08-18        449            443    ATW     446.0     08-18   2022   \n",
       "743 2022-08-17        450            448    ATW     449.0     08-17   2022   \n",
       "744 2022-08-16        448            450    ATW     449.0     08-16   2022   \n",
       "745 2022-08-15        446            448    ATW     447.0     08-15   2022   \n",
       "\n",
       "    years_month  \n",
       "0       2025-08  \n",
       "1       2025-08  \n",
       "2       2025-08  \n",
       "3       2025-08  \n",
       "4       2025-08  \n",
       "..          ...  \n",
       "741     2022-08  \n",
       "742     2022-08  \n",
       "743     2022-08  \n",
       "744     2022-08  \n",
       "745     2022-08  \n",
       "\n",
       "[746 rows x 8 columns]"
      ]
     },
     "execution_count": 18,
     "metadata": {},
     "output_type": "execute_result"
    }
   ],
   "source": [
    "df['years_month'] = df['Séance'].dt.strftime('%Y-%m')\n",
    "df"
   ]
  },
  {
   "cell_type": "code",
   "execution_count": 19,
   "id": "c3dcd80c",
   "metadata": {},
   "outputs": [],
   "source": [
    "df2 = df.copy()"
   ]
  },
  {
   "cell_type": "code",
   "execution_count": 20,
   "id": "03e6d098",
   "metadata": {},
   "outputs": [],
   "source": [
    "df2.set_index('years_month',inplace=True)"
   ]
  },
  {
   "cell_type": "code",
   "execution_count": 21,
   "id": "e5d203cd",
   "metadata": {},
   "outputs": [
    {
     "data": {
      "application/vnd.microsoft.datawrangler.viewer.v0+json": {
       "columns": [
        {
         "name": "years_month",
         "rawType": "object",
         "type": "string"
        },
        {
         "name": "Séance",
         "rawType": "datetime64[ns]",
         "type": "datetime"
        },
        {
         "name": "Ouverture",
         "rawType": "int64",
         "type": "integer"
        },
        {
         "name": "Dernier_Cours",
         "rawType": "int64",
         "type": "integer"
        },
        {
         "name": "Ticker",
         "rawType": "object",
         "type": "string"
        },
        {
         "name": "mean_atw",
         "rawType": "float64",
         "type": "float"
        },
        {
         "name": "month_day",
         "rawType": "object",
         "type": "string"
        },
        {
         "name": "years",
         "rawType": "int32",
         "type": "integer"
        }
       ],
       "ref": "7c3f36a0-65d9-43a2-81e2-5094b3fe47bc",
       "rows": [
        [
         "2025-08",
         "2025-08-13 00:00:00",
         "760",
         "765",
         "ATW",
         "762.5",
         "08-13",
         "2025"
        ],
        [
         "2025-08",
         "2025-08-12 00:00:00",
         "770",
         "768",
         "ATW",
         "769.0",
         "08-12",
         "2025"
        ],
        [
         "2025-08",
         "2025-08-11 00:00:00",
         "777",
         "768",
         "ATW",
         "772.5",
         "08-11",
         "2025"
        ],
        [
         "2025-08",
         "2025-08-08 00:00:00",
         "779",
         "767",
         "ATW",
         "773.0",
         "08-08",
         "2025"
        ],
        [
         "2025-08",
         "2025-08-07 00:00:00",
         "767",
         "769",
         "ATW",
         "768.0",
         "08-07",
         "2025"
        ],
        [
         "2025-08",
         "2025-08-06 00:00:00",
         "752",
         "767",
         "ATW",
         "759.5",
         "08-06",
         "2025"
        ],
        [
         "2025-08",
         "2025-08-05 00:00:00",
         "747",
         "753",
         "ATW",
         "750.0",
         "08-05",
         "2025"
        ],
        [
         "2025-08",
         "2025-08-04 00:00:00",
         "750",
         "750",
         "ATW",
         "750.0",
         "08-04",
         "2025"
        ],
        [
         "2025-08",
         "2025-08-01 00:00:00",
         "765",
         "750",
         "ATW",
         "757.5",
         "08-01",
         "2025"
        ],
        [
         "2025-07",
         "2025-07-31 00:00:00",
         "736",
         "750",
         "ATW",
         "743.0",
         "07-31",
         "2025"
        ],
        [
         "2025-07",
         "2025-07-29 00:00:00",
         "725",
         "740",
         "ATW",
         "732.5",
         "07-29",
         "2025"
        ],
        [
         "2025-07",
         "2025-07-28 00:00:00",
         "730",
         "726",
         "ATW",
         "728.0",
         "07-28",
         "2025"
        ],
        [
         "2025-07",
         "2025-07-25 00:00:00",
         "733",
         "735",
         "ATW",
         "734.0",
         "07-25",
         "2025"
        ],
        [
         "2025-07",
         "2025-07-24 00:00:00",
         "710",
         "730",
         "ATW",
         "720.0",
         "07-24",
         "2025"
        ],
        [
         "2025-07",
         "2025-07-23 00:00:00",
         "707",
         "710",
         "ATW",
         "708.5",
         "07-23",
         "2025"
        ],
        [
         "2025-07",
         "2025-07-22 00:00:00",
         "710",
         "710",
         "ATW",
         "710.0",
         "07-22",
         "2025"
        ],
        [
         "2025-07",
         "2025-07-21 00:00:00",
         "724",
         "718",
         "ATW",
         "721.0",
         "07-21",
         "2025"
        ],
        [
         "2025-07",
         "2025-07-18 00:00:00",
         "691",
         "725",
         "ATW",
         "708.0",
         "07-18",
         "2025"
        ],
        [
         "2025-07",
         "2025-07-17 00:00:00",
         "700",
         "700",
         "ATW",
         "700.0",
         "07-17",
         "2025"
        ],
        [
         "2025-07",
         "2025-07-16 00:00:00",
         "699",
         "700",
         "ATW",
         "699.5",
         "07-16",
         "2025"
        ],
        [
         "2025-07",
         "2025-07-15 00:00:00",
         "695",
         "699",
         "ATW",
         "697.0",
         "07-15",
         "2025"
        ],
        [
         "2025-07",
         "2025-07-14 00:00:00",
         "697",
         "700",
         "ATW",
         "698.5",
         "07-14",
         "2025"
        ],
        [
         "2025-07",
         "2025-07-11 00:00:00",
         "696",
         "700",
         "ATW",
         "698.0",
         "07-11",
         "2025"
        ],
        [
         "2025-07",
         "2025-07-10 00:00:00",
         "697",
         "700",
         "ATW",
         "698.5",
         "07-10",
         "2025"
        ],
        [
         "2025-07",
         "2025-07-09 00:00:00",
         "700",
         "699",
         "ATW",
         "699.5",
         "07-09",
         "2025"
        ],
        [
         "2025-07",
         "2025-07-08 00:00:00",
         "700",
         "700",
         "ATW",
         "700.0",
         "07-08",
         "2025"
        ],
        [
         "2025-07",
         "2025-07-07 00:00:00",
         "683",
         "700",
         "ATW",
         "691.5",
         "07-07",
         "2025"
        ],
        [
         "2025-07",
         "2025-07-04 00:00:00",
         "680",
         "693",
         "ATW",
         "686.5",
         "07-04",
         "2025"
        ],
        [
         "2025-07",
         "2025-07-03 00:00:00",
         "682",
         "690",
         "ATW",
         "686.0",
         "07-03",
         "2025"
        ],
        [
         "2025-07",
         "2025-07-02 00:00:00",
         "678",
         "682",
         "ATW",
         "680.0",
         "07-02",
         "2025"
        ],
        [
         "2025-07",
         "2025-07-01 00:00:00",
         "685",
         "682",
         "ATW",
         "683.5",
         "07-01",
         "2025"
        ],
        [
         "2025-06",
         "2025-06-30 00:00:00",
         "680",
         "680",
         "ATW",
         "680.0",
         "06-30",
         "2025"
        ],
        [
         "2025-06",
         "2025-06-26 00:00:00",
         "685",
         "693",
         "ATW",
         "689.0",
         "06-26",
         "2025"
        ],
        [
         "2025-06",
         "2025-06-25 00:00:00",
         "675",
         "685",
         "ATW",
         "680.0",
         "06-25",
         "2025"
        ],
        [
         "2025-06",
         "2025-06-24 00:00:00",
         "670",
         "680",
         "ATW",
         "675.0",
         "06-24",
         "2025"
        ],
        [
         "2025-06",
         "2025-06-23 00:00:00",
         "660",
         "660",
         "ATW",
         "660.0",
         "06-23",
         "2025"
        ],
        [
         "2025-06",
         "2025-06-20 00:00:00",
         "661",
         "665",
         "ATW",
         "663.0",
         "06-20",
         "2025"
        ],
        [
         "2025-06",
         "2025-06-19 00:00:00",
         "663",
         "658",
         "ATW",
         "660.5",
         "06-19",
         "2025"
        ],
        [
         "2025-06",
         "2025-06-18 00:00:00",
         "670",
         "663",
         "ATW",
         "666.5",
         "06-18",
         "2025"
        ],
        [
         "2025-06",
         "2025-06-17 00:00:00",
         "675",
         "671",
         "ATW",
         "673.0",
         "06-17",
         "2025"
        ],
        [
         "2025-06",
         "2025-06-16 00:00:00",
         "677",
         "676",
         "ATW",
         "676.5",
         "06-16",
         "2025"
        ],
        [
         "2025-06",
         "2025-06-13 00:00:00",
         "671",
         "686",
         "ATW",
         "678.5",
         "06-13",
         "2025"
        ],
        [
         "2025-06",
         "2025-06-12 00:00:00",
         "680",
         "684",
         "ATW",
         "682.0",
         "06-12",
         "2025"
        ],
        [
         "2025-06",
         "2025-06-11 00:00:00",
         "687",
         "682",
         "ATW",
         "684.5",
         "06-11",
         "2025"
        ],
        [
         "2025-06",
         "2025-06-10 00:00:00",
         "673",
         "680",
         "ATW",
         "676.5",
         "06-10",
         "2025"
        ],
        [
         "2025-06",
         "2025-06-06 00:00:00",
         "685",
         "671",
         "ATW",
         "678.0",
         "06-06",
         "2025"
        ],
        [
         "2025-06",
         "2025-06-05 00:00:00",
         "683",
         "683",
         "ATW",
         "683.0",
         "06-05",
         "2025"
        ],
        [
         "2025-06",
         "2025-06-04 00:00:00",
         "675",
         "682",
         "ATW",
         "678.5",
         "06-04",
         "2025"
        ],
        [
         "2025-06",
         "2025-06-03 00:00:00",
         "672",
         "675",
         "ATW",
         "673.5",
         "06-03",
         "2025"
        ],
        [
         "2025-06",
         "2025-06-02 00:00:00",
         "670",
         "670",
         "ATW",
         "670.0",
         "06-02",
         "2025"
        ]
       ],
       "shape": {
        "columns": 7,
        "rows": 746
       }
      },
      "text/html": [
       "<div>\n",
       "<style scoped>\n",
       "    .dataframe tbody tr th:only-of-type {\n",
       "        vertical-align: middle;\n",
       "    }\n",
       "\n",
       "    .dataframe tbody tr th {\n",
       "        vertical-align: top;\n",
       "    }\n",
       "\n",
       "    .dataframe thead th {\n",
       "        text-align: right;\n",
       "    }\n",
       "</style>\n",
       "<table border=\"1\" class=\"dataframe\">\n",
       "  <thead>\n",
       "    <tr style=\"text-align: right;\">\n",
       "      <th></th>\n",
       "      <th>Séance</th>\n",
       "      <th>Ouverture</th>\n",
       "      <th>Dernier_Cours</th>\n",
       "      <th>Ticker</th>\n",
       "      <th>mean_atw</th>\n",
       "      <th>month_day</th>\n",
       "      <th>years</th>\n",
       "    </tr>\n",
       "    <tr>\n",
       "      <th>years_month</th>\n",
       "      <th></th>\n",
       "      <th></th>\n",
       "      <th></th>\n",
       "      <th></th>\n",
       "      <th></th>\n",
       "      <th></th>\n",
       "      <th></th>\n",
       "    </tr>\n",
       "  </thead>\n",
       "  <tbody>\n",
       "    <tr>\n",
       "      <th>2025-08</th>\n",
       "      <td>2025-08-13</td>\n",
       "      <td>760</td>\n",
       "      <td>765</td>\n",
       "      <td>ATW</td>\n",
       "      <td>762.5</td>\n",
       "      <td>08-13</td>\n",
       "      <td>2025</td>\n",
       "    </tr>\n",
       "    <tr>\n",
       "      <th>2025-08</th>\n",
       "      <td>2025-08-12</td>\n",
       "      <td>770</td>\n",
       "      <td>768</td>\n",
       "      <td>ATW</td>\n",
       "      <td>769.0</td>\n",
       "      <td>08-12</td>\n",
       "      <td>2025</td>\n",
       "    </tr>\n",
       "    <tr>\n",
       "      <th>2025-08</th>\n",
       "      <td>2025-08-11</td>\n",
       "      <td>777</td>\n",
       "      <td>768</td>\n",
       "      <td>ATW</td>\n",
       "      <td>772.5</td>\n",
       "      <td>08-11</td>\n",
       "      <td>2025</td>\n",
       "    </tr>\n",
       "    <tr>\n",
       "      <th>2025-08</th>\n",
       "      <td>2025-08-08</td>\n",
       "      <td>779</td>\n",
       "      <td>767</td>\n",
       "      <td>ATW</td>\n",
       "      <td>773.0</td>\n",
       "      <td>08-08</td>\n",
       "      <td>2025</td>\n",
       "    </tr>\n",
       "    <tr>\n",
       "      <th>2025-08</th>\n",
       "      <td>2025-08-07</td>\n",
       "      <td>767</td>\n",
       "      <td>769</td>\n",
       "      <td>ATW</td>\n",
       "      <td>768.0</td>\n",
       "      <td>08-07</td>\n",
       "      <td>2025</td>\n",
       "    </tr>\n",
       "    <tr>\n",
       "      <th>...</th>\n",
       "      <td>...</td>\n",
       "      <td>...</td>\n",
       "      <td>...</td>\n",
       "      <td>...</td>\n",
       "      <td>...</td>\n",
       "      <td>...</td>\n",
       "      <td>...</td>\n",
       "    </tr>\n",
       "    <tr>\n",
       "      <th>2022-08</th>\n",
       "      <td>2022-08-19</td>\n",
       "      <td>443</td>\n",
       "      <td>445</td>\n",
       "      <td>ATW</td>\n",
       "      <td>444.0</td>\n",
       "      <td>08-19</td>\n",
       "      <td>2022</td>\n",
       "    </tr>\n",
       "    <tr>\n",
       "      <th>2022-08</th>\n",
       "      <td>2022-08-18</td>\n",
       "      <td>449</td>\n",
       "      <td>443</td>\n",
       "      <td>ATW</td>\n",
       "      <td>446.0</td>\n",
       "      <td>08-18</td>\n",
       "      <td>2022</td>\n",
       "    </tr>\n",
       "    <tr>\n",
       "      <th>2022-08</th>\n",
       "      <td>2022-08-17</td>\n",
       "      <td>450</td>\n",
       "      <td>448</td>\n",
       "      <td>ATW</td>\n",
       "      <td>449.0</td>\n",
       "      <td>08-17</td>\n",
       "      <td>2022</td>\n",
       "    </tr>\n",
       "    <tr>\n",
       "      <th>2022-08</th>\n",
       "      <td>2022-08-16</td>\n",
       "      <td>448</td>\n",
       "      <td>450</td>\n",
       "      <td>ATW</td>\n",
       "      <td>449.0</td>\n",
       "      <td>08-16</td>\n",
       "      <td>2022</td>\n",
       "    </tr>\n",
       "    <tr>\n",
       "      <th>2022-08</th>\n",
       "      <td>2022-08-15</td>\n",
       "      <td>446</td>\n",
       "      <td>448</td>\n",
       "      <td>ATW</td>\n",
       "      <td>447.0</td>\n",
       "      <td>08-15</td>\n",
       "      <td>2022</td>\n",
       "    </tr>\n",
       "  </tbody>\n",
       "</table>\n",
       "<p>746 rows × 7 columns</p>\n",
       "</div>"
      ],
      "text/plain": [
       "                Séance  Ouverture  Dernier_Cours Ticker  mean_atw month_day  \\\n",
       "years_month                                                                   \n",
       "2025-08     2025-08-13        760            765    ATW     762.5     08-13   \n",
       "2025-08     2025-08-12        770            768    ATW     769.0     08-12   \n",
       "2025-08     2025-08-11        777            768    ATW     772.5     08-11   \n",
       "2025-08     2025-08-08        779            767    ATW     773.0     08-08   \n",
       "2025-08     2025-08-07        767            769    ATW     768.0     08-07   \n",
       "...                ...        ...            ...    ...       ...       ...   \n",
       "2022-08     2022-08-19        443            445    ATW     444.0     08-19   \n",
       "2022-08     2022-08-18        449            443    ATW     446.0     08-18   \n",
       "2022-08     2022-08-17        450            448    ATW     449.0     08-17   \n",
       "2022-08     2022-08-16        448            450    ATW     449.0     08-16   \n",
       "2022-08     2022-08-15        446            448    ATW     447.0     08-15   \n",
       "\n",
       "             years  \n",
       "years_month         \n",
       "2025-08       2025  \n",
       "2025-08       2025  \n",
       "2025-08       2025  \n",
       "2025-08       2025  \n",
       "2025-08       2025  \n",
       "...            ...  \n",
       "2022-08       2022  \n",
       "2022-08       2022  \n",
       "2022-08       2022  \n",
       "2022-08       2022  \n",
       "2022-08       2022  \n",
       "\n",
       "[746 rows x 7 columns]"
      ]
     },
     "execution_count": 21,
     "metadata": {},
     "output_type": "execute_result"
    }
   ],
   "source": [
    "df2"
   ]
  },
  {
   "cell_type": "code",
   "execution_count": 22,
   "id": "be1a1856",
   "metadata": {},
   "outputs": [
    {
     "data": {
      "application/vnd.microsoft.datawrangler.viewer.v0+json": {
       "columns": [
        {
         "name": "years_month",
         "rawType": "object",
         "type": "string"
        },
        {
         "name": "Séance",
         "rawType": "datetime64[ns]",
         "type": "datetime"
        },
        {
         "name": "Ouverture",
         "rawType": "int64",
         "type": "integer"
        },
        {
         "name": "Dernier_Cours",
         "rawType": "int64",
         "type": "integer"
        },
        {
         "name": "Ticker",
         "rawType": "object",
         "type": "string"
        },
        {
         "name": "mean_atw",
         "rawType": "float64",
         "type": "float"
        },
        {
         "name": "month_day",
         "rawType": "object",
         "type": "string"
        },
        {
         "name": "years",
         "rawType": "int32",
         "type": "integer"
        }
       ],
       "ref": "0f6c8967-74d4-4427-8c66-b2c62df31de1",
       "rows": [
        [
         "2025-08",
         "2025-08-13 00:00:00",
         "760",
         "765",
         "ATW",
         "762.5",
         "08-13",
         "2025"
        ],
        [
         "2025-08",
         "2025-08-12 00:00:00",
         "770",
         "768",
         "ATW",
         "769.0",
         "08-12",
         "2025"
        ],
        [
         "2025-08",
         "2025-08-11 00:00:00",
         "777",
         "768",
         "ATW",
         "772.5",
         "08-11",
         "2025"
        ],
        [
         "2025-08",
         "2025-08-08 00:00:00",
         "779",
         "767",
         "ATW",
         "773.0",
         "08-08",
         "2025"
        ],
        [
         "2025-08",
         "2025-08-07 00:00:00",
         "767",
         "769",
         "ATW",
         "768.0",
         "08-07",
         "2025"
        ],
        [
         "2025-08",
         "2025-08-06 00:00:00",
         "752",
         "767",
         "ATW",
         "759.5",
         "08-06",
         "2025"
        ],
        [
         "2025-08",
         "2025-08-05 00:00:00",
         "747",
         "753",
         "ATW",
         "750.0",
         "08-05",
         "2025"
        ],
        [
         "2025-08",
         "2025-08-04 00:00:00",
         "750",
         "750",
         "ATW",
         "750.0",
         "08-04",
         "2025"
        ],
        [
         "2025-08",
         "2025-08-01 00:00:00",
         "765",
         "750",
         "ATW",
         "757.5",
         "08-01",
         "2025"
        ],
        [
         "2025-07",
         "2025-07-31 00:00:00",
         "736",
         "750",
         "ATW",
         "743.0",
         "07-31",
         "2025"
        ],
        [
         "2025-07",
         "2025-07-29 00:00:00",
         "725",
         "740",
         "ATW",
         "732.5",
         "07-29",
         "2025"
        ],
        [
         "2025-07",
         "2025-07-28 00:00:00",
         "730",
         "726",
         "ATW",
         "728.0",
         "07-28",
         "2025"
        ],
        [
         "2025-07",
         "2025-07-25 00:00:00",
         "733",
         "735",
         "ATW",
         "734.0",
         "07-25",
         "2025"
        ],
        [
         "2025-07",
         "2025-07-24 00:00:00",
         "710",
         "730",
         "ATW",
         "720.0",
         "07-24",
         "2025"
        ],
        [
         "2025-07",
         "2025-07-23 00:00:00",
         "707",
         "710",
         "ATW",
         "708.5",
         "07-23",
         "2025"
        ],
        [
         "2025-07",
         "2025-07-22 00:00:00",
         "710",
         "710",
         "ATW",
         "710.0",
         "07-22",
         "2025"
        ],
        [
         "2025-07",
         "2025-07-21 00:00:00",
         "724",
         "718",
         "ATW",
         "721.0",
         "07-21",
         "2025"
        ],
        [
         "2025-07",
         "2025-07-18 00:00:00",
         "691",
         "725",
         "ATW",
         "708.0",
         "07-18",
         "2025"
        ],
        [
         "2025-07",
         "2025-07-17 00:00:00",
         "700",
         "700",
         "ATW",
         "700.0",
         "07-17",
         "2025"
        ],
        [
         "2025-07",
         "2025-07-16 00:00:00",
         "699",
         "700",
         "ATW",
         "699.5",
         "07-16",
         "2025"
        ],
        [
         "2025-07",
         "2025-07-15 00:00:00",
         "695",
         "699",
         "ATW",
         "697.0",
         "07-15",
         "2025"
        ],
        [
         "2025-07",
         "2025-07-14 00:00:00",
         "697",
         "700",
         "ATW",
         "698.5",
         "07-14",
         "2025"
        ],
        [
         "2025-07",
         "2025-07-11 00:00:00",
         "696",
         "700",
         "ATW",
         "698.0",
         "07-11",
         "2025"
        ],
        [
         "2025-07",
         "2025-07-10 00:00:00",
         "697",
         "700",
         "ATW",
         "698.5",
         "07-10",
         "2025"
        ],
        [
         "2025-07",
         "2025-07-09 00:00:00",
         "700",
         "699",
         "ATW",
         "699.5",
         "07-09",
         "2025"
        ],
        [
         "2025-07",
         "2025-07-08 00:00:00",
         "700",
         "700",
         "ATW",
         "700.0",
         "07-08",
         "2025"
        ],
        [
         "2025-07",
         "2025-07-07 00:00:00",
         "683",
         "700",
         "ATW",
         "691.5",
         "07-07",
         "2025"
        ],
        [
         "2025-07",
         "2025-07-04 00:00:00",
         "680",
         "693",
         "ATW",
         "686.5",
         "07-04",
         "2025"
        ],
        [
         "2025-07",
         "2025-07-03 00:00:00",
         "682",
         "690",
         "ATW",
         "686.0",
         "07-03",
         "2025"
        ],
        [
         "2025-07",
         "2025-07-02 00:00:00",
         "678",
         "682",
         "ATW",
         "680.0",
         "07-02",
         "2025"
        ],
        [
         "2025-07",
         "2025-07-01 00:00:00",
         "685",
         "682",
         "ATW",
         "683.5",
         "07-01",
         "2025"
        ],
        [
         "2025-06",
         "2025-06-30 00:00:00",
         "680",
         "680",
         "ATW",
         "680.0",
         "06-30",
         "2025"
        ],
        [
         "2025-06",
         "2025-06-26 00:00:00",
         "685",
         "693",
         "ATW",
         "689.0",
         "06-26",
         "2025"
        ],
        [
         "2025-06",
         "2025-06-25 00:00:00",
         "675",
         "685",
         "ATW",
         "680.0",
         "06-25",
         "2025"
        ],
        [
         "2025-06",
         "2025-06-24 00:00:00",
         "670",
         "680",
         "ATW",
         "675.0",
         "06-24",
         "2025"
        ],
        [
         "2025-06",
         "2025-06-23 00:00:00",
         "660",
         "660",
         "ATW",
         "660.0",
         "06-23",
         "2025"
        ],
        [
         "2025-06",
         "2025-06-20 00:00:00",
         "661",
         "665",
         "ATW",
         "663.0",
         "06-20",
         "2025"
        ],
        [
         "2025-06",
         "2025-06-19 00:00:00",
         "663",
         "658",
         "ATW",
         "660.5",
         "06-19",
         "2025"
        ],
        [
         "2025-06",
         "2025-06-18 00:00:00",
         "670",
         "663",
         "ATW",
         "666.5",
         "06-18",
         "2025"
        ],
        [
         "2025-06",
         "2025-06-17 00:00:00",
         "675",
         "671",
         "ATW",
         "673.0",
         "06-17",
         "2025"
        ],
        [
         "2025-06",
         "2025-06-16 00:00:00",
         "677",
         "676",
         "ATW",
         "676.5",
         "06-16",
         "2025"
        ],
        [
         "2025-06",
         "2025-06-13 00:00:00",
         "671",
         "686",
         "ATW",
         "678.5",
         "06-13",
         "2025"
        ],
        [
         "2025-06",
         "2025-06-12 00:00:00",
         "680",
         "684",
         "ATW",
         "682.0",
         "06-12",
         "2025"
        ],
        [
         "2025-06",
         "2025-06-11 00:00:00",
         "687",
         "682",
         "ATW",
         "684.5",
         "06-11",
         "2025"
        ],
        [
         "2025-06",
         "2025-06-10 00:00:00",
         "673",
         "680",
         "ATW",
         "676.5",
         "06-10",
         "2025"
        ],
        [
         "2025-06",
         "2025-06-06 00:00:00",
         "685",
         "671",
         "ATW",
         "678.0",
         "06-06",
         "2025"
        ],
        [
         "2025-06",
         "2025-06-05 00:00:00",
         "683",
         "683",
         "ATW",
         "683.0",
         "06-05",
         "2025"
        ],
        [
         "2025-06",
         "2025-06-04 00:00:00",
         "675",
         "682",
         "ATW",
         "678.5",
         "06-04",
         "2025"
        ],
        [
         "2025-06",
         "2025-06-03 00:00:00",
         "672",
         "675",
         "ATW",
         "673.5",
         "06-03",
         "2025"
        ],
        [
         "2025-06",
         "2025-06-02 00:00:00",
         "670",
         "670",
         "ATW",
         "670.0",
         "06-02",
         "2025"
        ]
       ],
       "shape": {
        "columns": 7,
        "rows": 746
       }
      },
      "text/html": [
       "<div>\n",
       "<style scoped>\n",
       "    .dataframe tbody tr th:only-of-type {\n",
       "        vertical-align: middle;\n",
       "    }\n",
       "\n",
       "    .dataframe tbody tr th {\n",
       "        vertical-align: top;\n",
       "    }\n",
       "\n",
       "    .dataframe thead th {\n",
       "        text-align: right;\n",
       "    }\n",
       "</style>\n",
       "<table border=\"1\" class=\"dataframe\">\n",
       "  <thead>\n",
       "    <tr style=\"text-align: right;\">\n",
       "      <th></th>\n",
       "      <th>Séance</th>\n",
       "      <th>Ouverture</th>\n",
       "      <th>Dernier_Cours</th>\n",
       "      <th>Ticker</th>\n",
       "      <th>mean_atw</th>\n",
       "      <th>month_day</th>\n",
       "      <th>years</th>\n",
       "    </tr>\n",
       "    <tr>\n",
       "      <th>years_month</th>\n",
       "      <th></th>\n",
       "      <th></th>\n",
       "      <th></th>\n",
       "      <th></th>\n",
       "      <th></th>\n",
       "      <th></th>\n",
       "      <th></th>\n",
       "    </tr>\n",
       "  </thead>\n",
       "  <tbody>\n",
       "    <tr>\n",
       "      <th>2025-08</th>\n",
       "      <td>2025-08-13</td>\n",
       "      <td>760</td>\n",
       "      <td>765</td>\n",
       "      <td>ATW</td>\n",
       "      <td>762.5</td>\n",
       "      <td>08-13</td>\n",
       "      <td>2025</td>\n",
       "    </tr>\n",
       "    <tr>\n",
       "      <th>2025-08</th>\n",
       "      <td>2025-08-12</td>\n",
       "      <td>770</td>\n",
       "      <td>768</td>\n",
       "      <td>ATW</td>\n",
       "      <td>769.0</td>\n",
       "      <td>08-12</td>\n",
       "      <td>2025</td>\n",
       "    </tr>\n",
       "    <tr>\n",
       "      <th>2025-08</th>\n",
       "      <td>2025-08-11</td>\n",
       "      <td>777</td>\n",
       "      <td>768</td>\n",
       "      <td>ATW</td>\n",
       "      <td>772.5</td>\n",
       "      <td>08-11</td>\n",
       "      <td>2025</td>\n",
       "    </tr>\n",
       "    <tr>\n",
       "      <th>2025-08</th>\n",
       "      <td>2025-08-08</td>\n",
       "      <td>779</td>\n",
       "      <td>767</td>\n",
       "      <td>ATW</td>\n",
       "      <td>773.0</td>\n",
       "      <td>08-08</td>\n",
       "      <td>2025</td>\n",
       "    </tr>\n",
       "    <tr>\n",
       "      <th>2025-08</th>\n",
       "      <td>2025-08-07</td>\n",
       "      <td>767</td>\n",
       "      <td>769</td>\n",
       "      <td>ATW</td>\n",
       "      <td>768.0</td>\n",
       "      <td>08-07</td>\n",
       "      <td>2025</td>\n",
       "    </tr>\n",
       "    <tr>\n",
       "      <th>...</th>\n",
       "      <td>...</td>\n",
       "      <td>...</td>\n",
       "      <td>...</td>\n",
       "      <td>...</td>\n",
       "      <td>...</td>\n",
       "      <td>...</td>\n",
       "      <td>...</td>\n",
       "    </tr>\n",
       "    <tr>\n",
       "      <th>2022-08</th>\n",
       "      <td>2022-08-19</td>\n",
       "      <td>443</td>\n",
       "      <td>445</td>\n",
       "      <td>ATW</td>\n",
       "      <td>444.0</td>\n",
       "      <td>08-19</td>\n",
       "      <td>2022</td>\n",
       "    </tr>\n",
       "    <tr>\n",
       "      <th>2022-08</th>\n",
       "      <td>2022-08-18</td>\n",
       "      <td>449</td>\n",
       "      <td>443</td>\n",
       "      <td>ATW</td>\n",
       "      <td>446.0</td>\n",
       "      <td>08-18</td>\n",
       "      <td>2022</td>\n",
       "    </tr>\n",
       "    <tr>\n",
       "      <th>2022-08</th>\n",
       "      <td>2022-08-17</td>\n",
       "      <td>450</td>\n",
       "      <td>448</td>\n",
       "      <td>ATW</td>\n",
       "      <td>449.0</td>\n",
       "      <td>08-17</td>\n",
       "      <td>2022</td>\n",
       "    </tr>\n",
       "    <tr>\n",
       "      <th>2022-08</th>\n",
       "      <td>2022-08-16</td>\n",
       "      <td>448</td>\n",
       "      <td>450</td>\n",
       "      <td>ATW</td>\n",
       "      <td>449.0</td>\n",
       "      <td>08-16</td>\n",
       "      <td>2022</td>\n",
       "    </tr>\n",
       "    <tr>\n",
       "      <th>2022-08</th>\n",
       "      <td>2022-08-15</td>\n",
       "      <td>446</td>\n",
       "      <td>448</td>\n",
       "      <td>ATW</td>\n",
       "      <td>447.0</td>\n",
       "      <td>08-15</td>\n",
       "      <td>2022</td>\n",
       "    </tr>\n",
       "  </tbody>\n",
       "</table>\n",
       "<p>746 rows × 7 columns</p>\n",
       "</div>"
      ],
      "text/plain": [
       "                Séance  Ouverture  Dernier_Cours Ticker  mean_atw month_day  \\\n",
       "years_month                                                                   \n",
       "2025-08     2025-08-13        760            765    ATW     762.5     08-13   \n",
       "2025-08     2025-08-12        770            768    ATW     769.0     08-12   \n",
       "2025-08     2025-08-11        777            768    ATW     772.5     08-11   \n",
       "2025-08     2025-08-08        779            767    ATW     773.0     08-08   \n",
       "2025-08     2025-08-07        767            769    ATW     768.0     08-07   \n",
       "...                ...        ...            ...    ...       ...       ...   \n",
       "2022-08     2022-08-19        443            445    ATW     444.0     08-19   \n",
       "2022-08     2022-08-18        449            443    ATW     446.0     08-18   \n",
       "2022-08     2022-08-17        450            448    ATW     449.0     08-17   \n",
       "2022-08     2022-08-16        448            450    ATW     449.0     08-16   \n",
       "2022-08     2022-08-15        446            448    ATW     447.0     08-15   \n",
       "\n",
       "             years  \n",
       "years_month         \n",
       "2025-08       2025  \n",
       "2025-08       2025  \n",
       "2025-08       2025  \n",
       "2025-08       2025  \n",
       "2025-08       2025  \n",
       "...            ...  \n",
       "2022-08       2022  \n",
       "2022-08       2022  \n",
       "2022-08       2022  \n",
       "2022-08       2022  \n",
       "2022-08       2022  \n",
       "\n",
       "[746 rows x 7 columns]"
      ]
     },
     "execution_count": 22,
     "metadata": {},
     "output_type": "execute_result"
    }
   ],
   "source": [
    "df2"
   ]
  },
  {
   "cell_type": "code",
   "execution_count": 23,
   "id": "d2141a2b",
   "metadata": {},
   "outputs": [
    {
     "name": "stderr",
     "output_type": "stream",
     "text": [
      "C:\\Users\\ULTRAPC\\AppData\\Local\\Temp\\ipykernel_12816\\1997461668.py:2: FutureWarning: 'Q' is deprecated and will be removed in a future version, please use 'QE' instead.\n",
      "  df_quarterly_mean = df2.resample('Q')['mean_atw',].mean()\n"
     ]
    }
   ],
   "source": [
    "df2.set_index('Séance', inplace=True)\n",
    "df_quarterly_mean = df2.resample('Q')['mean_atw',].mean()\n",
    "df_quarterly_mean=df_quarterly_mean.round(3).reset_index()\n",
    "df_quarterly_mean['year_month']= df_quarterly_mean['Séance'].dt.strftime('%Y-%m',)\n",
    "df_quarterly_mean = df_quarterly_mean.sort_values('Séance',ascending=False).reset_index()\n",
    "df_quarterly_mean.drop(columns='index',inplace=True)"
   ]
  },
  {
   "cell_type": "code",
   "execution_count": 24,
   "id": "0894deb3",
   "metadata": {},
   "outputs": [
    {
     "data": {
      "application/vnd.microsoft.datawrangler.viewer.v0+json": {
       "columns": [
        {
         "name": "index",
         "rawType": "int64",
         "type": "integer"
        },
        {
         "name": "Séance",
         "rawType": "datetime64[ns]",
         "type": "datetime"
        },
        {
         "name": "mean_atw",
         "rawType": "float64",
         "type": "float"
        },
        {
         "name": "year_month",
         "rawType": "object",
         "type": "string"
        }
       ],
       "ref": "27255fbf-9b36-4b6d-b4b6-511fec849260",
       "rows": [
        [
         "0",
         "2025-09-30 00:00:00",
         "722.113",
         "2025-09"
        ],
        [
         "1",
         "2025-06-30 00:00:00",
         "669.541",
         "2025-06"
        ],
        [
         "2",
         "2025-03-31 00:00:00",
         "639.156",
         "2025-03"
        ],
        [
         "3",
         "2024-12-31 00:00:00",
         "558.0",
         "2024-12"
        ],
        [
         "4",
         "2024-09-30 00:00:00",
         "534.758",
         "2024-09"
        ],
        [
         "5",
         "2024-06-30 00:00:00",
         "508.644",
         "2024-06"
        ],
        [
         "6",
         "2024-03-31 00:00:00",
         "493.635",
         "2024-03"
        ],
        [
         "7",
         "2023-12-31 00:00:00",
         "462.844",
         "2023-12"
        ],
        [
         "8",
         "2023-09-30 00:00:00",
         "445.633",
         "2023-09"
        ],
        [
         "9",
         "2023-06-30 00:00:00",
         "414.123",
         "2023-06"
        ],
        [
         "10",
         "2023-03-31 00:00:00",
         "386.617",
         "2023-03"
        ],
        [
         "11",
         "2022-12-31 00:00:00",
         "401.183",
         "2022-12"
        ],
        [
         "12",
         "2022-09-30 00:00:00",
         "437.257",
         "2022-09"
        ]
       ],
       "shape": {
        "columns": 3,
        "rows": 13
       }
      },
      "text/html": [
       "<div>\n",
       "<style scoped>\n",
       "    .dataframe tbody tr th:only-of-type {\n",
       "        vertical-align: middle;\n",
       "    }\n",
       "\n",
       "    .dataframe tbody tr th {\n",
       "        vertical-align: top;\n",
       "    }\n",
       "\n",
       "    .dataframe thead th {\n",
       "        text-align: right;\n",
       "    }\n",
       "</style>\n",
       "<table border=\"1\" class=\"dataframe\">\n",
       "  <thead>\n",
       "    <tr style=\"text-align: right;\">\n",
       "      <th></th>\n",
       "      <th>Séance</th>\n",
       "      <th>mean_atw</th>\n",
       "      <th>year_month</th>\n",
       "    </tr>\n",
       "  </thead>\n",
       "  <tbody>\n",
       "    <tr>\n",
       "      <th>0</th>\n",
       "      <td>2025-09-30</td>\n",
       "      <td>722.113</td>\n",
       "      <td>2025-09</td>\n",
       "    </tr>\n",
       "    <tr>\n",
       "      <th>1</th>\n",
       "      <td>2025-06-30</td>\n",
       "      <td>669.541</td>\n",
       "      <td>2025-06</td>\n",
       "    </tr>\n",
       "    <tr>\n",
       "      <th>2</th>\n",
       "      <td>2025-03-31</td>\n",
       "      <td>639.156</td>\n",
       "      <td>2025-03</td>\n",
       "    </tr>\n",
       "    <tr>\n",
       "      <th>3</th>\n",
       "      <td>2024-12-31</td>\n",
       "      <td>558.000</td>\n",
       "      <td>2024-12</td>\n",
       "    </tr>\n",
       "    <tr>\n",
       "      <th>4</th>\n",
       "      <td>2024-09-30</td>\n",
       "      <td>534.758</td>\n",
       "      <td>2024-09</td>\n",
       "    </tr>\n",
       "    <tr>\n",
       "      <th>5</th>\n",
       "      <td>2024-06-30</td>\n",
       "      <td>508.644</td>\n",
       "      <td>2024-06</td>\n",
       "    </tr>\n",
       "    <tr>\n",
       "      <th>6</th>\n",
       "      <td>2024-03-31</td>\n",
       "      <td>493.635</td>\n",
       "      <td>2024-03</td>\n",
       "    </tr>\n",
       "    <tr>\n",
       "      <th>7</th>\n",
       "      <td>2023-12-31</td>\n",
       "      <td>462.844</td>\n",
       "      <td>2023-12</td>\n",
       "    </tr>\n",
       "    <tr>\n",
       "      <th>8</th>\n",
       "      <td>2023-09-30</td>\n",
       "      <td>445.633</td>\n",
       "      <td>2023-09</td>\n",
       "    </tr>\n",
       "    <tr>\n",
       "      <th>9</th>\n",
       "      <td>2023-06-30</td>\n",
       "      <td>414.123</td>\n",
       "      <td>2023-06</td>\n",
       "    </tr>\n",
       "    <tr>\n",
       "      <th>10</th>\n",
       "      <td>2023-03-31</td>\n",
       "      <td>386.617</td>\n",
       "      <td>2023-03</td>\n",
       "    </tr>\n",
       "    <tr>\n",
       "      <th>11</th>\n",
       "      <td>2022-12-31</td>\n",
       "      <td>401.183</td>\n",
       "      <td>2022-12</td>\n",
       "    </tr>\n",
       "    <tr>\n",
       "      <th>12</th>\n",
       "      <td>2022-09-30</td>\n",
       "      <td>437.257</td>\n",
       "      <td>2022-09</td>\n",
       "    </tr>\n",
       "  </tbody>\n",
       "</table>\n",
       "</div>"
      ],
      "text/plain": [
       "       Séance  mean_atw year_month\n",
       "0  2025-09-30   722.113    2025-09\n",
       "1  2025-06-30   669.541    2025-06\n",
       "2  2025-03-31   639.156    2025-03\n",
       "3  2024-12-31   558.000    2024-12\n",
       "4  2024-09-30   534.758    2024-09\n",
       "5  2024-06-30   508.644    2024-06\n",
       "6  2024-03-31   493.635    2024-03\n",
       "7  2023-12-31   462.844    2023-12\n",
       "8  2023-09-30   445.633    2023-09\n",
       "9  2023-06-30   414.123    2023-06\n",
       "10 2023-03-31   386.617    2023-03\n",
       "11 2022-12-31   401.183    2022-12\n",
       "12 2022-09-30   437.257    2022-09"
      ]
     },
     "execution_count": 24,
     "metadata": {},
     "output_type": "execute_result"
    }
   ],
   "source": [
    "df_quarterly_mean"
   ]
  },
  {
   "cell_type": "code",
   "execution_count": 25,
   "id": "ac773f22",
   "metadata": {},
   "outputs": [],
   "source": [
    "td = pd.read_excel('BANK AL-MAGHRIB - Historique des décisions.xlsx')"
   ]
  },
  {
   "cell_type": "code",
   "execution_count": 26,
   "id": "3237ef5e",
   "metadata": {},
   "outputs": [
    {
     "data": {
      "application/vnd.microsoft.datawrangler.viewer.v0+json": {
       "columns": [
        {
         "name": "index",
         "rawType": "int64",
         "type": "integer"
        },
        {
         "name": "Date",
         "rawType": "datetime64[ns]",
         "type": "datetime"
        },
        {
         "name": "Taux directeur",
         "rawType": "float64",
         "type": "float"
        }
       ],
       "ref": "f027be0a-6a96-49a4-8107-56900eaea5f0",
       "rows": [
        [
         "0",
         "2025-06-26 00:00:00",
         "0.0225"
        ],
        [
         "1",
         "2025-03-20 00:00:00",
         "0.0225"
        ],
        [
         "2",
         "2024-12-19 00:00:00",
         "0.025"
        ],
        [
         "3",
         "2024-09-26 00:00:00",
         "0.0275"
        ],
        [
         "4",
         "2024-06-27 00:00:00",
         "0.0275"
        ],
        [
         "5",
         "2024-03-21 00:00:00",
         "0.03"
        ],
        [
         "6",
         "2023-12-21 00:00:00",
         "0.03"
        ],
        [
         "7",
         "2023-09-28 00:00:00",
         "0.03"
        ],
        [
         "8",
         "2023-06-22 00:00:00",
         "0.03"
        ],
        [
         "9",
         "2023-03-23 00:00:00",
         "0.03"
        ],
        [
         "10",
         "2022-12-22 00:00:00",
         "0.025"
        ],
        [
         "11",
         "2022-09-27 00:00:00",
         "0.02"
        ],
        [
         "12",
         "2022-06-21 00:00:00",
         "0.015"
        ],
        [
         "13",
         "2022-03-22 00:00:00",
         "0.015"
        ],
        [
         "14",
         "2021-12-21 00:00:00",
         "0.015"
        ],
        [
         "15",
         "2021-06-22 00:00:00",
         "0.015"
        ],
        [
         "16",
         "2021-03-23 00:00:00",
         "0.015"
        ],
        [
         "17",
         "2020-12-15 00:00:00",
         "0.015"
        ],
        [
         "18",
         "2020-09-22 00:00:00",
         "0.015"
        ],
        [
         "19",
         "2020-06-18 00:00:00",
         "0.015"
        ],
        [
         "20",
         "2020-03-17 00:00:00",
         "0.02"
        ],
        [
         "21",
         "2019-12-17 00:00:00",
         "0.0225"
        ],
        [
         "22",
         "2019-09-24 00:00:00",
         "0.0225"
        ],
        [
         "23",
         "2019-06-18 00:00:00",
         "0.0225"
        ],
        [
         "24",
         "2019-03-19 00:00:00",
         "0.0225"
        ],
        [
         "25",
         "2018-12-18 00:00:00",
         "0.0225"
        ],
        [
         "26",
         "2018-09-25 00:00:00",
         "0.0225"
        ],
        [
         "27",
         "2018-06-19 00:00:00",
         "0.0225"
        ],
        [
         "28",
         "2018-03-20 00:00:00",
         "0.0225"
        ],
        [
         "29",
         "2017-12-19 00:00:00",
         "0.0225"
        ],
        [
         "30",
         "2017-09-26 00:00:00",
         "0.0225"
        ],
        [
         "31",
         "2017-06-20 00:00:00",
         "0.0225"
        ],
        [
         "32",
         "2017-03-21 00:00:00",
         "0.0225"
        ],
        [
         "33",
         "2016-12-20 00:00:00",
         "0.0225"
        ],
        [
         "34",
         "2016-09-27 00:00:00",
         "0.0225"
        ],
        [
         "35",
         "2016-06-21 00:00:00",
         "0.0225"
        ],
        [
         "36",
         "2016-03-22 00:00:00",
         "0.0225"
        ],
        [
         "37",
         "2015-12-22 00:00:00",
         "0.025"
        ],
        [
         "38",
         "2015-09-22 00:00:00",
         "0.025"
        ],
        [
         "39",
         "2015-06-16 00:00:00",
         "0.025"
        ],
        [
         "40",
         "2015-03-24 00:00:00",
         "0.025"
        ],
        [
         "41",
         "2014-12-16 00:00:00",
         "0.025"
        ],
        [
         "42",
         "2014-09-23 00:00:00",
         "0.0275"
        ],
        [
         "43",
         "2014-06-17 00:00:00",
         "0.03"
        ],
        [
         "44",
         "2014-03-25 00:00:00",
         "0.03"
        ],
        [
         "45",
         "2013-12-17 00:00:00",
         "0.03"
        ],
        [
         "46",
         "2013-09-24 00:00:00",
         "0.03"
        ],
        [
         "47",
         "2013-06-18 00:00:00",
         "0.03"
        ],
        [
         "48",
         "2013-03-26 00:00:00",
         "0.03"
        ],
        [
         "49",
         "2012-12-18 00:00:00",
         "0.03"
        ]
       ],
       "shape": {
        "columns": 2,
        "rows": 74
       }
      },
      "text/html": [
       "<div>\n",
       "<style scoped>\n",
       "    .dataframe tbody tr th:only-of-type {\n",
       "        vertical-align: middle;\n",
       "    }\n",
       "\n",
       "    .dataframe tbody tr th {\n",
       "        vertical-align: top;\n",
       "    }\n",
       "\n",
       "    .dataframe thead th {\n",
       "        text-align: right;\n",
       "    }\n",
       "</style>\n",
       "<table border=\"1\" class=\"dataframe\">\n",
       "  <thead>\n",
       "    <tr style=\"text-align: right;\">\n",
       "      <th></th>\n",
       "      <th>Date</th>\n",
       "      <th>Taux directeur</th>\n",
       "    </tr>\n",
       "  </thead>\n",
       "  <tbody>\n",
       "    <tr>\n",
       "      <th>0</th>\n",
       "      <td>2025-06-26</td>\n",
       "      <td>0.0225</td>\n",
       "    </tr>\n",
       "    <tr>\n",
       "      <th>1</th>\n",
       "      <td>2025-03-20</td>\n",
       "      <td>0.0225</td>\n",
       "    </tr>\n",
       "    <tr>\n",
       "      <th>2</th>\n",
       "      <td>2024-12-19</td>\n",
       "      <td>0.0250</td>\n",
       "    </tr>\n",
       "    <tr>\n",
       "      <th>3</th>\n",
       "      <td>2024-09-26</td>\n",
       "      <td>0.0275</td>\n",
       "    </tr>\n",
       "    <tr>\n",
       "      <th>4</th>\n",
       "      <td>2024-06-27</td>\n",
       "      <td>0.0275</td>\n",
       "    </tr>\n",
       "    <tr>\n",
       "      <th>...</th>\n",
       "      <td>...</td>\n",
       "      <td>...</td>\n",
       "    </tr>\n",
       "    <tr>\n",
       "      <th>69</th>\n",
       "      <td>2007-12-25</td>\n",
       "      <td>0.0325</td>\n",
       "    </tr>\n",
       "    <tr>\n",
       "      <th>70</th>\n",
       "      <td>2007-09-25</td>\n",
       "      <td>0.0325</td>\n",
       "    </tr>\n",
       "    <tr>\n",
       "      <th>71</th>\n",
       "      <td>2007-06-19</td>\n",
       "      <td>0.0325</td>\n",
       "    </tr>\n",
       "    <tr>\n",
       "      <th>72</th>\n",
       "      <td>2007-03-27</td>\n",
       "      <td>0.0325</td>\n",
       "    </tr>\n",
       "    <tr>\n",
       "      <th>73</th>\n",
       "      <td>2006-12-19</td>\n",
       "      <td>0.0325</td>\n",
       "    </tr>\n",
       "  </tbody>\n",
       "</table>\n",
       "<p>74 rows × 2 columns</p>\n",
       "</div>"
      ],
      "text/plain": [
       "         Date  Taux directeur\n",
       "0  2025-06-26          0.0225\n",
       "1  2025-03-20          0.0225\n",
       "2  2024-12-19          0.0250\n",
       "3  2024-09-26          0.0275\n",
       "4  2024-06-27          0.0275\n",
       "..        ...             ...\n",
       "69 2007-12-25          0.0325\n",
       "70 2007-09-25          0.0325\n",
       "71 2007-06-19          0.0325\n",
       "72 2007-03-27          0.0325\n",
       "73 2006-12-19          0.0325\n",
       "\n",
       "[74 rows x 2 columns]"
      ]
     },
     "execution_count": 26,
     "metadata": {},
     "output_type": "execute_result"
    }
   ],
   "source": [
    "td"
   ]
  },
  {
   "cell_type": "code",
   "execution_count": 27,
   "id": "06b44309",
   "metadata": {},
   "outputs": [],
   "source": [
    "td['Taux directeur'] = td['Taux directeur']*100"
   ]
  },
  {
   "cell_type": "code",
   "execution_count": 28,
   "id": "90184ee2",
   "metadata": {},
   "outputs": [
    {
     "data": {
      "application/vnd.microsoft.datawrangler.viewer.v0+json": {
       "columns": [
        {
         "name": "index",
         "rawType": "int64",
         "type": "integer"
        },
        {
         "name": "Date",
         "rawType": "datetime64[ns]",
         "type": "datetime"
        },
        {
         "name": "Taux directeur",
         "rawType": "float64",
         "type": "float"
        }
       ],
       "ref": "222957ad-b577-4bdf-b121-697689446b92",
       "rows": [
        [
         "0",
         "2025-06-26 00:00:00",
         "2.25"
        ],
        [
         "1",
         "2025-03-20 00:00:00",
         "2.25"
        ],
        [
         "2",
         "2024-12-19 00:00:00",
         "2.5"
        ],
        [
         "3",
         "2024-09-26 00:00:00",
         "2.75"
        ],
        [
         "4",
         "2024-06-27 00:00:00",
         "2.75"
        ],
        [
         "5",
         "2024-03-21 00:00:00",
         "3.0"
        ],
        [
         "6",
         "2023-12-21 00:00:00",
         "3.0"
        ],
        [
         "7",
         "2023-09-28 00:00:00",
         "3.0"
        ],
        [
         "8",
         "2023-06-22 00:00:00",
         "3.0"
        ],
        [
         "9",
         "2023-03-23 00:00:00",
         "3.0"
        ],
        [
         "10",
         "2022-12-22 00:00:00",
         "2.5"
        ],
        [
         "11",
         "2022-09-27 00:00:00",
         "2.0"
        ],
        [
         "12",
         "2022-06-21 00:00:00",
         "1.5"
        ],
        [
         "13",
         "2022-03-22 00:00:00",
         "1.5"
        ],
        [
         "14",
         "2021-12-21 00:00:00",
         "1.5"
        ],
        [
         "15",
         "2021-06-22 00:00:00",
         "1.5"
        ],
        [
         "16",
         "2021-03-23 00:00:00",
         "1.5"
        ],
        [
         "17",
         "2020-12-15 00:00:00",
         "1.5"
        ],
        [
         "18",
         "2020-09-22 00:00:00",
         "1.5"
        ],
        [
         "19",
         "2020-06-18 00:00:00",
         "1.5"
        ],
        [
         "20",
         "2020-03-17 00:00:00",
         "2.0"
        ],
        [
         "21",
         "2019-12-17 00:00:00",
         "2.25"
        ],
        [
         "22",
         "2019-09-24 00:00:00",
         "2.25"
        ],
        [
         "23",
         "2019-06-18 00:00:00",
         "2.25"
        ],
        [
         "24",
         "2019-03-19 00:00:00",
         "2.25"
        ],
        [
         "25",
         "2018-12-18 00:00:00",
         "2.25"
        ],
        [
         "26",
         "2018-09-25 00:00:00",
         "2.25"
        ],
        [
         "27",
         "2018-06-19 00:00:00",
         "2.25"
        ],
        [
         "28",
         "2018-03-20 00:00:00",
         "2.25"
        ],
        [
         "29",
         "2017-12-19 00:00:00",
         "2.25"
        ],
        [
         "30",
         "2017-09-26 00:00:00",
         "2.25"
        ],
        [
         "31",
         "2017-06-20 00:00:00",
         "2.25"
        ],
        [
         "32",
         "2017-03-21 00:00:00",
         "2.25"
        ],
        [
         "33",
         "2016-12-20 00:00:00",
         "2.25"
        ],
        [
         "34",
         "2016-09-27 00:00:00",
         "2.25"
        ],
        [
         "35",
         "2016-06-21 00:00:00",
         "2.25"
        ],
        [
         "36",
         "2016-03-22 00:00:00",
         "2.25"
        ],
        [
         "37",
         "2015-12-22 00:00:00",
         "2.5"
        ],
        [
         "38",
         "2015-09-22 00:00:00",
         "2.5"
        ],
        [
         "39",
         "2015-06-16 00:00:00",
         "2.5"
        ],
        [
         "40",
         "2015-03-24 00:00:00",
         "2.5"
        ],
        [
         "41",
         "2014-12-16 00:00:00",
         "2.5"
        ],
        [
         "42",
         "2014-09-23 00:00:00",
         "2.75"
        ],
        [
         "43",
         "2014-06-17 00:00:00",
         "3.0"
        ],
        [
         "44",
         "2014-03-25 00:00:00",
         "3.0"
        ],
        [
         "45",
         "2013-12-17 00:00:00",
         "3.0"
        ],
        [
         "46",
         "2013-09-24 00:00:00",
         "3.0"
        ],
        [
         "47",
         "2013-06-18 00:00:00",
         "3.0"
        ],
        [
         "48",
         "2013-03-26 00:00:00",
         "3.0"
        ],
        [
         "49",
         "2012-12-18 00:00:00",
         "3.0"
        ]
       ],
       "shape": {
        "columns": 2,
        "rows": 74
       }
      },
      "text/html": [
       "<div>\n",
       "<style scoped>\n",
       "    .dataframe tbody tr th:only-of-type {\n",
       "        vertical-align: middle;\n",
       "    }\n",
       "\n",
       "    .dataframe tbody tr th {\n",
       "        vertical-align: top;\n",
       "    }\n",
       "\n",
       "    .dataframe thead th {\n",
       "        text-align: right;\n",
       "    }\n",
       "</style>\n",
       "<table border=\"1\" class=\"dataframe\">\n",
       "  <thead>\n",
       "    <tr style=\"text-align: right;\">\n",
       "      <th></th>\n",
       "      <th>Date</th>\n",
       "      <th>Taux directeur</th>\n",
       "    </tr>\n",
       "  </thead>\n",
       "  <tbody>\n",
       "    <tr>\n",
       "      <th>0</th>\n",
       "      <td>2025-06-26</td>\n",
       "      <td>2.25</td>\n",
       "    </tr>\n",
       "    <tr>\n",
       "      <th>1</th>\n",
       "      <td>2025-03-20</td>\n",
       "      <td>2.25</td>\n",
       "    </tr>\n",
       "    <tr>\n",
       "      <th>2</th>\n",
       "      <td>2024-12-19</td>\n",
       "      <td>2.50</td>\n",
       "    </tr>\n",
       "    <tr>\n",
       "      <th>3</th>\n",
       "      <td>2024-09-26</td>\n",
       "      <td>2.75</td>\n",
       "    </tr>\n",
       "    <tr>\n",
       "      <th>4</th>\n",
       "      <td>2024-06-27</td>\n",
       "      <td>2.75</td>\n",
       "    </tr>\n",
       "    <tr>\n",
       "      <th>...</th>\n",
       "      <td>...</td>\n",
       "      <td>...</td>\n",
       "    </tr>\n",
       "    <tr>\n",
       "      <th>69</th>\n",
       "      <td>2007-12-25</td>\n",
       "      <td>3.25</td>\n",
       "    </tr>\n",
       "    <tr>\n",
       "      <th>70</th>\n",
       "      <td>2007-09-25</td>\n",
       "      <td>3.25</td>\n",
       "    </tr>\n",
       "    <tr>\n",
       "      <th>71</th>\n",
       "      <td>2007-06-19</td>\n",
       "      <td>3.25</td>\n",
       "    </tr>\n",
       "    <tr>\n",
       "      <th>72</th>\n",
       "      <td>2007-03-27</td>\n",
       "      <td>3.25</td>\n",
       "    </tr>\n",
       "    <tr>\n",
       "      <th>73</th>\n",
       "      <td>2006-12-19</td>\n",
       "      <td>3.25</td>\n",
       "    </tr>\n",
       "  </tbody>\n",
       "</table>\n",
       "<p>74 rows × 2 columns</p>\n",
       "</div>"
      ],
      "text/plain": [
       "         Date  Taux directeur\n",
       "0  2025-06-26            2.25\n",
       "1  2025-03-20            2.25\n",
       "2  2024-12-19            2.50\n",
       "3  2024-09-26            2.75\n",
       "4  2024-06-27            2.75\n",
       "..        ...             ...\n",
       "69 2007-12-25            3.25\n",
       "70 2007-09-25            3.25\n",
       "71 2007-06-19            3.25\n",
       "72 2007-03-27            3.25\n",
       "73 2006-12-19            3.25\n",
       "\n",
       "[74 rows x 2 columns]"
      ]
     },
     "execution_count": 28,
     "metadata": {},
     "output_type": "execute_result"
    }
   ],
   "source": [
    "td"
   ]
  },
  {
   "cell_type": "code",
   "execution_count": 29,
   "id": "b14821c7",
   "metadata": {},
   "outputs": [],
   "source": [
    "td['year_month'] = td['Date'].dt.strftime('%Y-%m')\n"
   ]
  },
  {
   "cell_type": "code",
   "execution_count": 30,
   "id": "d177eb65",
   "metadata": {},
   "outputs": [
    {
     "data": {
      "application/vnd.microsoft.datawrangler.viewer.v0+json": {
       "columns": [
        {
         "name": "index",
         "rawType": "int64",
         "type": "integer"
        },
        {
         "name": "Date",
         "rawType": "datetime64[ns]",
         "type": "datetime"
        },
        {
         "name": "Taux directeur",
         "rawType": "float64",
         "type": "float"
        },
        {
         "name": "year_month",
         "rawType": "object",
         "type": "string"
        }
       ],
       "ref": "f7493dc4-f0e0-4239-a86e-02a8660bc6f9",
       "rows": [
        [
         "0",
         "2025-06-26 00:00:00",
         "2.25",
         "2025-06"
        ],
        [
         "1",
         "2025-03-20 00:00:00",
         "2.25",
         "2025-03"
        ],
        [
         "2",
         "2024-12-19 00:00:00",
         "2.5",
         "2024-12"
        ],
        [
         "3",
         "2024-09-26 00:00:00",
         "2.75",
         "2024-09"
        ],
        [
         "4",
         "2024-06-27 00:00:00",
         "2.75",
         "2024-06"
        ],
        [
         "5",
         "2024-03-21 00:00:00",
         "3.0",
         "2024-03"
        ],
        [
         "6",
         "2023-12-21 00:00:00",
         "3.0",
         "2023-12"
        ],
        [
         "7",
         "2023-09-28 00:00:00",
         "3.0",
         "2023-09"
        ],
        [
         "8",
         "2023-06-22 00:00:00",
         "3.0",
         "2023-06"
        ],
        [
         "9",
         "2023-03-23 00:00:00",
         "3.0",
         "2023-03"
        ],
        [
         "10",
         "2022-12-22 00:00:00",
         "2.5",
         "2022-12"
        ],
        [
         "11",
         "2022-09-27 00:00:00",
         "2.0",
         "2022-09"
        ],
        [
         "12",
         "2022-06-21 00:00:00",
         "1.5",
         "2022-06"
        ],
        [
         "13",
         "2022-03-22 00:00:00",
         "1.5",
         "2022-03"
        ],
        [
         "14",
         "2021-12-21 00:00:00",
         "1.5",
         "2021-12"
        ],
        [
         "15",
         "2021-06-22 00:00:00",
         "1.5",
         "2021-06"
        ],
        [
         "16",
         "2021-03-23 00:00:00",
         "1.5",
         "2021-03"
        ],
        [
         "17",
         "2020-12-15 00:00:00",
         "1.5",
         "2020-12"
        ],
        [
         "18",
         "2020-09-22 00:00:00",
         "1.5",
         "2020-09"
        ],
        [
         "19",
         "2020-06-18 00:00:00",
         "1.5",
         "2020-06"
        ],
        [
         "20",
         "2020-03-17 00:00:00",
         "2.0",
         "2020-03"
        ],
        [
         "21",
         "2019-12-17 00:00:00",
         "2.25",
         "2019-12"
        ],
        [
         "22",
         "2019-09-24 00:00:00",
         "2.25",
         "2019-09"
        ],
        [
         "23",
         "2019-06-18 00:00:00",
         "2.25",
         "2019-06"
        ],
        [
         "24",
         "2019-03-19 00:00:00",
         "2.25",
         "2019-03"
        ],
        [
         "25",
         "2018-12-18 00:00:00",
         "2.25",
         "2018-12"
        ],
        [
         "26",
         "2018-09-25 00:00:00",
         "2.25",
         "2018-09"
        ],
        [
         "27",
         "2018-06-19 00:00:00",
         "2.25",
         "2018-06"
        ],
        [
         "28",
         "2018-03-20 00:00:00",
         "2.25",
         "2018-03"
        ],
        [
         "29",
         "2017-12-19 00:00:00",
         "2.25",
         "2017-12"
        ],
        [
         "30",
         "2017-09-26 00:00:00",
         "2.25",
         "2017-09"
        ],
        [
         "31",
         "2017-06-20 00:00:00",
         "2.25",
         "2017-06"
        ],
        [
         "32",
         "2017-03-21 00:00:00",
         "2.25",
         "2017-03"
        ],
        [
         "33",
         "2016-12-20 00:00:00",
         "2.25",
         "2016-12"
        ],
        [
         "34",
         "2016-09-27 00:00:00",
         "2.25",
         "2016-09"
        ],
        [
         "35",
         "2016-06-21 00:00:00",
         "2.25",
         "2016-06"
        ],
        [
         "36",
         "2016-03-22 00:00:00",
         "2.25",
         "2016-03"
        ],
        [
         "37",
         "2015-12-22 00:00:00",
         "2.5",
         "2015-12"
        ],
        [
         "38",
         "2015-09-22 00:00:00",
         "2.5",
         "2015-09"
        ],
        [
         "39",
         "2015-06-16 00:00:00",
         "2.5",
         "2015-06"
        ],
        [
         "40",
         "2015-03-24 00:00:00",
         "2.5",
         "2015-03"
        ],
        [
         "41",
         "2014-12-16 00:00:00",
         "2.5",
         "2014-12"
        ],
        [
         "42",
         "2014-09-23 00:00:00",
         "2.75",
         "2014-09"
        ],
        [
         "43",
         "2014-06-17 00:00:00",
         "3.0",
         "2014-06"
        ],
        [
         "44",
         "2014-03-25 00:00:00",
         "3.0",
         "2014-03"
        ],
        [
         "45",
         "2013-12-17 00:00:00",
         "3.0",
         "2013-12"
        ],
        [
         "46",
         "2013-09-24 00:00:00",
         "3.0",
         "2013-09"
        ],
        [
         "47",
         "2013-06-18 00:00:00",
         "3.0",
         "2013-06"
        ],
        [
         "48",
         "2013-03-26 00:00:00",
         "3.0",
         "2013-03"
        ],
        [
         "49",
         "2012-12-18 00:00:00",
         "3.0",
         "2012-12"
        ]
       ],
       "shape": {
        "columns": 3,
        "rows": 74
       }
      },
      "text/html": [
       "<div>\n",
       "<style scoped>\n",
       "    .dataframe tbody tr th:only-of-type {\n",
       "        vertical-align: middle;\n",
       "    }\n",
       "\n",
       "    .dataframe tbody tr th {\n",
       "        vertical-align: top;\n",
       "    }\n",
       "\n",
       "    .dataframe thead th {\n",
       "        text-align: right;\n",
       "    }\n",
       "</style>\n",
       "<table border=\"1\" class=\"dataframe\">\n",
       "  <thead>\n",
       "    <tr style=\"text-align: right;\">\n",
       "      <th></th>\n",
       "      <th>Date</th>\n",
       "      <th>Taux directeur</th>\n",
       "      <th>year_month</th>\n",
       "    </tr>\n",
       "  </thead>\n",
       "  <tbody>\n",
       "    <tr>\n",
       "      <th>0</th>\n",
       "      <td>2025-06-26</td>\n",
       "      <td>2.25</td>\n",
       "      <td>2025-06</td>\n",
       "    </tr>\n",
       "    <tr>\n",
       "      <th>1</th>\n",
       "      <td>2025-03-20</td>\n",
       "      <td>2.25</td>\n",
       "      <td>2025-03</td>\n",
       "    </tr>\n",
       "    <tr>\n",
       "      <th>2</th>\n",
       "      <td>2024-12-19</td>\n",
       "      <td>2.50</td>\n",
       "      <td>2024-12</td>\n",
       "    </tr>\n",
       "    <tr>\n",
       "      <th>3</th>\n",
       "      <td>2024-09-26</td>\n",
       "      <td>2.75</td>\n",
       "      <td>2024-09</td>\n",
       "    </tr>\n",
       "    <tr>\n",
       "      <th>4</th>\n",
       "      <td>2024-06-27</td>\n",
       "      <td>2.75</td>\n",
       "      <td>2024-06</td>\n",
       "    </tr>\n",
       "    <tr>\n",
       "      <th>...</th>\n",
       "      <td>...</td>\n",
       "      <td>...</td>\n",
       "      <td>...</td>\n",
       "    </tr>\n",
       "    <tr>\n",
       "      <th>69</th>\n",
       "      <td>2007-12-25</td>\n",
       "      <td>3.25</td>\n",
       "      <td>2007-12</td>\n",
       "    </tr>\n",
       "    <tr>\n",
       "      <th>70</th>\n",
       "      <td>2007-09-25</td>\n",
       "      <td>3.25</td>\n",
       "      <td>2007-09</td>\n",
       "    </tr>\n",
       "    <tr>\n",
       "      <th>71</th>\n",
       "      <td>2007-06-19</td>\n",
       "      <td>3.25</td>\n",
       "      <td>2007-06</td>\n",
       "    </tr>\n",
       "    <tr>\n",
       "      <th>72</th>\n",
       "      <td>2007-03-27</td>\n",
       "      <td>3.25</td>\n",
       "      <td>2007-03</td>\n",
       "    </tr>\n",
       "    <tr>\n",
       "      <th>73</th>\n",
       "      <td>2006-12-19</td>\n",
       "      <td>3.25</td>\n",
       "      <td>2006-12</td>\n",
       "    </tr>\n",
       "  </tbody>\n",
       "</table>\n",
       "<p>74 rows × 3 columns</p>\n",
       "</div>"
      ],
      "text/plain": [
       "         Date  Taux directeur year_month\n",
       "0  2025-06-26            2.25    2025-06\n",
       "1  2025-03-20            2.25    2025-03\n",
       "2  2024-12-19            2.50    2024-12\n",
       "3  2024-09-26            2.75    2024-09\n",
       "4  2024-06-27            2.75    2024-06\n",
       "..        ...             ...        ...\n",
       "69 2007-12-25            3.25    2007-12\n",
       "70 2007-09-25            3.25    2007-09\n",
       "71 2007-06-19            3.25    2007-06\n",
       "72 2007-03-27            3.25    2007-03\n",
       "73 2006-12-19            3.25    2006-12\n",
       "\n",
       "[74 rows x 3 columns]"
      ]
     },
     "execution_count": 30,
     "metadata": {},
     "output_type": "execute_result"
    }
   ],
   "source": [
    "td"
   ]
  },
  {
   "cell_type": "code",
   "execution_count": 31,
   "id": "2f41d827",
   "metadata": {},
   "outputs": [],
   "source": [
    "td = td.query(\"Date >= '2022-09' and Date <= '2026-01'\")"
   ]
  },
  {
   "cell_type": "code",
   "execution_count": 32,
   "id": "a9d736ea",
   "metadata": {},
   "outputs": [
    {
     "data": {
      "application/vnd.microsoft.datawrangler.viewer.v0+json": {
       "columns": [
        {
         "name": "index",
         "rawType": "int64",
         "type": "integer"
        },
        {
         "name": "Date",
         "rawType": "datetime64[ns]",
         "type": "datetime"
        },
        {
         "name": "Taux directeur",
         "rawType": "float64",
         "type": "float"
        },
        {
         "name": "year_month",
         "rawType": "object",
         "type": "string"
        }
       ],
       "ref": "9adb4db4-8963-4450-8f18-8f760af6189d",
       "rows": [
        [
         "0",
         "2025-06-26 00:00:00",
         "2.25",
         "2025-06"
        ],
        [
         "1",
         "2025-03-20 00:00:00",
         "2.25",
         "2025-03"
        ],
        [
         "2",
         "2024-12-19 00:00:00",
         "2.5",
         "2024-12"
        ],
        [
         "3",
         "2024-09-26 00:00:00",
         "2.75",
         "2024-09"
        ],
        [
         "4",
         "2024-06-27 00:00:00",
         "2.75",
         "2024-06"
        ],
        [
         "5",
         "2024-03-21 00:00:00",
         "3.0",
         "2024-03"
        ],
        [
         "6",
         "2023-12-21 00:00:00",
         "3.0",
         "2023-12"
        ],
        [
         "7",
         "2023-09-28 00:00:00",
         "3.0",
         "2023-09"
        ],
        [
         "8",
         "2023-06-22 00:00:00",
         "3.0",
         "2023-06"
        ],
        [
         "9",
         "2023-03-23 00:00:00",
         "3.0",
         "2023-03"
        ],
        [
         "10",
         "2022-12-22 00:00:00",
         "2.5",
         "2022-12"
        ],
        [
         "11",
         "2022-09-27 00:00:00",
         "2.0",
         "2022-09"
        ]
       ],
       "shape": {
        "columns": 3,
        "rows": 12
       }
      },
      "text/html": [
       "<div>\n",
       "<style scoped>\n",
       "    .dataframe tbody tr th:only-of-type {\n",
       "        vertical-align: middle;\n",
       "    }\n",
       "\n",
       "    .dataframe tbody tr th {\n",
       "        vertical-align: top;\n",
       "    }\n",
       "\n",
       "    .dataframe thead th {\n",
       "        text-align: right;\n",
       "    }\n",
       "</style>\n",
       "<table border=\"1\" class=\"dataframe\">\n",
       "  <thead>\n",
       "    <tr style=\"text-align: right;\">\n",
       "      <th></th>\n",
       "      <th>Date</th>\n",
       "      <th>Taux directeur</th>\n",
       "      <th>year_month</th>\n",
       "    </tr>\n",
       "  </thead>\n",
       "  <tbody>\n",
       "    <tr>\n",
       "      <th>0</th>\n",
       "      <td>2025-06-26</td>\n",
       "      <td>2.25</td>\n",
       "      <td>2025-06</td>\n",
       "    </tr>\n",
       "    <tr>\n",
       "      <th>1</th>\n",
       "      <td>2025-03-20</td>\n",
       "      <td>2.25</td>\n",
       "      <td>2025-03</td>\n",
       "    </tr>\n",
       "    <tr>\n",
       "      <th>2</th>\n",
       "      <td>2024-12-19</td>\n",
       "      <td>2.50</td>\n",
       "      <td>2024-12</td>\n",
       "    </tr>\n",
       "    <tr>\n",
       "      <th>3</th>\n",
       "      <td>2024-09-26</td>\n",
       "      <td>2.75</td>\n",
       "      <td>2024-09</td>\n",
       "    </tr>\n",
       "    <tr>\n",
       "      <th>4</th>\n",
       "      <td>2024-06-27</td>\n",
       "      <td>2.75</td>\n",
       "      <td>2024-06</td>\n",
       "    </tr>\n",
       "    <tr>\n",
       "      <th>5</th>\n",
       "      <td>2024-03-21</td>\n",
       "      <td>3.00</td>\n",
       "      <td>2024-03</td>\n",
       "    </tr>\n",
       "    <tr>\n",
       "      <th>6</th>\n",
       "      <td>2023-12-21</td>\n",
       "      <td>3.00</td>\n",
       "      <td>2023-12</td>\n",
       "    </tr>\n",
       "    <tr>\n",
       "      <th>7</th>\n",
       "      <td>2023-09-28</td>\n",
       "      <td>3.00</td>\n",
       "      <td>2023-09</td>\n",
       "    </tr>\n",
       "    <tr>\n",
       "      <th>8</th>\n",
       "      <td>2023-06-22</td>\n",
       "      <td>3.00</td>\n",
       "      <td>2023-06</td>\n",
       "    </tr>\n",
       "    <tr>\n",
       "      <th>9</th>\n",
       "      <td>2023-03-23</td>\n",
       "      <td>3.00</td>\n",
       "      <td>2023-03</td>\n",
       "    </tr>\n",
       "    <tr>\n",
       "      <th>10</th>\n",
       "      <td>2022-12-22</td>\n",
       "      <td>2.50</td>\n",
       "      <td>2022-12</td>\n",
       "    </tr>\n",
       "    <tr>\n",
       "      <th>11</th>\n",
       "      <td>2022-09-27</td>\n",
       "      <td>2.00</td>\n",
       "      <td>2022-09</td>\n",
       "    </tr>\n",
       "  </tbody>\n",
       "</table>\n",
       "</div>"
      ],
      "text/plain": [
       "         Date  Taux directeur year_month\n",
       "0  2025-06-26            2.25    2025-06\n",
       "1  2025-03-20            2.25    2025-03\n",
       "2  2024-12-19            2.50    2024-12\n",
       "3  2024-09-26            2.75    2024-09\n",
       "4  2024-06-27            2.75    2024-06\n",
       "5  2024-03-21            3.00    2024-03\n",
       "6  2023-12-21            3.00    2023-12\n",
       "7  2023-09-28            3.00    2023-09\n",
       "8  2023-06-22            3.00    2023-06\n",
       "9  2023-03-23            3.00    2023-03\n",
       "10 2022-12-22            2.50    2022-12\n",
       "11 2022-09-27            2.00    2022-09"
      ]
     },
     "execution_count": 32,
     "metadata": {},
     "output_type": "execute_result"
    }
   ],
   "source": [
    "td"
   ]
  },
  {
   "cell_type": "code",
   "execution_count": 33,
   "id": "c4115c01",
   "metadata": {},
   "outputs": [
    {
     "data": {
      "application/vnd.microsoft.datawrangler.viewer.v0+json": {
       "columns": [
        {
         "name": "index",
         "rawType": "int64",
         "type": "integer"
        },
        {
         "name": "Séance",
         "rawType": "datetime64[ns]",
         "type": "datetime"
        },
        {
         "name": "mean_atw",
         "rawType": "float64",
         "type": "float"
        },
        {
         "name": "year_month",
         "rawType": "object",
         "type": "string"
        }
       ],
       "ref": "e61b1ef1-288f-434e-9fce-9ec05b5a27a7",
       "rows": [
        [
         "0",
         "2025-09-30 00:00:00",
         "722.113",
         "2025-09"
        ],
        [
         "1",
         "2025-06-30 00:00:00",
         "669.541",
         "2025-06"
        ],
        [
         "2",
         "2025-03-31 00:00:00",
         "639.156",
         "2025-03"
        ],
        [
         "3",
         "2024-12-31 00:00:00",
         "558.0",
         "2024-12"
        ],
        [
         "4",
         "2024-09-30 00:00:00",
         "534.758",
         "2024-09"
        ],
        [
         "5",
         "2024-06-30 00:00:00",
         "508.644",
         "2024-06"
        ],
        [
         "6",
         "2024-03-31 00:00:00",
         "493.635",
         "2024-03"
        ],
        [
         "7",
         "2023-12-31 00:00:00",
         "462.844",
         "2023-12"
        ],
        [
         "8",
         "2023-09-30 00:00:00",
         "445.633",
         "2023-09"
        ],
        [
         "9",
         "2023-06-30 00:00:00",
         "414.123",
         "2023-06"
        ],
        [
         "10",
         "2023-03-31 00:00:00",
         "386.617",
         "2023-03"
        ],
        [
         "11",
         "2022-12-31 00:00:00",
         "401.183",
         "2022-12"
        ],
        [
         "12",
         "2022-09-30 00:00:00",
         "437.257",
         "2022-09"
        ]
       ],
       "shape": {
        "columns": 3,
        "rows": 13
       }
      },
      "text/html": [
       "<div>\n",
       "<style scoped>\n",
       "    .dataframe tbody tr th:only-of-type {\n",
       "        vertical-align: middle;\n",
       "    }\n",
       "\n",
       "    .dataframe tbody tr th {\n",
       "        vertical-align: top;\n",
       "    }\n",
       "\n",
       "    .dataframe thead th {\n",
       "        text-align: right;\n",
       "    }\n",
       "</style>\n",
       "<table border=\"1\" class=\"dataframe\">\n",
       "  <thead>\n",
       "    <tr style=\"text-align: right;\">\n",
       "      <th></th>\n",
       "      <th>Séance</th>\n",
       "      <th>mean_atw</th>\n",
       "      <th>year_month</th>\n",
       "    </tr>\n",
       "  </thead>\n",
       "  <tbody>\n",
       "    <tr>\n",
       "      <th>0</th>\n",
       "      <td>2025-09-30</td>\n",
       "      <td>722.113</td>\n",
       "      <td>2025-09</td>\n",
       "    </tr>\n",
       "    <tr>\n",
       "      <th>1</th>\n",
       "      <td>2025-06-30</td>\n",
       "      <td>669.541</td>\n",
       "      <td>2025-06</td>\n",
       "    </tr>\n",
       "    <tr>\n",
       "      <th>2</th>\n",
       "      <td>2025-03-31</td>\n",
       "      <td>639.156</td>\n",
       "      <td>2025-03</td>\n",
       "    </tr>\n",
       "    <tr>\n",
       "      <th>3</th>\n",
       "      <td>2024-12-31</td>\n",
       "      <td>558.000</td>\n",
       "      <td>2024-12</td>\n",
       "    </tr>\n",
       "    <tr>\n",
       "      <th>4</th>\n",
       "      <td>2024-09-30</td>\n",
       "      <td>534.758</td>\n",
       "      <td>2024-09</td>\n",
       "    </tr>\n",
       "    <tr>\n",
       "      <th>5</th>\n",
       "      <td>2024-06-30</td>\n",
       "      <td>508.644</td>\n",
       "      <td>2024-06</td>\n",
       "    </tr>\n",
       "    <tr>\n",
       "      <th>6</th>\n",
       "      <td>2024-03-31</td>\n",
       "      <td>493.635</td>\n",
       "      <td>2024-03</td>\n",
       "    </tr>\n",
       "    <tr>\n",
       "      <th>7</th>\n",
       "      <td>2023-12-31</td>\n",
       "      <td>462.844</td>\n",
       "      <td>2023-12</td>\n",
       "    </tr>\n",
       "    <tr>\n",
       "      <th>8</th>\n",
       "      <td>2023-09-30</td>\n",
       "      <td>445.633</td>\n",
       "      <td>2023-09</td>\n",
       "    </tr>\n",
       "    <tr>\n",
       "      <th>9</th>\n",
       "      <td>2023-06-30</td>\n",
       "      <td>414.123</td>\n",
       "      <td>2023-06</td>\n",
       "    </tr>\n",
       "    <tr>\n",
       "      <th>10</th>\n",
       "      <td>2023-03-31</td>\n",
       "      <td>386.617</td>\n",
       "      <td>2023-03</td>\n",
       "    </tr>\n",
       "    <tr>\n",
       "      <th>11</th>\n",
       "      <td>2022-12-31</td>\n",
       "      <td>401.183</td>\n",
       "      <td>2022-12</td>\n",
       "    </tr>\n",
       "    <tr>\n",
       "      <th>12</th>\n",
       "      <td>2022-09-30</td>\n",
       "      <td>437.257</td>\n",
       "      <td>2022-09</td>\n",
       "    </tr>\n",
       "  </tbody>\n",
       "</table>\n",
       "</div>"
      ],
      "text/plain": [
       "       Séance  mean_atw year_month\n",
       "0  2025-09-30   722.113    2025-09\n",
       "1  2025-06-30   669.541    2025-06\n",
       "2  2025-03-31   639.156    2025-03\n",
       "3  2024-12-31   558.000    2024-12\n",
       "4  2024-09-30   534.758    2024-09\n",
       "5  2024-06-30   508.644    2024-06\n",
       "6  2024-03-31   493.635    2024-03\n",
       "7  2023-12-31   462.844    2023-12\n",
       "8  2023-09-30   445.633    2023-09\n",
       "9  2023-06-30   414.123    2023-06\n",
       "10 2023-03-31   386.617    2023-03\n",
       "11 2022-12-31   401.183    2022-12\n",
       "12 2022-09-30   437.257    2022-09"
      ]
     },
     "execution_count": 33,
     "metadata": {},
     "output_type": "execute_result"
    }
   ],
   "source": [
    "df_quarterly_mean"
   ]
  },
  {
   "cell_type": "code",
   "execution_count": 34,
   "id": "e700a601",
   "metadata": {},
   "outputs": [],
   "source": [
    "df_quarterly_mean.drop(0,inplace=True)"
   ]
  },
  {
   "cell_type": "code",
   "execution_count": 35,
   "id": "572f64b4",
   "metadata": {},
   "outputs": [
    {
     "data": {
      "application/vnd.microsoft.datawrangler.viewer.v0+json": {
       "columns": [
        {
         "name": "index",
         "rawType": "int64",
         "type": "integer"
        },
        {
         "name": "Séance",
         "rawType": "datetime64[ns]",
         "type": "datetime"
        },
        {
         "name": "mean_atw",
         "rawType": "float64",
         "type": "float"
        },
        {
         "name": "year_month",
         "rawType": "object",
         "type": "string"
        }
       ],
       "ref": "e1322163-c59f-482e-922c-894c48641b73",
       "rows": [
        [
         "1",
         "2025-06-30 00:00:00",
         "669.541",
         "2025-06"
        ],
        [
         "2",
         "2025-03-31 00:00:00",
         "639.156",
         "2025-03"
        ],
        [
         "3",
         "2024-12-31 00:00:00",
         "558.0",
         "2024-12"
        ],
        [
         "4",
         "2024-09-30 00:00:00",
         "534.758",
         "2024-09"
        ],
        [
         "5",
         "2024-06-30 00:00:00",
         "508.644",
         "2024-06"
        ],
        [
         "6",
         "2024-03-31 00:00:00",
         "493.635",
         "2024-03"
        ],
        [
         "7",
         "2023-12-31 00:00:00",
         "462.844",
         "2023-12"
        ],
        [
         "8",
         "2023-09-30 00:00:00",
         "445.633",
         "2023-09"
        ],
        [
         "9",
         "2023-06-30 00:00:00",
         "414.123",
         "2023-06"
        ],
        [
         "10",
         "2023-03-31 00:00:00",
         "386.617",
         "2023-03"
        ],
        [
         "11",
         "2022-12-31 00:00:00",
         "401.183",
         "2022-12"
        ],
        [
         "12",
         "2022-09-30 00:00:00",
         "437.257",
         "2022-09"
        ]
       ],
       "shape": {
        "columns": 3,
        "rows": 12
       }
      },
      "text/html": [
       "<div>\n",
       "<style scoped>\n",
       "    .dataframe tbody tr th:only-of-type {\n",
       "        vertical-align: middle;\n",
       "    }\n",
       "\n",
       "    .dataframe tbody tr th {\n",
       "        vertical-align: top;\n",
       "    }\n",
       "\n",
       "    .dataframe thead th {\n",
       "        text-align: right;\n",
       "    }\n",
       "</style>\n",
       "<table border=\"1\" class=\"dataframe\">\n",
       "  <thead>\n",
       "    <tr style=\"text-align: right;\">\n",
       "      <th></th>\n",
       "      <th>Séance</th>\n",
       "      <th>mean_atw</th>\n",
       "      <th>year_month</th>\n",
       "    </tr>\n",
       "  </thead>\n",
       "  <tbody>\n",
       "    <tr>\n",
       "      <th>1</th>\n",
       "      <td>2025-06-30</td>\n",
       "      <td>669.541</td>\n",
       "      <td>2025-06</td>\n",
       "    </tr>\n",
       "    <tr>\n",
       "      <th>2</th>\n",
       "      <td>2025-03-31</td>\n",
       "      <td>639.156</td>\n",
       "      <td>2025-03</td>\n",
       "    </tr>\n",
       "    <tr>\n",
       "      <th>3</th>\n",
       "      <td>2024-12-31</td>\n",
       "      <td>558.000</td>\n",
       "      <td>2024-12</td>\n",
       "    </tr>\n",
       "    <tr>\n",
       "      <th>4</th>\n",
       "      <td>2024-09-30</td>\n",
       "      <td>534.758</td>\n",
       "      <td>2024-09</td>\n",
       "    </tr>\n",
       "    <tr>\n",
       "      <th>5</th>\n",
       "      <td>2024-06-30</td>\n",
       "      <td>508.644</td>\n",
       "      <td>2024-06</td>\n",
       "    </tr>\n",
       "    <tr>\n",
       "      <th>6</th>\n",
       "      <td>2024-03-31</td>\n",
       "      <td>493.635</td>\n",
       "      <td>2024-03</td>\n",
       "    </tr>\n",
       "    <tr>\n",
       "      <th>7</th>\n",
       "      <td>2023-12-31</td>\n",
       "      <td>462.844</td>\n",
       "      <td>2023-12</td>\n",
       "    </tr>\n",
       "    <tr>\n",
       "      <th>8</th>\n",
       "      <td>2023-09-30</td>\n",
       "      <td>445.633</td>\n",
       "      <td>2023-09</td>\n",
       "    </tr>\n",
       "    <tr>\n",
       "      <th>9</th>\n",
       "      <td>2023-06-30</td>\n",
       "      <td>414.123</td>\n",
       "      <td>2023-06</td>\n",
       "    </tr>\n",
       "    <tr>\n",
       "      <th>10</th>\n",
       "      <td>2023-03-31</td>\n",
       "      <td>386.617</td>\n",
       "      <td>2023-03</td>\n",
       "    </tr>\n",
       "    <tr>\n",
       "      <th>11</th>\n",
       "      <td>2022-12-31</td>\n",
       "      <td>401.183</td>\n",
       "      <td>2022-12</td>\n",
       "    </tr>\n",
       "    <tr>\n",
       "      <th>12</th>\n",
       "      <td>2022-09-30</td>\n",
       "      <td>437.257</td>\n",
       "      <td>2022-09</td>\n",
       "    </tr>\n",
       "  </tbody>\n",
       "</table>\n",
       "</div>"
      ],
      "text/plain": [
       "       Séance  mean_atw year_month\n",
       "1  2025-06-30   669.541    2025-06\n",
       "2  2025-03-31   639.156    2025-03\n",
       "3  2024-12-31   558.000    2024-12\n",
       "4  2024-09-30   534.758    2024-09\n",
       "5  2024-06-30   508.644    2024-06\n",
       "6  2024-03-31   493.635    2024-03\n",
       "7  2023-12-31   462.844    2023-12\n",
       "8  2023-09-30   445.633    2023-09\n",
       "9  2023-06-30   414.123    2023-06\n",
       "10 2023-03-31   386.617    2023-03\n",
       "11 2022-12-31   401.183    2022-12\n",
       "12 2022-09-30   437.257    2022-09"
      ]
     },
     "execution_count": 35,
     "metadata": {},
     "output_type": "execute_result"
    }
   ],
   "source": [
    "df_quarterly_mean"
   ]
  },
  {
   "cell_type": "code",
   "execution_count": 36,
   "id": "f9ceb58b",
   "metadata": {},
   "outputs": [
    {
     "data": {
      "application/vnd.microsoft.datawrangler.viewer.v0+json": {
       "columns": [
        {
         "name": "index",
         "rawType": "int64",
         "type": "integer"
        },
        {
         "name": "Date",
         "rawType": "datetime64[ns]",
         "type": "datetime"
        },
        {
         "name": "Taux directeur",
         "rawType": "float64",
         "type": "float"
        },
        {
         "name": "year_month",
         "rawType": "object",
         "type": "string"
        }
       ],
       "ref": "dfdf60ad-b3aa-4c6d-8871-590b2a4872ea",
       "rows": [
        [
         "0",
         "2025-06-26 00:00:00",
         "2.25",
         "2025-06"
        ],
        [
         "1",
         "2025-03-20 00:00:00",
         "2.25",
         "2025-03"
        ],
        [
         "2",
         "2024-12-19 00:00:00",
         "2.5",
         "2024-12"
        ],
        [
         "3",
         "2024-09-26 00:00:00",
         "2.75",
         "2024-09"
        ],
        [
         "4",
         "2024-06-27 00:00:00",
         "2.75",
         "2024-06"
        ],
        [
         "5",
         "2024-03-21 00:00:00",
         "3.0",
         "2024-03"
        ],
        [
         "6",
         "2023-12-21 00:00:00",
         "3.0",
         "2023-12"
        ],
        [
         "7",
         "2023-09-28 00:00:00",
         "3.0",
         "2023-09"
        ],
        [
         "8",
         "2023-06-22 00:00:00",
         "3.0",
         "2023-06"
        ],
        [
         "9",
         "2023-03-23 00:00:00",
         "3.0",
         "2023-03"
        ],
        [
         "10",
         "2022-12-22 00:00:00",
         "2.5",
         "2022-12"
        ],
        [
         "11",
         "2022-09-27 00:00:00",
         "2.0",
         "2022-09"
        ]
       ],
       "shape": {
        "columns": 3,
        "rows": 12
       }
      },
      "text/html": [
       "<div>\n",
       "<style scoped>\n",
       "    .dataframe tbody tr th:only-of-type {\n",
       "        vertical-align: middle;\n",
       "    }\n",
       "\n",
       "    .dataframe tbody tr th {\n",
       "        vertical-align: top;\n",
       "    }\n",
       "\n",
       "    .dataframe thead th {\n",
       "        text-align: right;\n",
       "    }\n",
       "</style>\n",
       "<table border=\"1\" class=\"dataframe\">\n",
       "  <thead>\n",
       "    <tr style=\"text-align: right;\">\n",
       "      <th></th>\n",
       "      <th>Date</th>\n",
       "      <th>Taux directeur</th>\n",
       "      <th>year_month</th>\n",
       "    </tr>\n",
       "  </thead>\n",
       "  <tbody>\n",
       "    <tr>\n",
       "      <th>0</th>\n",
       "      <td>2025-06-26</td>\n",
       "      <td>2.25</td>\n",
       "      <td>2025-06</td>\n",
       "    </tr>\n",
       "    <tr>\n",
       "      <th>1</th>\n",
       "      <td>2025-03-20</td>\n",
       "      <td>2.25</td>\n",
       "      <td>2025-03</td>\n",
       "    </tr>\n",
       "    <tr>\n",
       "      <th>2</th>\n",
       "      <td>2024-12-19</td>\n",
       "      <td>2.50</td>\n",
       "      <td>2024-12</td>\n",
       "    </tr>\n",
       "    <tr>\n",
       "      <th>3</th>\n",
       "      <td>2024-09-26</td>\n",
       "      <td>2.75</td>\n",
       "      <td>2024-09</td>\n",
       "    </tr>\n",
       "    <tr>\n",
       "      <th>4</th>\n",
       "      <td>2024-06-27</td>\n",
       "      <td>2.75</td>\n",
       "      <td>2024-06</td>\n",
       "    </tr>\n",
       "    <tr>\n",
       "      <th>5</th>\n",
       "      <td>2024-03-21</td>\n",
       "      <td>3.00</td>\n",
       "      <td>2024-03</td>\n",
       "    </tr>\n",
       "    <tr>\n",
       "      <th>6</th>\n",
       "      <td>2023-12-21</td>\n",
       "      <td>3.00</td>\n",
       "      <td>2023-12</td>\n",
       "    </tr>\n",
       "    <tr>\n",
       "      <th>7</th>\n",
       "      <td>2023-09-28</td>\n",
       "      <td>3.00</td>\n",
       "      <td>2023-09</td>\n",
       "    </tr>\n",
       "    <tr>\n",
       "      <th>8</th>\n",
       "      <td>2023-06-22</td>\n",
       "      <td>3.00</td>\n",
       "      <td>2023-06</td>\n",
       "    </tr>\n",
       "    <tr>\n",
       "      <th>9</th>\n",
       "      <td>2023-03-23</td>\n",
       "      <td>3.00</td>\n",
       "      <td>2023-03</td>\n",
       "    </tr>\n",
       "    <tr>\n",
       "      <th>10</th>\n",
       "      <td>2022-12-22</td>\n",
       "      <td>2.50</td>\n",
       "      <td>2022-12</td>\n",
       "    </tr>\n",
       "    <tr>\n",
       "      <th>11</th>\n",
       "      <td>2022-09-27</td>\n",
       "      <td>2.00</td>\n",
       "      <td>2022-09</td>\n",
       "    </tr>\n",
       "  </tbody>\n",
       "</table>\n",
       "</div>"
      ],
      "text/plain": [
       "         Date  Taux directeur year_month\n",
       "0  2025-06-26            2.25    2025-06\n",
       "1  2025-03-20            2.25    2025-03\n",
       "2  2024-12-19            2.50    2024-12\n",
       "3  2024-09-26            2.75    2024-09\n",
       "4  2024-06-27            2.75    2024-06\n",
       "5  2024-03-21            3.00    2024-03\n",
       "6  2023-12-21            3.00    2023-12\n",
       "7  2023-09-28            3.00    2023-09\n",
       "8  2023-06-22            3.00    2023-06\n",
       "9  2023-03-23            3.00    2023-03\n",
       "10 2022-12-22            2.50    2022-12\n",
       "11 2022-09-27            2.00    2022-09"
      ]
     },
     "execution_count": 36,
     "metadata": {},
     "output_type": "execute_result"
    }
   ],
   "source": [
    "td"
   ]
  },
  {
   "cell_type": "code",
   "execution_count": 37,
   "id": "d68bdc9d",
   "metadata": {},
   "outputs": [],
   "source": [
    "table = td.merge(df_quarterly_mean,how= 'outer', on= 'year_month')"
   ]
  },
  {
   "cell_type": "code",
   "execution_count": 38,
   "id": "8bdb2c4f",
   "metadata": {},
   "outputs": [
    {
     "data": {
      "application/vnd.microsoft.datawrangler.viewer.v0+json": {
       "columns": [
        {
         "name": "index",
         "rawType": "int64",
         "type": "integer"
        },
        {
         "name": "Date",
         "rawType": "datetime64[ns]",
         "type": "datetime"
        },
        {
         "name": "Taux directeur",
         "rawType": "float64",
         "type": "float"
        },
        {
         "name": "year_month",
         "rawType": "object",
         "type": "string"
        },
        {
         "name": "Séance",
         "rawType": "datetime64[ns]",
         "type": "datetime"
        },
        {
         "name": "mean_atw",
         "rawType": "float64",
         "type": "float"
        }
       ],
       "ref": "b4a35f01-2557-417a-8b1f-26ffd1a0f212",
       "rows": [
        [
         "0",
         "2022-09-27 00:00:00",
         "2.0",
         "2022-09",
         "2022-09-30 00:00:00",
         "437.257"
        ],
        [
         "1",
         "2022-12-22 00:00:00",
         "2.5",
         "2022-12",
         "2022-12-31 00:00:00",
         "401.183"
        ],
        [
         "2",
         "2023-03-23 00:00:00",
         "3.0",
         "2023-03",
         "2023-03-31 00:00:00",
         "386.617"
        ],
        [
         "3",
         "2023-06-22 00:00:00",
         "3.0",
         "2023-06",
         "2023-06-30 00:00:00",
         "414.123"
        ],
        [
         "4",
         "2023-09-28 00:00:00",
         "3.0",
         "2023-09",
         "2023-09-30 00:00:00",
         "445.633"
        ],
        [
         "5",
         "2023-12-21 00:00:00",
         "3.0",
         "2023-12",
         "2023-12-31 00:00:00",
         "462.844"
        ],
        [
         "6",
         "2024-03-21 00:00:00",
         "3.0",
         "2024-03",
         "2024-03-31 00:00:00",
         "493.635"
        ],
        [
         "7",
         "2024-06-27 00:00:00",
         "2.75",
         "2024-06",
         "2024-06-30 00:00:00",
         "508.644"
        ],
        [
         "8",
         "2024-09-26 00:00:00",
         "2.75",
         "2024-09",
         "2024-09-30 00:00:00",
         "534.758"
        ],
        [
         "9",
         "2024-12-19 00:00:00",
         "2.5",
         "2024-12",
         "2024-12-31 00:00:00",
         "558.0"
        ],
        [
         "10",
         "2025-03-20 00:00:00",
         "2.25",
         "2025-03",
         "2025-03-31 00:00:00",
         "639.156"
        ],
        [
         "11",
         "2025-06-26 00:00:00",
         "2.25",
         "2025-06",
         "2025-06-30 00:00:00",
         "669.541"
        ]
       ],
       "shape": {
        "columns": 5,
        "rows": 12
       }
      },
      "text/html": [
       "<div>\n",
       "<style scoped>\n",
       "    .dataframe tbody tr th:only-of-type {\n",
       "        vertical-align: middle;\n",
       "    }\n",
       "\n",
       "    .dataframe tbody tr th {\n",
       "        vertical-align: top;\n",
       "    }\n",
       "\n",
       "    .dataframe thead th {\n",
       "        text-align: right;\n",
       "    }\n",
       "</style>\n",
       "<table border=\"1\" class=\"dataframe\">\n",
       "  <thead>\n",
       "    <tr style=\"text-align: right;\">\n",
       "      <th></th>\n",
       "      <th>Date</th>\n",
       "      <th>Taux directeur</th>\n",
       "      <th>year_month</th>\n",
       "      <th>Séance</th>\n",
       "      <th>mean_atw</th>\n",
       "    </tr>\n",
       "  </thead>\n",
       "  <tbody>\n",
       "    <tr>\n",
       "      <th>0</th>\n",
       "      <td>2022-09-27</td>\n",
       "      <td>2.00</td>\n",
       "      <td>2022-09</td>\n",
       "      <td>2022-09-30</td>\n",
       "      <td>437.257</td>\n",
       "    </tr>\n",
       "    <tr>\n",
       "      <th>1</th>\n",
       "      <td>2022-12-22</td>\n",
       "      <td>2.50</td>\n",
       "      <td>2022-12</td>\n",
       "      <td>2022-12-31</td>\n",
       "      <td>401.183</td>\n",
       "    </tr>\n",
       "    <tr>\n",
       "      <th>2</th>\n",
       "      <td>2023-03-23</td>\n",
       "      <td>3.00</td>\n",
       "      <td>2023-03</td>\n",
       "      <td>2023-03-31</td>\n",
       "      <td>386.617</td>\n",
       "    </tr>\n",
       "    <tr>\n",
       "      <th>3</th>\n",
       "      <td>2023-06-22</td>\n",
       "      <td>3.00</td>\n",
       "      <td>2023-06</td>\n",
       "      <td>2023-06-30</td>\n",
       "      <td>414.123</td>\n",
       "    </tr>\n",
       "    <tr>\n",
       "      <th>4</th>\n",
       "      <td>2023-09-28</td>\n",
       "      <td>3.00</td>\n",
       "      <td>2023-09</td>\n",
       "      <td>2023-09-30</td>\n",
       "      <td>445.633</td>\n",
       "    </tr>\n",
       "    <tr>\n",
       "      <th>5</th>\n",
       "      <td>2023-12-21</td>\n",
       "      <td>3.00</td>\n",
       "      <td>2023-12</td>\n",
       "      <td>2023-12-31</td>\n",
       "      <td>462.844</td>\n",
       "    </tr>\n",
       "    <tr>\n",
       "      <th>6</th>\n",
       "      <td>2024-03-21</td>\n",
       "      <td>3.00</td>\n",
       "      <td>2024-03</td>\n",
       "      <td>2024-03-31</td>\n",
       "      <td>493.635</td>\n",
       "    </tr>\n",
       "    <tr>\n",
       "      <th>7</th>\n",
       "      <td>2024-06-27</td>\n",
       "      <td>2.75</td>\n",
       "      <td>2024-06</td>\n",
       "      <td>2024-06-30</td>\n",
       "      <td>508.644</td>\n",
       "    </tr>\n",
       "    <tr>\n",
       "      <th>8</th>\n",
       "      <td>2024-09-26</td>\n",
       "      <td>2.75</td>\n",
       "      <td>2024-09</td>\n",
       "      <td>2024-09-30</td>\n",
       "      <td>534.758</td>\n",
       "    </tr>\n",
       "    <tr>\n",
       "      <th>9</th>\n",
       "      <td>2024-12-19</td>\n",
       "      <td>2.50</td>\n",
       "      <td>2024-12</td>\n",
       "      <td>2024-12-31</td>\n",
       "      <td>558.000</td>\n",
       "    </tr>\n",
       "    <tr>\n",
       "      <th>10</th>\n",
       "      <td>2025-03-20</td>\n",
       "      <td>2.25</td>\n",
       "      <td>2025-03</td>\n",
       "      <td>2025-03-31</td>\n",
       "      <td>639.156</td>\n",
       "    </tr>\n",
       "    <tr>\n",
       "      <th>11</th>\n",
       "      <td>2025-06-26</td>\n",
       "      <td>2.25</td>\n",
       "      <td>2025-06</td>\n",
       "      <td>2025-06-30</td>\n",
       "      <td>669.541</td>\n",
       "    </tr>\n",
       "  </tbody>\n",
       "</table>\n",
       "</div>"
      ],
      "text/plain": [
       "         Date  Taux directeur year_month     Séance  mean_atw\n",
       "0  2022-09-27            2.00    2022-09 2022-09-30   437.257\n",
       "1  2022-12-22            2.50    2022-12 2022-12-31   401.183\n",
       "2  2023-03-23            3.00    2023-03 2023-03-31   386.617\n",
       "3  2023-06-22            3.00    2023-06 2023-06-30   414.123\n",
       "4  2023-09-28            3.00    2023-09 2023-09-30   445.633\n",
       "5  2023-12-21            3.00    2023-12 2023-12-31   462.844\n",
       "6  2024-03-21            3.00    2024-03 2024-03-31   493.635\n",
       "7  2024-06-27            2.75    2024-06 2024-06-30   508.644\n",
       "8  2024-09-26            2.75    2024-09 2024-09-30   534.758\n",
       "9  2024-12-19            2.50    2024-12 2024-12-31   558.000\n",
       "10 2025-03-20            2.25    2025-03 2025-03-31   639.156\n",
       "11 2025-06-26            2.25    2025-06 2025-06-30   669.541"
      ]
     },
     "execution_count": 38,
     "metadata": {},
     "output_type": "execute_result"
    }
   ],
   "source": [
    "table"
   ]
  },
  {
   "cell_type": "code",
   "execution_count": 39,
   "id": "0dc572c5",
   "metadata": {},
   "outputs": [],
   "source": [
    "table.drop(columns=['Date','Séance'],inplace=True)"
   ]
  },
  {
   "cell_type": "code",
   "execution_count": 40,
   "id": "0ab8b5c3",
   "metadata": {},
   "outputs": [],
   "source": [
    "table = table[['year_month','Taux directeur','mean_atw']]"
   ]
  },
  {
   "cell_type": "code",
   "execution_count": 41,
   "id": "104b7ab6",
   "metadata": {},
   "outputs": [
    {
     "data": {
      "application/vnd.microsoft.datawrangler.viewer.v0+json": {
       "columns": [
        {
         "name": "index",
         "rawType": "int64",
         "type": "integer"
        },
        {
         "name": "year_month",
         "rawType": "object",
         "type": "string"
        },
        {
         "name": "Taux directeur",
         "rawType": "float64",
         "type": "float"
        },
        {
         "name": "mean_atw",
         "rawType": "float64",
         "type": "float"
        }
       ],
       "ref": "b6496e8b-37b8-418a-b414-3e4ecdc631fa",
       "rows": [
        [
         "0",
         "2022-09",
         "2.0",
         "437.257"
        ],
        [
         "1",
         "2022-12",
         "2.5",
         "401.183"
        ],
        [
         "2",
         "2023-03",
         "3.0",
         "386.617"
        ],
        [
         "3",
         "2023-06",
         "3.0",
         "414.123"
        ],
        [
         "4",
         "2023-09",
         "3.0",
         "445.633"
        ],
        [
         "5",
         "2023-12",
         "3.0",
         "462.844"
        ],
        [
         "6",
         "2024-03",
         "3.0",
         "493.635"
        ],
        [
         "7",
         "2024-06",
         "2.75",
         "508.644"
        ],
        [
         "8",
         "2024-09",
         "2.75",
         "534.758"
        ],
        [
         "9",
         "2024-12",
         "2.5",
         "558.0"
        ],
        [
         "10",
         "2025-03",
         "2.25",
         "639.156"
        ],
        [
         "11",
         "2025-06",
         "2.25",
         "669.541"
        ]
       ],
       "shape": {
        "columns": 3,
        "rows": 12
       }
      },
      "text/html": [
       "<div>\n",
       "<style scoped>\n",
       "    .dataframe tbody tr th:only-of-type {\n",
       "        vertical-align: middle;\n",
       "    }\n",
       "\n",
       "    .dataframe tbody tr th {\n",
       "        vertical-align: top;\n",
       "    }\n",
       "\n",
       "    .dataframe thead th {\n",
       "        text-align: right;\n",
       "    }\n",
       "</style>\n",
       "<table border=\"1\" class=\"dataframe\">\n",
       "  <thead>\n",
       "    <tr style=\"text-align: right;\">\n",
       "      <th></th>\n",
       "      <th>year_month</th>\n",
       "      <th>Taux directeur</th>\n",
       "      <th>mean_atw</th>\n",
       "    </tr>\n",
       "  </thead>\n",
       "  <tbody>\n",
       "    <tr>\n",
       "      <th>0</th>\n",
       "      <td>2022-09</td>\n",
       "      <td>2.00</td>\n",
       "      <td>437.257</td>\n",
       "    </tr>\n",
       "    <tr>\n",
       "      <th>1</th>\n",
       "      <td>2022-12</td>\n",
       "      <td>2.50</td>\n",
       "      <td>401.183</td>\n",
       "    </tr>\n",
       "    <tr>\n",
       "      <th>2</th>\n",
       "      <td>2023-03</td>\n",
       "      <td>3.00</td>\n",
       "      <td>386.617</td>\n",
       "    </tr>\n",
       "    <tr>\n",
       "      <th>3</th>\n",
       "      <td>2023-06</td>\n",
       "      <td>3.00</td>\n",
       "      <td>414.123</td>\n",
       "    </tr>\n",
       "    <tr>\n",
       "      <th>4</th>\n",
       "      <td>2023-09</td>\n",
       "      <td>3.00</td>\n",
       "      <td>445.633</td>\n",
       "    </tr>\n",
       "    <tr>\n",
       "      <th>5</th>\n",
       "      <td>2023-12</td>\n",
       "      <td>3.00</td>\n",
       "      <td>462.844</td>\n",
       "    </tr>\n",
       "    <tr>\n",
       "      <th>6</th>\n",
       "      <td>2024-03</td>\n",
       "      <td>3.00</td>\n",
       "      <td>493.635</td>\n",
       "    </tr>\n",
       "    <tr>\n",
       "      <th>7</th>\n",
       "      <td>2024-06</td>\n",
       "      <td>2.75</td>\n",
       "      <td>508.644</td>\n",
       "    </tr>\n",
       "    <tr>\n",
       "      <th>8</th>\n",
       "      <td>2024-09</td>\n",
       "      <td>2.75</td>\n",
       "      <td>534.758</td>\n",
       "    </tr>\n",
       "    <tr>\n",
       "      <th>9</th>\n",
       "      <td>2024-12</td>\n",
       "      <td>2.50</td>\n",
       "      <td>558.000</td>\n",
       "    </tr>\n",
       "    <tr>\n",
       "      <th>10</th>\n",
       "      <td>2025-03</td>\n",
       "      <td>2.25</td>\n",
       "      <td>639.156</td>\n",
       "    </tr>\n",
       "    <tr>\n",
       "      <th>11</th>\n",
       "      <td>2025-06</td>\n",
       "      <td>2.25</td>\n",
       "      <td>669.541</td>\n",
       "    </tr>\n",
       "  </tbody>\n",
       "</table>\n",
       "</div>"
      ],
      "text/plain": [
       "   year_month  Taux directeur  mean_atw\n",
       "0     2022-09            2.00   437.257\n",
       "1     2022-12            2.50   401.183\n",
       "2     2023-03            3.00   386.617\n",
       "3     2023-06            3.00   414.123\n",
       "4     2023-09            3.00   445.633\n",
       "5     2023-12            3.00   462.844\n",
       "6     2024-03            3.00   493.635\n",
       "7     2024-06            2.75   508.644\n",
       "8     2024-09            2.75   534.758\n",
       "9     2024-12            2.50   558.000\n",
       "10    2025-03            2.25   639.156\n",
       "11    2025-06            2.25   669.541"
      ]
     },
     "execution_count": 41,
     "metadata": {},
     "output_type": "execute_result"
    }
   ],
   "source": [
    "table"
   ]
  },
  {
   "cell_type": "code",
   "execution_count": 59,
   "id": "056762a3",
   "metadata": {},
   "outputs": [
    {
     "data": {
      "application/vnd.microsoft.datawrangler.viewer.v0+json": {
       "columns": [
        {
         "name": "index",
         "rawType": "object",
         "type": "string"
        },
        {
         "name": "Taux directeur",
         "rawType": "float64",
         "type": "float"
        },
        {
         "name": "mean_atw",
         "rawType": "float64",
         "type": "float"
        }
       ],
       "ref": "26a5b637-5757-49f3-b080-59bceaf74a7e",
       "rows": [
        [
         "Taux directeur",
         "1.0",
         "-0.4889371454763777"
        ],
        [
         "mean_atw",
         "-0.4889371454763777",
         "1.0"
        ]
       ],
       "shape": {
        "columns": 2,
        "rows": 2
       }
      },
      "text/html": [
       "<div>\n",
       "<style scoped>\n",
       "    .dataframe tbody tr th:only-of-type {\n",
       "        vertical-align: middle;\n",
       "    }\n",
       "\n",
       "    .dataframe tbody tr th {\n",
       "        vertical-align: top;\n",
       "    }\n",
       "\n",
       "    .dataframe thead th {\n",
       "        text-align: right;\n",
       "    }\n",
       "</style>\n",
       "<table border=\"1\" class=\"dataframe\">\n",
       "  <thead>\n",
       "    <tr style=\"text-align: right;\">\n",
       "      <th></th>\n",
       "      <th>Taux directeur</th>\n",
       "      <th>mean_atw</th>\n",
       "    </tr>\n",
       "  </thead>\n",
       "  <tbody>\n",
       "    <tr>\n",
       "      <th>Taux directeur</th>\n",
       "      <td>1.000000</td>\n",
       "      <td>-0.488937</td>\n",
       "    </tr>\n",
       "    <tr>\n",
       "      <th>mean_atw</th>\n",
       "      <td>-0.488937</td>\n",
       "      <td>1.000000</td>\n",
       "    </tr>\n",
       "  </tbody>\n",
       "</table>\n",
       "</div>"
      ],
      "text/plain": [
       "                Taux directeur  mean_atw\n",
       "Taux directeur        1.000000 -0.488937\n",
       "mean_atw             -0.488937  1.000000"
      ]
     },
     "execution_count": 59,
     "metadata": {},
     "output_type": "execute_result"
    }
   ],
   "source": [
    "table[['Taux directeur','mean_atw']].corr('pearson')"
   ]
  },
  {
   "cell_type": "code",
   "execution_count": null,
   "id": "a74339e5",
   "metadata": {},
   "outputs": [],
   "source": []
  }
 ],
 "metadata": {
  "kernelspec": {
   "display_name": "Python 3",
   "language": "python",
   "name": "python3"
  },
  "language_info": {
   "codemirror_mode": {
    "name": "ipython",
    "version": 3
   },
   "file_extension": ".py",
   "mimetype": "text/x-python",
   "name": "python",
   "nbconvert_exporter": "python",
   "pygments_lexer": "ipython3",
   "version": "3.12.3"
  }
 },
 "nbformat": 4,
 "nbformat_minor": 5
}
